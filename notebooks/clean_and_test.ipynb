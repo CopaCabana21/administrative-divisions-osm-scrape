{
 "cells": [
  {
   "cell_type": "markdown",
   "id": "5c3a035e",
   "metadata": {},
   "source": [
    "# Init"
   ]
  },
  {
   "cell_type": "code",
   "execution_count": null,
   "id": "43721fab",
   "metadata": {},
   "outputs": [],
   "source": [
    "# init\n",
    "from importlib import reload\n",
    "from pprint import pprint\n",
    "import os\n",
    "import sys\n",
    "from pathlib import Path\n",
    "import pandas as pd\n",
    "def reloadPckg():\n",
    "    reload(tgm)\n",
    "    reload(too)\n",
    "    reload(testbasic)\n",
    "\n",
    "sys.path.append('..')\n",
    "sys.path.append('../tools')\n",
    "devPath = \"C:/Users/gonta/D/software developer/\"\n",
    "sys.path.append(os.path.join(devPath, \"packages\"))\n",
    "\n",
    "\n",
    "import tests.osm_test as testbasic\n",
    "import toolsGeneral.main as tgm\n",
    "import toolsOSM.overpass as too"
   ]
  },
  {
   "cell_type": "code",
   "execution_count": 70,
   "id": "e3807cd2",
   "metadata": {},
   "outputs": [
    {
     "data": {
      "text/plain": [
       "241"
      ]
     },
     "execution_count": 70,
     "metadata": {},
     "output_type": "execute_result"
    }
   ],
   "source": [
    "# init\n",
    "osm_meta = tgm.load(r\"C:\\Users\\gonta\\D\\study\\full stack\\projects\\administrative divisions query - levels scrape\\OSM\\get countries ids and add labels\\data\\osmMetaCountrDict.json\")\n",
    "len(osm_meta)"
   ]
  },
  {
   "cell_type": "code",
   "execution_count": 1,
   "id": "17b86970",
   "metadata": {},
   "outputs": [
    {
     "data": {
      "text/plain": [
       "241"
      ]
     },
     "execution_count": 1,
     "metadata": {},
     "output_type": "execute_result"
    }
   ],
   "source": [
    "from tools.logger_config import get_logger"
   ]
  },
  {
   "cell_type": "markdown",
   "id": "a9280904",
   "metadata": {},
   "source": [
    "# Cleaning and normalize"
   ]
  },
  {
   "cell_type": "markdown",
   "id": "e4cf4e95",
   "metadata": {},
   "source": [
    "## import"
   ]
  },
  {
   "cell_type": "code",
   "execution_count": 1,
   "id": "8971491b",
   "metadata": {},
   "outputs": [
    {
     "data": {
      "text/plain": [
       "241"
      ]
     },
     "execution_count": 1,
     "metadata": {},
     "output_type": "execute_result"
    },
    {
     "name": "stdout",
     "output_type": "stream",
     "text": [
      "76\n"
     ]
    }
   ],
   "source": [
    "dataDir = Path(os.path.join(os.getcwd(), '..', 'data', 'raw', 'osm countries queries'))\n",
    "rawFiles = [f for f in dataDir.rglob('*.json')]\n",
    "\n",
    "rawByCntr = {\n",
    "    file.parent.name:tgm.load(str(file))['elements']\n",
    "    for file in rawFiles\n",
    "}\n",
    "print(len(rawByCntr))"
   ]
  },
  {
   "cell_type": "code",
   "execution_count": 152,
   "id": "bbec24e0",
   "metadata": {},
   "outputs": [
    {
     "name": "stdout",
     "output_type": "stream",
     "text": [
      "{'Albania': 390,\n",
      " 'Algeria': 2148,\n",
      " 'Andorra': 1,\n",
      " 'Australia': 616,\n",
      " 'Austria': 2178,\n",
      " 'Austria--Liechtenstein': 1,\n",
      " 'Austria-Switzerland': 1,\n",
      " 'Bangladesh': 453,\n",
      " 'Belarus': 1431,\n",
      " 'Belgium': 4351,\n",
      " 'Bhutan': 1191,\n",
      " 'Brazil': 792,\n",
      " 'Bulgaria': 113,\n",
      " 'Cambodia': 316,\n",
      " 'Chile': 420,\n",
      " 'Colombia': 3806,\n",
      " 'Czechia': 6281,\n",
      " 'Denmark': 6,\n",
      " 'Ecuador': 1240,\n",
      " 'Estonia': 1,\n",
      " 'Eswatini': 58,\n",
      " 'FaroeIslands': 1,\n",
      " 'Finland': 20,\n",
      " 'France-Andorra': 1,\n",
      " 'France-Belgium': 1,\n",
      " 'France-Germany': 1,\n",
      " 'France-Italy': 1,\n",
      " 'France-Luxembourg': 1,\n",
      " 'France-Monaco': 1,\n",
      " 'France-Spain': 1,\n",
      " 'France-Switzerland': 1,\n",
      " 'Georgia': 163,\n",
      " 'Germany': 11264,\n",
      " 'Germany--Switzerland': 1,\n",
      " 'Germany-Austria': 1,\n",
      " 'Greece': 589,\n",
      " 'Guinea': 90,\n",
      " 'Guinea-bissau': 47,\n",
      " 'Hungary': 3179,\n",
      " 'Ireland': 1,\n",
      " 'IsleOfMan': 1,\n",
      " 'Jordan': 106,\n",
      " 'Kyrgyzstan': 68,\n",
      " 'Laos': 170,\n",
      " 'Latvia': 1,\n",
      " 'Lebanon': 36,\n",
      " 'Libya': 24,\n",
      " 'Lithuania': 4997,\n",
      " 'Mauritania': 26,\n",
      " 'Mexico': 3129,\n",
      " 'Moldova': 38,\n",
      " 'Mongolia': 363,\n",
      " 'Montenegro': 1,\n",
      " 'Myanmar': 168,\n",
      " 'Nepal': 85,\n",
      " 'NorthKorea': 291,\n",
      " 'NorthMacedonia': 1,\n",
      " 'Poland': 26609,\n",
      " 'Romania': 43,\n",
      " 'Russia': 17191,\n",
      " 'Rwanda': 422,\n",
      " 'SanMarino': 1,\n",
      " 'Senegal': 15,\n",
      " 'SierraLeone': 21,\n",
      " 'Slovakia': 21,\n",
      " 'SouthAfrica': 288,\n",
      " 'Sweden': 22,\n",
      " 'Switzerland': 2049,\n",
      " 'Syria': 306,\n",
      " 'TheGambia': 39,\n",
      " 'Tunisia': 2108,\n",
      " 'Turkey': 14002,\n",
      " 'Ukraine': 906,\n",
      " 'UnitedKingdom': 311,\n",
      " 'VaticanCity': 1,\n",
      " 'Vietnam': 3732}\n"
     ]
    }
   ],
   "source": [
    "pprint({k:len(v) for k,v in rawByCntr.items()})"
   ]
  },
  {
   "cell_type": "markdown",
   "id": "32dd5750",
   "metadata": {},
   "source": [
    "## use only sovereign countries"
   ]
  },
  {
   "cell_type": "code",
   "execution_count": 2,
   "id": "913ed46c",
   "metadata": {},
   "outputs": [
    {
     "data": {
      "text/plain": [
       "214"
      ]
     },
     "execution_count": 2,
     "metadata": {},
     "output_type": "execute_result"
    }
   ],
   "source": [
    "sovereign_countries = tgm.load(os.path.join('..', 'data', 'sovereign countries.json'))\n",
    "len(sovereign_countries)"
   ]
  },
  {
   "cell_type": "code",
   "execution_count": 4,
   "id": "7e11c037",
   "metadata": {},
   "outputs": [
    {
     "data": {
      "text/plain": [
       "64"
      ]
     },
     "execution_count": 4,
     "metadata": {},
     "output_type": "execute_result"
    }
   ],
   "source": [
    "df_by_cntr = {k:elems for k,elems in rawByCntr.items() if k in sovereign_countries}\n",
    "len(df_by_cntr)"
   ]
  },
  {
   "cell_type": "markdown",
   "id": "e1a66c20",
   "metadata": {},
   "source": [
    "## normalize"
   ]
  },
  {
   "cell_type": "code",
   "execution_count": 5,
   "id": "a0cc71dc",
   "metadata": {},
   "outputs": [
    {
     "data": {
      "text/plain": [
       "64"
      ]
     },
     "execution_count": 5,
     "metadata": {},
     "output_type": "execute_result"
    }
   ],
   "source": [
    "df_by_cntr = {k:too.normalizeOSM(elems) for k,elems in df_by_cntr.items()}\n",
    "len(df_by_cntr)"
   ]
  },
  {
   "cell_type": "code",
   "execution_count": 6,
   "id": "51bd96dd",
   "metadata": {},
   "outputs": [
    {
     "name": "stdout",
     "output_type": "stream",
     "text": [
      "['Albania', 'Shqipëria']\n",
      "['Algeria', 'Algérie ⵍⵣⵣⴰⵢⴻⵔ الجزائر']\n",
      "['Andorra', 'Andorra']\n",
      "['Australia', 'Australia']\n",
      "['Austria', 'Österreich']\n",
      "['Bangladesh', 'বাংলাদেশ']\n",
      "['Belarus', 'Беларусь']\n",
      "['Belgium', 'België / Belgique / Belgien']\n",
      "['Bhutan', 'འབྲུག་ཡུལ།']\n",
      "['Brazil', 'Brasil']\n",
      "['Bulgaria', 'България']\n",
      "['Cambodia', 'ព្រះរាជាណាចក្រ\\u200bកម្ពុជា']\n",
      "['Chile', 'Chile']\n",
      "['Colombia', 'Colombia']\n",
      "['Czechia', 'Česko']\n",
      "['Denmark', 'Danmark']\n",
      "['Ecuador', 'Ecuador']\n",
      "['Estonia', 'Eesti']\n",
      "['Eswatini', 'Eswatini']\n",
      "['FaroeIslands', 'Føroyar']\n",
      "['Finland', 'Suomi / Finland']\n",
      "['Georgia', 'საქართველო']\n",
      "['Germany', 'Deutschland']\n",
      "['Greece', 'Ελλάς']\n",
      "['Guinea', 'Guinée']\n",
      "['Guinea-bissau', 'Guiné-Bissau']\n",
      "['Hungary', 'Magyarország']\n",
      "['Ireland', 'Éire / Ireland']\n",
      "['IsleOfMan', 'Isle of Man']\n",
      "['Jordan', 'الأردن']\n",
      "['Kyrgyzstan', 'Кыргызстан']\n",
      "['Laos', 'ປະເທດລາວ']\n",
      "['Latvia', 'Latvija']\n",
      "['Lebanon', 'لبنان']\n",
      "['Libya', 'ليبيا']\n",
      "['Lithuania', 'Lietuva']\n",
      "['Mauritania', 'Mauritanie موريتانيا']\n",
      "['Mexico', 'México']\n",
      "['Moldova', 'Moldova']\n",
      "['Mongolia', 'Монгол улс ᠮᠤᠩᠭᠤᠯ ᠤᠯᠤᠰ']\n",
      "['Montenegro', 'Crna Gora / Црна Гора']\n",
      "['Myanmar', 'မြန်မာ']\n",
      "['Nepal', 'नेपाल']\n",
      "['NorthKorea', '조선민주주의인민공화국']\n",
      "['NorthMacedonia', 'Северна Македонија']\n",
      "['Poland', 'Polska']\n",
      "['Romania', 'România']\n",
      "['Russia', 'Россия']\n",
      "['Rwanda', 'Rwanda']\n",
      "['SanMarino', 'San Marino']\n",
      "['Senegal', 'Sénégal']\n",
      "['SierraLeone', 'Sierra Leone']\n",
      "['Slovakia', 'Slovensko']\n",
      "['SouthAfrica', 'South Africa']\n",
      "['Sweden', 'Sverige']\n",
      "['Switzerland', 'Schweiz/Suisse/Svizzera/Svizra']\n",
      "['Syria', 'سوريا']\n",
      "['TheGambia', 'Gambia']\n",
      "['Tunisia', 'تونس']\n",
      "['Turkey', 'Türkiye']\n",
      "['Ukraine', 'Україна']\n",
      "['UnitedKingdom', 'United Kingdom']\n",
      "['VaticanCity', 'Civitas Vaticana - Città del Vaticano']\n",
      "['Vietnam', 'Việt Nam']\n"
     ]
    }
   ],
   "source": [
    "for k,df in df_by_cntr.items():\n",
    "    cntr = df[df['tags.admin_level']=='2']\n",
    "    print([k, cntr['tags.name'].iloc[0]])"
   ]
  },
  {
   "cell_type": "code",
   "execution_count": 7,
   "id": "786ee389",
   "metadata": {},
   "outputs": [],
   "source": [
    "# stores data by country\n",
    "raw_normalized_dir = os.path.join('../data/normalized')\n",
    "for k,df in df_by_cntr.items():\n",
    "    path = os.path.join(raw_normalized_dir, k, 'rawNormalized.pkl')\n",
    "    tgm.dump(path, df)"
   ]
  },
  {
   "cell_type": "markdown",
   "id": "ccf67394",
   "metadata": {},
   "source": [
    "# Test elems"
   ]
  },
  {
   "cell_type": "code",
   "execution_count": 1,
   "id": "3ea3692c",
   "metadata": {},
   "outputs": [
    {
     "data": {
      "text/plain": [
       "241"
      ]
     },
     "execution_count": 1,
     "metadata": {},
     "output_type": "execute_result"
    },
    {
     "name": "stdout",
     "output_type": "stream",
     "text": [
      "64\n",
      "64\n"
     ]
    }
   ],
   "source": [
    "# import\n",
    "dataDir = Path(os.path.join(os.getcwd(), '..', 'data/normalized'))\n",
    "rawFiles = [f for f in dataDir.rglob('*.pkl')]\n",
    "print(len(rawFiles))\n",
    "\n",
    "df_by_cntr = {\n",
    "    file.parent.name:tgm.load(str(file))\n",
    "    for file in rawFiles\n",
    "}\n",
    "print(len(df_by_cntr))"
   ]
  },
  {
   "cell_type": "markdown",
   "id": "670bf21f",
   "metadata": {},
   "source": [
    "## 1. basic elems test"
   ]
  },
  {
   "cell_type": "code",
   "execution_count": 10,
   "id": "44946d38",
   "metadata": {},
   "outputs": [
    {
     "name": "stdout",
     "output_type": "stream",
     "text": [
      "Albania\n",
      " * missing names:  0\n",
      " * relations from other countries:  0\n",
      "Algeria\n",
      " * missing names:  0\n",
      " * relations from other countries:  0\n",
      "Andorra\n",
      " * missing names:  0\n",
      " * relations from other countries:  0\n",
      "Australia\n",
      " * missing names:  0\n",
      " * relations from other countries:  0\n",
      "Austria\n",
      " * missing names:  0\n",
      " * relations from other countries:  1\n",
      "Bangladesh\n",
      " * missing names:  1\n",
      " * relations from other countries:  9\n",
      "Belarus\n",
      " * missing names:  0\n",
      " * relations from other countries:  6\n",
      "Belgium\n",
      " * missing names:  0\n",
      " * relations from other countries:  7\n",
      "Bhutan\n",
      " * missing names:  0\n",
      " * relations from other countries:  0\n",
      "Brazil\n",
      " * missing names:  0\n",
      " * relations from other countries:  28\n",
      "Bulgaria\n",
      " * missing names:  0\n",
      " * relations from other countries:  0\n",
      "Cambodia\n",
      " * missing names:  0\n",
      " * relations from other countries:  0\n",
      "Chile\n",
      " * missing names:  0\n",
      " * relations from other countries:  1\n",
      "Colombia\n",
      " * missing names:  8\n",
      " * relations from other countries:  0\n",
      "Czechia\n",
      " * missing names:  0\n",
      " * relations from other countries:  0\n",
      "Denmark\n",
      " * missing names:  0\n",
      " * relations from other countries:  0\n",
      "Ecuador\n",
      " * missing names:  0\n",
      " * relations from other countries:  0\n",
      "Estonia\n",
      " * missing names:  0\n",
      " * relations from other countries:  0\n",
      "Eswatini\n",
      " * missing names:  0\n",
      " * relations from other countries:  0\n",
      "FaroeIslands\n",
      " * missing names:  0\n",
      " * relations from other countries:  0\n",
      "Finland\n",
      " * missing names:  0\n",
      " * relations from other countries:  0\n",
      "Georgia\n",
      " * missing names:  0\n",
      " * relations from other countries:  1\n",
      "Germany\n",
      " * missing names:  0\n",
      " * relations from other countries:  1\n",
      "Greece\n",
      " * missing names:  1\n",
      " * relations from other countries:  2\n",
      "Guinea\n",
      " * missing names:  0\n",
      " * relations from other countries:  0\n",
      "Guinea-bissau\n",
      " * missing names:  0\n",
      " * relations from other countries:  0\n",
      "Hungary\n",
      " * missing names:  0\n",
      " * relations from other countries:  0\n",
      "Ireland\n",
      " * missing names:  0\n",
      " * relations from other countries:  0\n",
      "IsleOfMan\n",
      " * missing names:  0\n",
      " * relations from other countries:  0\n",
      "Jordan\n",
      " * missing names:  0\n",
      " * relations from other countries:  0\n",
      "Kyrgyzstan\n",
      " * missing names:  0\n",
      " * relations from other countries:  7\n",
      "Laos\n",
      " * missing names:  0\n",
      " * relations from other countries:  0\n",
      "Latvia\n",
      " * missing names:  0\n",
      " * relations from other countries:  0\n",
      "Lebanon\n",
      " * missing names:  0\n",
      " * relations from other countries:  1\n",
      "Libya\n",
      " * missing names:  0\n",
      " * relations from other countries:  0\n",
      "Lithuania\n",
      " * missing names:  0\n",
      " * relations from other countries:  9\n",
      "Mauritania\n",
      " * missing names:  0\n",
      " * relations from other countries:  0\n",
      "Mexico\n",
      " * missing names:  1\n",
      " * relations from other countries:  0\n",
      "Moldova\n",
      " * missing names:  0\n",
      " * relations from other countries:  0\n",
      "Mongolia\n",
      " * missing names:  0\n",
      " * relations from other countries:  0\n",
      "Montenegro\n",
      " * missing names:  0\n",
      " * relations from other countries:  0\n",
      "Myanmar\n",
      " * missing names:  6\n",
      " * relations from other countries:  15\n",
      "Nepal\n",
      " * missing names:  0\n",
      " * relations from other countries:  0\n",
      "NorthKorea\n",
      " * missing names:  0\n",
      " * relations from other countries:  10\n",
      "NorthMacedonia\n",
      " * missing names:  0\n",
      " * relations from other countries:  0\n",
      "Poland\n",
      " * missing names:  0\n",
      " * relations from other countries:  0\n",
      "Romania\n",
      " * missing names:  0\n",
      " * relations from other countries:  0\n",
      "Russia\n",
      " * missing names:  0\n",
      " * relations from other countries:  38\n",
      "Rwanda\n",
      " * missing names:  0\n",
      " * relations from other countries:  0\n",
      "SanMarino\n",
      " * missing names:  0\n",
      " * relations from other countries:  0\n",
      "Senegal\n",
      " * missing names:  0\n",
      " * relations from other countries:  0\n",
      "SierraLeone\n",
      " * missing names:  0\n",
      " * relations from other countries:  0\n",
      "Slovakia\n",
      " * missing names:  0\n",
      " * relations from other countries:  8\n",
      "SouthAfrica\n",
      " * missing names:  0\n",
      " * relations from other countries:  0\n",
      "Sweden\n",
      " * missing names:  0\n",
      " * relations from other countries:  0\n",
      "Switzerland\n",
      " * missing names:  0\n",
      " * relations from other countries:  0\n",
      "Syria\n",
      " * missing names:  0\n",
      " * relations from other countries:  0\n",
      "TheGambia\n",
      " * missing names:  0\n",
      " * relations from other countries:  0\n",
      "Tunisia\n",
      " * missing names:  0\n",
      " * relations from other countries:  1\n",
      "Turkey\n",
      " * missing names:  0\n",
      " * relations from other countries:  0\n",
      "Ukraine\n",
      " * missing names:  0\n",
      " * relations from other countries:  4\n",
      "UnitedKingdom\n",
      " * missing names:  0\n",
      " * relations from other countries:  0\n",
      "VaticanCity\n",
      " * missing names:  0\n",
      " * relations from other countries:  0\n",
      "Vietnam\n",
      " * missing names:  0\n",
      " * relations from other countries:  1\n"
     ]
    }
   ],
   "source": [
    "def test(cntr, df):\n",
    "    print(cntr)\n",
    "    return testbasic.osm_basic_test(df)\n",
    "\n",
    "osm_basic_test = {cntr: test(cntr, df) for cntr, df in df_by_cntr.items()}"
   ]
  },
  {
   "cell_type": "code",
   "execution_count": 11,
   "id": "6010519c",
   "metadata": {},
   "outputs": [],
   "source": [
    "tgm.dump(os.path.join('..', 'data', 'tests results', 'osm_basic_test.pkl'), osm_basic_test)"
   ]
  },
  {
   "cell_type": "markdown",
   "id": "ad91c8a3",
   "metadata": {},
   "source": [
    "## 2. osm duplicates test"
   ]
  },
  {
   "cell_type": "code",
   "execution_count": 5,
   "id": "d3bf519a",
   "metadata": {},
   "outputs": [],
   "source": [
    "reloadPckg()"
   ]
  },
  {
   "cell_type": "code",
   "execution_count": 4,
   "id": "510d63a1",
   "metadata": {},
   "outputs": [
    {
     "name": "stdout",
     "output_type": "stream",
     "text": [
      "False\n"
     ]
    }
   ],
   "source": [
    "import os\n",
    "log_file_path = os.path.abspath('../data/test results/osm duplicates test/dup_test.log')\n",
    "dir_path = os.path.dirname(log_file_path)\n",
    "print(os.path.exists(dir_path))  "
   ]
  },
  {
   "cell_type": "code",
   "execution_count": null,
   "id": "11d109e2",
   "metadata": {},
   "outputs": [
    {
     "ename": "FileNotFoundError",
     "evalue": "[Errno 2] No such file or directory: 'c:\\\\Users\\\\gonta\\\\D\\\\study\\\\full stack\\\\projects\\\\administrative divisions query - levels scrape\\\\data\\\\test results\\\\osm duplicates test\\\\dup_test.log'",
     "output_type": "error",
     "traceback": [
      "\u001b[31m---------------------------------------------------------------------------\u001b[39m",
      "\u001b[31mFileNotFoundError\u001b[39m                         Traceback (most recent call last)",
      "\u001b[36mCell\u001b[39m\u001b[36m \u001b[39m\u001b[32mIn[2]\u001b[39m\u001b[32m, line 1\u001b[39m\n\u001b[32m----> \u001b[39m\u001b[32m1\u001b[39m dup_test_logger = \u001b[43mget_logger\u001b[49m\u001b[43m(\u001b[49m\u001b[33;43m'\u001b[39;49m\u001b[33;43m../data/test results/osm duplicates test/dup_test.log\u001b[39;49m\u001b[33;43m'\u001b[39;49m\u001b[43m,\u001b[49m\u001b[43m \u001b[49m\u001b[33;43m'\u001b[39;49m\u001b[33;43mdup_test_logger\u001b[39;49m\u001b[33;43m'\u001b[39;49m\u001b[43m)\u001b[49m\n",
      "\u001b[36mFile \u001b[39m\u001b[32mc:\\Users\\gonta\\D\\study\\full stack\\projects\\administrative divisions query - levels scrape\\notebooks\\..\\tools\\logger_config.py:8\u001b[39m, in \u001b[36mget_logger\u001b[39m\u001b[34m(log_file_path, name)\u001b[39m\n\u001b[32m      5\u001b[39m \u001b[38;5;28;01mif\u001b[39;00m \u001b[38;5;129;01mnot\u001b[39;00m logger.hasHandlers():  \u001b[38;5;66;03m# prevent duplicate handlers in notebooks\u001b[39;00m\n\u001b[32m      6\u001b[39m     logger.setLevel(logging.DEBUG)\n\u001b[32m----> \u001b[39m\u001b[32m8\u001b[39m     file_handler = \u001b[43mlogging\u001b[49m\u001b[43m.\u001b[49m\u001b[43mFileHandler\u001b[49m\u001b[43m(\u001b[49m\u001b[43mlog_file_path\u001b[49m\u001b[43m,\u001b[49m\u001b[43m \u001b[49m\u001b[43mmode\u001b[49m\u001b[43m=\u001b[49m\u001b[33;43m\"\u001b[39;49m\u001b[33;43mw\u001b[39;49m\u001b[33;43m\"\u001b[39;49m\u001b[43m,\u001b[49m\u001b[43m \u001b[49m\u001b[43mencoding\u001b[49m\u001b[43m=\u001b[49m\u001b[33;43m\"\u001b[39;49m\u001b[33;43mutf-8\u001b[39;49m\u001b[33;43m\"\u001b[39;49m\u001b[43m)\u001b[49m\n\u001b[32m      9\u001b[39m     file_handler.setLevel(logging.DEBUG)\n\u001b[32m     11\u001b[39m     console_handler = logging.StreamHandler()\n",
      "\u001b[36mFile \u001b[39m\u001b[32mC:\\Program Files\\Python314\\Lib\\logging\\__init__.py:1219\u001b[39m, in \u001b[36mFileHandler.__init__\u001b[39m\u001b[34m(self, filename, mode, encoding, delay, errors)\u001b[39m\n\u001b[32m   1217\u001b[39m     \u001b[38;5;28mself\u001b[39m.stream = \u001b[38;5;28;01mNone\u001b[39;00m\n\u001b[32m   1218\u001b[39m \u001b[38;5;28;01melse\u001b[39;00m:\n\u001b[32m-> \u001b[39m\u001b[32m1219\u001b[39m     StreamHandler.\u001b[34m__init__\u001b[39m(\u001b[38;5;28mself\u001b[39m, \u001b[38;5;28;43mself\u001b[39;49m\u001b[43m.\u001b[49m\u001b[43m_open\u001b[49m\u001b[43m(\u001b[49m\u001b[43m)\u001b[49m)\n",
      "\u001b[36mFile \u001b[39m\u001b[32mC:\\Program Files\\Python314\\Lib\\logging\\__init__.py:1248\u001b[39m, in \u001b[36mFileHandler._open\u001b[39m\u001b[34m(self)\u001b[39m\n\u001b[32m   1243\u001b[39m \u001b[38;5;250m\u001b[39m\u001b[33;03m\"\"\"\u001b[39;00m\n\u001b[32m   1244\u001b[39m \u001b[33;03mOpen the current base file with the (original) mode and encoding.\u001b[39;00m\n\u001b[32m   1245\u001b[39m \u001b[33;03mReturn the resulting stream.\u001b[39;00m\n\u001b[32m   1246\u001b[39m \u001b[33;03m\"\"\"\u001b[39;00m\n\u001b[32m   1247\u001b[39m open_func = \u001b[38;5;28mself\u001b[39m._builtin_open\n\u001b[32m-> \u001b[39m\u001b[32m1248\u001b[39m \u001b[38;5;28;01mreturn\u001b[39;00m \u001b[43mopen_func\u001b[49m\u001b[43m(\u001b[49m\u001b[38;5;28;43mself\u001b[39;49m\u001b[43m.\u001b[49m\u001b[43mbaseFilename\u001b[49m\u001b[43m,\u001b[49m\u001b[43m \u001b[49m\u001b[38;5;28;43mself\u001b[39;49m\u001b[43m.\u001b[49m\u001b[43mmode\u001b[49m\u001b[43m,\u001b[49m\n\u001b[32m   1249\u001b[39m \u001b[43m                 \u001b[49m\u001b[43mencoding\u001b[49m\u001b[43m=\u001b[49m\u001b[38;5;28;43mself\u001b[39;49m\u001b[43m.\u001b[49m\u001b[43mencoding\u001b[49m\u001b[43m,\u001b[49m\u001b[43m \u001b[49m\u001b[43merrors\u001b[49m\u001b[43m=\u001b[49m\u001b[38;5;28;43mself\u001b[39;49m\u001b[43m.\u001b[49m\u001b[43merrors\u001b[49m\u001b[43m)\u001b[49m\n",
      "\u001b[31mFileNotFoundError\u001b[39m: [Errno 2] No such file or directory: 'c:\\\\Users\\\\gonta\\\\D\\\\study\\\\full stack\\\\projects\\\\administrative divisions query - levels scrape\\\\data\\\\test results\\\\osm duplicates test\\\\dup_test.log'"
     ]
    }
   ],
   "source": [
    "dup_test_logger = get_logger('../data/tests results/osm duplicates test/dup_test.log', 'dup_test_logger')"
   ]
  },
  {
   "cell_type": "markdown",
   "id": "6bb61d7b",
   "metadata": {},
   "source": [
    "## load processed data and re-run tests"
   ]
  },
  {
   "cell_type": "code",
   "execution_count": 2,
   "id": "8ed93df2",
   "metadata": {},
   "outputs": [
    {
     "data": {
      "text/plain": [
       "2"
      ]
     },
     "execution_count": 2,
     "metadata": {},
     "output_type": "execute_result"
    }
   ],
   "source": [
    "odt_processed_info = tgm.load(os.path.join(os.getcwd(), \"../data/tests results/osm duplicates test\", \"odt_processed_info.pkl\"))\n",
    "len(odt_processed_info)"
   ]
  },
  {
   "cell_type": "code",
   "execution_count": 5,
   "id": "5d44c536",
   "metadata": {},
   "outputs": [
    {
     "name": "stderr",
     "output_type": "stream",
     "text": [
      "[INFO] : Processing Albania\n",
      "[INFO] : Processing Algeria\n"
     ]
    }
   ],
   "source": [
    "def test(cntr, df):\n",
    "    logger.info(f\"Processing {cntr}\")\n",
    "    test_res = testbasic.osm_duplicates_test_center(df, odt_processed_info)\n",
    "    data_path = os.path.join(os.getcwd(), f\"../data/tests results/osm duplicates test/{cntr}/{cntr}_test_res.pkl\")\n",
    "    if not os.path.exists(data_path):\n",
    "        tgm.dump(data_path, test_res)\n",
    "\n",
    "to_test = list(df_by_cntr.items())[:2]\n",
    "odt_test_res = {cntr: test(cntr, df) for cntr, df in to_test}"
   ]
  },
  {
   "cell_type": "code",
   "execution_count": 72,
   "id": "4e5bfe35",
   "metadata": {},
   "outputs": [
    {
     "data": {
      "text/plain": [
       "{'Albania': {'test_res': {},\n",
       "  'duplicate.keep_elems': [],\n",
       "  'duplicate.delete_elems': []},\n",
       " 'Algeria': {'test_res': {},\n",
       "  'duplicate.keep_elems': [],\n",
       "  'duplicate.delete_elems': []}}"
      ]
     },
     "execution_count": 72,
     "metadata": {},
     "output_type": "execute_result"
    }
   ],
   "source": [
    "odt_test_res"
   ]
  },
  {
   "cell_type": "markdown",
   "id": "1da0466c",
   "metadata": {},
   "source": [
    "## update and save results"
   ]
  },
  {
   "cell_type": "code",
   "execution_count": null,
   "id": "f1d57067",
   "metadata": {},
   "outputs": [],
   "source": [
    "def update_data(odt_test_res_curr, data_path):\n",
    "    for k,v in odt_test_res_curr.items():\n",
    "        data_path = os.path.join(os.getcwd(), f\"../data/tests results/osm duplicates test/{k}/{k}_test_res.pkl\")\n",
    "        if not os.path.exists(data_path):\n",
    "            tgm.dump(data_path, v)\n",
    "        else:\n",
    "            test_res_old_value = tgm.load(data_path)\n",
    "            test_res_to_save= {}\n",
    "            test_res_to_save['test_res'] = test_res_old_value['test_res'] | odt_test_res_curr[k]['test_res']\n",
    "            test_res_to_save['duplicate.keep_elems'] = list(set(test_res_old_value['duplicate.keep_elems']) | set(odt_test_res_curr[k]['duplicate.keep_elems']))\n",
    "            test_res_to_save['duplicate.delete_elems'] = list(set(test_res_old_value['duplicate.delete_elems']) | set(odt_test_res_curr[k]['duplicate.delete_elems']))\n",
    "            tgm.dump(data_path, test_res_to_save)"
   ]
  },
  {
   "cell_type": "code",
   "execution_count": null,
   "id": "f3f0bc85",
   "metadata": {},
   "outputs": [],
   "source": [
    "def update_function()"
   ]
  },
  {
   "cell_type": "code",
   "execution_count": 52,
   "id": "64a4c725",
   "metadata": {},
   "outputs": [
    {
     "name": "stdout",
     "output_type": "stream",
     "text": [
      "2\n"
     ]
    }
   ],
   "source": [
    "data_dir = Path(os.path.join(os.getcwd(), '..', 'data/tests results/osm duplicates test'))\n",
    "odt_test_res_files = [f for f in data_dir.rglob('*/*.pkl')]\n",
    "print(len(odt_test_res_files))\n",
    "\n",
    "odt_test_res_old = {\n",
    "    file.parent.name:tgm.load(str(file))\n",
    "    for file in odt_test_res_files\n",
    "}"
   ]
  },
  {
   "cell_type": "markdown",
   "id": "86ced354",
   "metadata": {},
   "source": [
    "## compute new odt_processed_info"
   ]
  },
  {
   "cell_type": "code",
   "execution_count": 11,
   "id": "6656e403",
   "metadata": {},
   "outputs": [],
   "source": [
    "odt_meta_to_add = {}\n",
    "for k,v in odt_test_res.items():\n",
    "    for ele_k,ele_v in v['test_res'].items():\n",
    "        if ele_v['status'] == 'ok':\n",
    "            odt_meta_to_add[ele_k] = dict(filter(lambda item: item[0] in ['status','result'], ele_v.items()))"
   ]
  },
  {
   "cell_type": "code",
   "execution_count": 60,
   "id": "6f95264d",
   "metadata": {},
   "outputs": [
    {
     "name": "stdout",
     "output_type": "stream",
     "text": [
      "2\n"
     ]
    }
   ],
   "source": [
    "data_dir = Path(os.path.join(os.getcwd(), '..', 'data/tests results/osm duplicates test'))\n",
    "odt_test_res_files = [f for f in data_dir.rglob('*/*.pkl')]\n",
    "print(len(odt_test_res_files))\n",
    "\n",
    "odt_processed_info_new = {}\n",
    "for file in odt_test_res_files:\n",
    "    test_res = tgm.load(str(file))['test_res']\n",
    "    for k,v in test_res.items():\n",
    "        if v['status'] == 'ok':\n",
    "            odt_processed_info_new[(file.parent.name, k[0], k[1])] = dict(filter(lambda item: item[0] in ['status','result'], v.items()))"
   ]
  },
  {
   "cell_type": "code",
   "execution_count": 61,
   "id": "7d48a8f1",
   "metadata": {},
   "outputs": [
    {
     "data": {
      "text/plain": [
       "{('Algeria', '6543282', '6543265'): {'status': 'ok', 'result': True},\n",
       " ('Algeria', '6543282', '6543273'): {'status': 'ok', 'result': False}}"
      ]
     },
     "execution_count": 61,
     "metadata": {},
     "output_type": "execute_result"
    }
   ],
   "source": [
    "odt_processed_info_new"
   ]
  },
  {
   "cell_type": "code",
   "execution_count": 62,
   "id": "98940ba3",
   "metadata": {},
   "outputs": [],
   "source": [
    "tgm.dump(os.path.join(os.getcwd(), \"../data/tests results/osm duplicates test\", \"odt_processed_info.pkl\"), odt_processed_info_new)"
   ]
  }
 ],
 "metadata": {
  "kernelspec": {
   "display_name": ".venv",
   "language": "python",
   "name": "python3"
  },
  "language_info": {
   "codemirror_mode": {
    "name": "ipython",
    "version": 3
   },
   "file_extension": ".py",
   "mimetype": "text/x-python",
   "name": "python",
   "nbconvert_exporter": "python",
   "pygments_lexer": "ipython3",
   "version": "3.14.0"
  }
 },
 "nbformat": 4,
 "nbformat_minor": 5
}
