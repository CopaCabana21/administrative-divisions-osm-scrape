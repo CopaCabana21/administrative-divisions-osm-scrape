{
 "cells": [
  {
   "cell_type": "markdown",
   "id": "5c3a035e",
   "metadata": {},
   "source": [
    "# Init"
   ]
  },
  {
   "cell_type": "code",
   "execution_count": 55,
   "id": "43721fab",
   "metadata": {},
   "outputs": [],
   "source": [
    "# init\n",
    "from importlib import reload\n",
    "from pprint import pprint\n",
    "import os\n",
    "import sys\n",
    "from pathlib import Path\n",
    "import pandas as pd\n",
    "\n",
    "def reloadPckg():\n",
    "    reload(tgm)\n",
    "    reload(too)\n",
    "    reload(osmt)\n",
    "\n",
    "sys.path.append('..')\n",
    "sys.path.append('../tools')\n",
    "devPath = \"C:/Users/gonta/D/software developer/\"\n",
    "sys.path.append(os.path.join(devPath, \"packages\"))\n",
    "\n",
    "\n",
    "import tests.osm_test as osmt\n",
    "import toolsGeneral.main as tgm\n",
    "import toolsOSM.overpass as too\n",
    "from toolsPandas.helpers import df_peek "
   ]
  },
  {
   "cell_type": "code",
   "execution_count": 70,
   "id": "e3807cd2",
   "metadata": {},
   "outputs": [
    {
     "data": {
      "text/plain": [
       "241"
      ]
     },
     "execution_count": 70,
     "metadata": {},
     "output_type": "execute_result"
    }
   ],
   "source": [
    "# init\n",
    "osm_meta = tgm.load(r\"C:\\Users\\gonta\\D\\study\\full stack\\projects\\administrative divisions query - levels scrape\\OSM\\get countries ids and add labels\\data\\osmMetaCountrDict.json\")\n",
    "len(osm_meta)"
   ]
  },
  {
   "cell_type": "code",
   "execution_count": 40,
   "id": "75ee6ec5",
   "metadata": {},
   "outputs": [],
   "source": [
    "# init\n",
    "import tools.logger_config as logconfig"
   ]
  },
  {
   "cell_type": "markdown",
   "id": "a9280904",
   "metadata": {},
   "source": [
    "# Cleaning"
   ]
  },
  {
   "cell_type": "markdown",
   "id": "e4cf4e95",
   "metadata": {},
   "source": [
    "## import"
   ]
  },
  {
   "cell_type": "code",
   "execution_count": 1,
   "id": "8971491b",
   "metadata": {},
   "outputs": [
    {
     "data": {
      "text/plain": [
       "241"
      ]
     },
     "execution_count": 1,
     "metadata": {},
     "output_type": "execute_result"
    },
    {
     "name": "stdout",
     "output_type": "stream",
     "text": [
      "76\n"
     ]
    }
   ],
   "source": [
    "dataDir = Path(os.path.join(os.getcwd(), '..', 'data', 'raw', 'osm countries queries'))\n",
    "rawFiles = [f for f in dataDir.rglob('*.json')]\n",
    "\n",
    "rawByCntr = {\n",
    "    file.parent.name:tgm.load(str(file))['elements']\n",
    "    for file in rawFiles\n",
    "}\n",
    "print(len(rawByCntr))"
   ]
  },
  {
   "cell_type": "code",
   "execution_count": 3,
   "id": "bbec24e0",
   "metadata": {},
   "outputs": [
    {
     "name": "stdout",
     "output_type": "stream",
     "text": [
      "{'Albania': 390,\n",
      " 'Algeria': 2148,\n",
      " 'Andorra': 1,\n",
      " 'Australia': 616,\n",
      " 'Austria': 2178,\n",
      " 'Austria--Liechtenstein': 1,\n",
      " 'Austria-Switzerland': 1,\n",
      " 'Bangladesh': 453,\n",
      " 'Belarus': 1431,\n",
      " 'Belgium': 4351,\n",
      " 'Bhutan': 1191,\n",
      " 'Brazil': 792,\n",
      " 'Bulgaria': 113,\n",
      " 'Cambodia': 316,\n",
      " 'Chile': 420,\n",
      " 'Colombia': 3806,\n",
      " 'Czechia': 6281,\n",
      " 'Denmark': 6,\n",
      " 'Ecuador': 1240,\n",
      " 'Estonia': 1,\n",
      " 'Eswatini': 58,\n",
      " 'FaroeIslands': 1,\n",
      " 'Finland': 20,\n",
      " 'France-Andorra': 1,\n",
      " 'France-Belgium': 1,\n",
      " 'France-Germany': 1,\n",
      " 'France-Italy': 1,\n",
      " 'France-Luxembourg': 1,\n",
      " 'France-Monaco': 1,\n",
      " 'France-Spain': 1,\n",
      " 'France-Switzerland': 1,\n",
      " 'Georgia': 163,\n",
      " 'Germany': 11264,\n",
      " 'Germany--Switzerland': 1,\n",
      " 'Germany-Austria': 1,\n",
      " 'Greece': 589,\n",
      " 'Guinea': 90,\n",
      " 'Guinea-bissau': 47,\n",
      " 'Hungary': 3179,\n",
      " 'Ireland': 1,\n",
      " 'IsleOfMan': 1,\n",
      " 'Jordan': 106,\n",
      " 'Kyrgyzstan': 68,\n",
      " 'Laos': 170,\n",
      " 'Latvia': 1,\n",
      " 'Lebanon': 36,\n",
      " 'Libya': 24,\n",
      " 'Lithuania': 4997,\n",
      " 'Mauritania': 26,\n",
      " 'Mexico': 3129,\n",
      " 'Moldova': 38,\n",
      " 'Mongolia': 363,\n",
      " 'Montenegro': 1,\n",
      " 'Myanmar': 168,\n",
      " 'Nepal': 85,\n",
      " 'NorthKorea': 291,\n",
      " 'NorthMacedonia': 1,\n",
      " 'Poland': 26609,\n",
      " 'Romania': 43,\n",
      " 'Russia': 17191,\n",
      " 'Rwanda': 422,\n",
      " 'SanMarino': 1,\n",
      " 'Senegal': 15,\n",
      " 'SierraLeone': 21,\n",
      " 'Slovakia': 21,\n",
      " 'SouthAfrica': 288,\n",
      " 'Sweden': 22,\n",
      " 'Switzerland': 2049,\n",
      " 'Syria': 306,\n",
      " 'TheGambia': 39,\n",
      " 'Tunisia': 2108,\n",
      " 'Turkey': 14002,\n",
      " 'Ukraine': 906,\n",
      " 'UnitedKingdom': 311,\n",
      " 'VaticanCity': 1,\n",
      " 'Vietnam': 3732}\n"
     ]
    }
   ],
   "source": [
    "pprint({k:len(v) for k,v in rawByCntr.items()})"
   ]
  },
  {
   "cell_type": "markdown",
   "id": "32dd5750",
   "metadata": {},
   "source": [
    "## use only sovereign countries"
   ]
  },
  {
   "cell_type": "code",
   "execution_count": 3,
   "id": "913ed46c",
   "metadata": {},
   "outputs": [
    {
     "data": {
      "text/plain": [
       "214"
      ]
     },
     "execution_count": 3,
     "metadata": {},
     "output_type": "execute_result"
    }
   ],
   "source": [
    "sovereign_countries = tgm.load(os.path.join('..', 'data', 'sovereign countries.json'))\n",
    "len(sovereign_countries)"
   ]
  },
  {
   "cell_type": "code",
   "execution_count": 4,
   "id": "7e11c037",
   "metadata": {},
   "outputs": [
    {
     "data": {
      "text/plain": [
       "64"
      ]
     },
     "execution_count": 4,
     "metadata": {},
     "output_type": "execute_result"
    }
   ],
   "source": [
    "df_by_cntr = {k:elems for k,elems in rawByCntr.items() if k in sovereign_countries}\n",
    "len(df_by_cntr)"
   ]
  },
  {
   "cell_type": "markdown",
   "id": "e1a66c20",
   "metadata": {},
   "source": [
    "## normalize"
   ]
  },
  {
   "cell_type": "code",
   "execution_count": 7,
   "id": "a0cc71dc",
   "metadata": {},
   "outputs": [
    {
     "data": {
      "text/plain": [
       "64"
      ]
     },
     "execution_count": 7,
     "metadata": {},
     "output_type": "execute_result"
    }
   ],
   "source": [
    "df_by_cntr = {k:too.normalizeOSM(elems) for k,elems in df_by_cntr.items()}\n",
    "len(df_by_cntr)"
   ]
  },
  {
   "cell_type": "code",
   "execution_count": 9,
   "id": "51bd96dd",
   "metadata": {},
   "outputs": [
    {
     "name": "stdout",
     "output_type": "stream",
     "text": [
      "['Albania', 'Shqipëria']\n",
      "['Algeria', 'Algérie ⵍⵣⵣⴰⵢⴻⵔ الجزائر']\n",
      "['Andorra', 'Andorra']\n",
      "['Australia', 'Australia']\n",
      "['Austria', 'Österreich']\n",
      "['Bangladesh', 'বাংলাদেশ']\n",
      "['Belarus', 'Беларусь']\n",
      "['Belgium', 'België / Belgique / Belgien']\n",
      "['Bhutan', 'འབྲུག་ཡུལ།']\n",
      "['Brazil', 'Brasil']\n",
      "['Bulgaria', 'България']\n",
      "['Cambodia', 'ព្រះរាជាណាចក្រ\\u200bកម្ពុជា']\n",
      "['Chile', 'Chile']\n",
      "['Colombia', 'Colombia']\n",
      "['Czechia', 'Česko']\n",
      "['Denmark', 'Danmark']\n",
      "['Ecuador', 'Ecuador']\n",
      "['Estonia', 'Eesti']\n",
      "['Eswatini', 'Eswatini']\n",
      "['FaroeIslands', 'Føroyar']\n",
      "['Finland', 'Suomi / Finland']\n",
      "['Georgia', 'საქართველო']\n",
      "['Germany', 'Deutschland']\n",
      "['Greece', 'Ελλάς']\n",
      "['Guinea', 'Guinée']\n",
      "['Guinea-bissau', 'Guiné-Bissau']\n",
      "['Hungary', 'Magyarország']\n",
      "['Ireland', 'Éire / Ireland']\n",
      "['IsleOfMan', 'Isle of Man']\n",
      "['Jordan', 'الأردن']\n",
      "['Kyrgyzstan', 'Кыргызстан']\n",
      "['Laos', 'ປະເທດລາວ']\n",
      "['Latvia', 'Latvija']\n",
      "['Lebanon', 'لبنان']\n",
      "['Libya', 'ليبيا']\n",
      "['Lithuania', 'Lietuva']\n",
      "['Mauritania', 'Mauritanie موريتانيا']\n",
      "['Mexico', 'México']\n",
      "['Moldova', 'Moldova']\n",
      "['Mongolia', 'Монгол улс ᠮᠤᠩᠭᠤᠯ ᠤᠯᠤᠰ']\n",
      "['Montenegro', 'Crna Gora / Црна Гора']\n",
      "['Myanmar', 'မြန်မာ']\n",
      "['Nepal', 'नेपाल']\n",
      "['NorthKorea', '조선민주주의인민공화국']\n",
      "['NorthMacedonia', 'Северна Македонија']\n",
      "['Poland', 'Polska']\n",
      "['Romania', 'România']\n",
      "['Russia', 'Россия']\n",
      "['Rwanda', 'Rwanda']\n",
      "['SanMarino', 'San Marino']\n",
      "['Senegal', 'Sénégal']\n",
      "['SierraLeone', 'Sierra Leone']\n",
      "['Slovakia', 'Slovensko']\n",
      "['SouthAfrica', 'South Africa']\n",
      "['Sweden', 'Sverige']\n",
      "['Switzerland', 'Schweiz/Suisse/Svizzera/Svizra']\n",
      "['Syria', 'سوريا']\n",
      "['TheGambia', 'Gambia']\n",
      "['Tunisia', 'تونس']\n",
      "['Turkey', 'Türkiye']\n",
      "['Ukraine', 'Україна']\n",
      "['UnitedKingdom', 'United Kingdom']\n",
      "['VaticanCity', 'Civitas Vaticana - Città del Vaticano']\n",
      "['Vietnam', 'Việt Nam']\n"
     ]
    }
   ],
   "source": [
    "for k,df in df_by_cntr.items():\n",
    "    cntr = df[df['tags.admin_level']=='2']\n",
    "    print([k, cntr['tags.name'].iloc[0]])"
   ]
  },
  {
   "cell_type": "code",
   "execution_count": 10,
   "id": "786ee389",
   "metadata": {},
   "outputs": [],
   "source": [
    "# save data by country\n",
    "raw_normalized_dir = os.path.join('../data/normalized')\n",
    "for k,df in df_by_cntr.items():\n",
    "    path = os.path.join(raw_normalized_dir, k, 'rawNormalized.pkl')\n",
    "    tgm.dump(path, df)"
   ]
  },
  {
   "cell_type": "markdown",
   "id": "ccf67394",
   "metadata": {},
   "source": [
    "# Test elems"
   ]
  },
  {
   "cell_type": "code",
   "execution_count": 58,
   "id": "3ea3692c",
   "metadata": {},
   "outputs": [
    {
     "name": "stdout",
     "output_type": "stream",
     "text": [
      "64\n",
      "64\n"
     ]
    }
   ],
   "source": [
    "# import\n",
    "dataDir = Path(os.path.join(os.getcwd(), '..', 'data/normalized'))\n",
    "rawFiles = [f for f in dataDir.rglob('*.pkl')]\n",
    "print(len(rawFiles))\n",
    "\n",
    "df_by_cntr = {\n",
    "    file.parent.name:tgm.load(str(file))\n",
    "    for file in rawFiles\n",
    "}\n",
    "print(len(df_by_cntr))"
   ]
  },
  {
   "cell_type": "markdown",
   "id": "670bf21f",
   "metadata": {},
   "source": [
    "## 1. basic elems test"
   ]
  },
  {
   "cell_type": "code",
   "execution_count": null,
   "id": "44946d38",
   "metadata": {},
   "outputs": [
    {
     "name": "stdout",
     "output_type": "stream",
     "text": [
      "Albania\n",
      " * missing names:  0\n",
      " * relations from other countries:  0\n",
      "Algeria\n",
      " * missing names:  0\n",
      " * relations from other countries:  0\n",
      "Andorra\n",
      " * missing names:  0\n",
      " * relations from other countries:  0\n",
      "Australia\n",
      " * missing names:  0\n",
      " * relations from other countries:  0\n",
      "Austria\n",
      " * missing names:  0\n",
      " * relations from other countries:  1\n",
      "Bangladesh\n",
      " * missing names:  1\n",
      " * relations from other countries:  9\n",
      "Belarus\n",
      " * missing names:  0\n",
      " * relations from other countries:  6\n",
      "Belgium\n",
      " * missing names:  0\n",
      " * relations from other countries:  7\n",
      "Bhutan\n",
      " * missing names:  0\n",
      " * relations from other countries:  0\n",
      "Brazil\n",
      " * missing names:  0\n",
      " * relations from other countries:  28\n",
      "Bulgaria\n",
      " * missing names:  0\n",
      " * relations from other countries:  0\n",
      "Cambodia\n",
      " * missing names:  0\n",
      " * relations from other countries:  0\n",
      "Chile\n",
      " * missing names:  0\n",
      " * relations from other countries:  1\n",
      "Colombia\n",
      " * missing names:  8\n",
      " * relations from other countries:  0\n",
      "Czechia\n",
      " * missing names:  0\n",
      " * relations from other countries:  0\n",
      "Denmark\n",
      " * missing names:  0\n",
      " * relations from other countries:  0\n",
      "Ecuador\n",
      " * missing names:  0\n",
      " * relations from other countries:  0\n",
      "Estonia\n",
      " * missing names:  0\n",
      " * relations from other countries:  0\n",
      "Eswatini\n",
      " * missing names:  0\n",
      " * relations from other countries:  0\n",
      "FaroeIslands\n",
      " * missing names:  0\n",
      " * relations from other countries:  0\n",
      "Finland\n",
      " * missing names:  0\n",
      " * relations from other countries:  0\n",
      "Georgia\n",
      " * missing names:  0\n",
      " * relations from other countries:  1\n",
      "Germany\n",
      " * missing names:  0\n",
      " * relations from other countries:  1\n",
      "Greece\n",
      " * missing names:  1\n",
      " * relations from other countries:  2\n",
      "Guinea\n",
      " * missing names:  0\n",
      " * relations from other countries:  0\n",
      "Guinea-bissau\n",
      " * missing names:  0\n",
      " * relations from other countries:  0\n",
      "Hungary\n",
      " * missing names:  0\n",
      " * relations from other countries:  0\n",
      "Ireland\n",
      " * missing names:  0\n",
      " * relations from other countries:  0\n",
      "IsleOfMan\n",
      " * missing names:  0\n",
      " * relations from other countries:  0\n",
      "Jordan\n",
      " * missing names:  0\n",
      " * relations from other countries:  0\n",
      "Kyrgyzstan\n",
      " * missing names:  0\n",
      " * relations from other countries:  7\n",
      "Laos\n",
      " * missing names:  0\n",
      " * relations from other countries:  0\n",
      "Latvia\n",
      " * missing names:  0\n",
      " * relations from other countries:  0\n",
      "Lebanon\n",
      " * missing names:  0\n",
      " * relations from other countries:  1\n",
      "Libya\n",
      " * missing names:  0\n",
      " * relations from other countries:  0\n",
      "Lithuania\n",
      " * missing names:  0\n",
      " * relations from other countries:  9\n",
      "Mauritania\n",
      " * missing names:  0\n",
      " * relations from other countries:  0\n",
      "Mexico\n",
      " * missing names:  1\n",
      " * relations from other countries:  0\n",
      "Moldova\n",
      " * missing names:  0\n",
      " * relations from other countries:  0\n",
      "Mongolia\n",
      " * missing names:  0\n",
      " * relations from other countries:  0\n",
      "Montenegro\n",
      " * missing names:  0\n",
      " * relations from other countries:  0\n",
      "Myanmar\n",
      " * missing names:  6\n",
      " * relations from other countries:  15\n",
      "Nepal\n",
      " * missing names:  0\n",
      " * relations from other countries:  0\n",
      "NorthKorea\n",
      " * missing names:  0\n",
      " * relations from other countries:  10\n",
      "NorthMacedonia\n",
      " * missing names:  0\n",
      " * relations from other countries:  0\n",
      "Poland\n",
      " * missing names:  0\n",
      " * relations from other countries:  0\n",
      "Romania\n",
      " * missing names:  0\n",
      " * relations from other countries:  0\n",
      "Russia\n",
      " * missing names:  0\n",
      " * relations from other countries:  38\n",
      "Rwanda\n",
      " * missing names:  0\n",
      " * relations from other countries:  0\n",
      "SanMarino\n",
      " * missing names:  0\n",
      " * relations from other countries:  0\n",
      "Senegal\n",
      " * missing names:  0\n",
      " * relations from other countries:  0\n",
      "SierraLeone\n",
      " * missing names:  0\n",
      " * relations from other countries:  0\n",
      "Slovakia\n",
      " * missing names:  0\n",
      " * relations from other countries:  8\n",
      "SouthAfrica\n",
      " * missing names:  0\n",
      " * relations from other countries:  0\n",
      "Sweden\n",
      " * missing names:  0\n",
      " * relations from other countries:  0\n",
      "Switzerland\n",
      " * missing names:  0\n",
      " * relations from other countries:  0\n",
      "Syria\n",
      " * missing names:  0\n",
      " * relations from other countries:  0\n",
      "TheGambia\n",
      " * missing names:  0\n",
      " * relations from other countries:  0\n",
      "Tunisia\n",
      " * missing names:  0\n",
      " * relations from other countries:  1\n",
      "Turkey\n",
      " * missing names:  0\n",
      " * relations from other countries:  0\n",
      "Ukraine\n",
      " * missing names:  0\n",
      " * relations from other countries:  4\n",
      "UnitedKingdom\n",
      " * missing names:  0\n",
      " * relations from other countries:  0\n",
      "VaticanCity\n",
      " * missing names:  0\n",
      " * relations from other countries:  0\n",
      "Vietnam\n",
      " * missing names:  0\n",
      " * relations from other countries:  1\n"
     ]
    }
   ],
   "source": [
    "def test(cntr, df):\n",
    "    print(cntr)\n",
    "    return osmt.osm_basic_test(df)\n",
    "\n",
    "osm_basic_test = {cntr: test(cntr, df) for cntr, df in df_by_cntr.items()}"
   ]
  },
  {
   "cell_type": "code",
   "execution_count": null,
   "id": "6010519c",
   "metadata": {},
   "outputs": [],
   "source": [
    "#    tgm.dump(os.path.join('..', 'data', 'tests results', 'osm_basic_test.pkl'), osm_basic_test)"
   ]
  },
  {
   "cell_type": "code",
   "execution_count": 30,
   "id": "c07603c2",
   "metadata": {},
   "outputs": [
    {
     "data": {
      "text/plain": [
       "64"
      ]
     },
     "execution_count": 30,
     "metadata": {},
     "output_type": "execute_result"
    }
   ],
   "source": [
    "osm_basic_test = tgm.load(os.path.join('..', 'data', 'tests results', 'osm_basic_test.pkl'))\n",
    "len(osm_basic_test)"
   ]
  },
  {
   "cell_type": "code",
   "execution_count": 82,
   "id": "4408e30f",
   "metadata": {},
   "outputs": [
    {
     "data": {
      "text/html": [
       "\n",
       "    <div style=\"overflow:auto; max-height:500px; max-width:100%; border:1px solid #ccc; padding:4px;\">\n",
       "        <table border=\"1\" class=\"dataframe\">\n",
       "  <thead>\n",
       "    <tr style=\"text-align: right;\">\n",
       "      <th></th>\n",
       "      <th>missing.name</th>\n",
       "      <th>leak</th>\n",
       "    </tr>\n",
       "  </thead>\n",
       "  <tbody>\n",
       "    <tr>\n",
       "      <th>Albania</th>\n",
       "      <td>[]</td>\n",
       "      <td>[]</td>\n",
       "    </tr>\n",
       "    <tr>\n",
       "      <th>Algeria</th>\n",
       "      <td>[]</td>\n",
       "      <td>[]</td>\n",
       "    </tr>\n",
       "    <tr>\n",
       "      <th>Andorra</th>\n",
       "      <td>[]</td>\n",
       "      <td>[]</td>\n",
       "    </tr>\n",
       "    <tr>\n",
       "      <th>Australia</th>\n",
       "      <td>[]</td>\n",
       "      <td>[]</td>\n",
       "    </tr>\n",
       "    <tr>\n",
       "      <th>Austria</th>\n",
       "      <td>[]</td>\n",
       "      <td>[52345]</td>\n",
       "    </tr>\n",
       "    <tr>\n",
       "      <th>Bangladesh</th>\n",
       "      <td>[14326679]</td>\n",
       "      <td>[3824588, 3825003, 3859335, 3921211, 3921222, 3921298, 3921322, 7318343, 9455570]</td>\n",
       "    </tr>\n",
       "    <tr>\n",
       "      <th>Belarus</th>\n",
       "      <td>[]</td>\n",
       "      <td>[59162, 59189, 59195, 59275, 59506, 59752]</td>\n",
       "    </tr>\n",
       "    <tr>\n",
       "      <th>Belgium</th>\n",
       "      <td>[]</td>\n",
       "      <td>[4217435, 7394, 7400, 7411, 7427, 7463, 7400]</td>\n",
       "    </tr>\n",
       "    <tr>\n",
       "      <th>Bhutan</th>\n",
       "      <td>[]</td>\n",
       "      <td>[]</td>\n",
       "    </tr>\n",
       "    <tr>\n",
       "      <th>Brazil</th>\n",
       "      <td>[]</td>\n",
       "      <td>[54882, 57963, 185579, 242620, 298204, 301079, 301464, 302635, 302819, 303702, 303781, 303940, 315173, 325866, 326266, 331463, 332476, 332924, 333597, 334051, 334443, 336819, 362413, 405935, 421151, 4059665, 298424, 298446]</td>\n",
       "    </tr>\n",
       "    <tr>\n",
       "      <th>Bulgaria</th>\n",
       "      <td>[]</td>\n",
       "      <td>[]</td>\n",
       "    </tr>\n",
       "    <tr>\n",
       "      <th>Cambodia</th>\n",
       "      <td>[]</td>\n",
       "      <td>[]</td>\n",
       "    </tr>\n",
       "    <tr>\n",
       "      <th>Chile</th>\n",
       "      <td>[]</td>\n",
       "      <td>[153549]</td>\n",
       "    </tr>\n",
       "    <tr>\n",
       "      <th>Colombia</th>\n",
       "      <td>[14785983, 14785984, 4052088, 18995881, 19013978, 18963579, 19308206, 18999200]</td>\n",
       "      <td>[]</td>\n",
       "    </tr>\n",
       "    <tr>\n",
       "      <th>Czechia</th>\n",
       "      <td>[]</td>\n",
       "      <td>[]</td>\n",
       "    </tr>\n",
       "    <tr>\n",
       "      <th>Denmark</th>\n",
       "      <td>[]</td>\n",
       "      <td>[]</td>\n",
       "    </tr>\n",
       "    <tr>\n",
       "      <th>Ecuador</th>\n",
       "      <td>[]</td>\n",
       "      <td>[]</td>\n",
       "    </tr>\n",
       "    <tr>\n",
       "      <th>Estonia</th>\n",
       "      <td>[]</td>\n",
       "      <td>[]</td>\n",
       "    </tr>\n",
       "    <tr>\n",
       "      <th>Eswatini</th>\n",
       "      <td>[]</td>\n",
       "      <td>[]</td>\n",
       "    </tr>\n",
       "    <tr>\n",
       "      <th>FaroeIslands</th>\n",
       "      <td>[]</td>\n",
       "      <td>[]</td>\n",
       "    </tr>\n",
       "    <tr>\n",
       "      <th>Finland</th>\n",
       "      <td>[]</td>\n",
       "      <td>[]</td>\n",
       "    </tr>\n",
       "    <tr>\n",
       "      <th>Georgia</th>\n",
       "      <td>[]</td>\n",
       "      <td>[1995971]</td>\n",
       "    </tr>\n",
       "    <tr>\n",
       "      <th>Germany</th>\n",
       "      <td>[]</td>\n",
       "      <td>[47826]</td>\n",
       "    </tr>\n",
       "    <tr>\n",
       "      <th>Greece</th>\n",
       "      <td>[15544495]</td>\n",
       "      <td>[192307, 223136]</td>\n",
       "    </tr>\n",
       "    <tr>\n",
       "      <th>Guinea</th>\n",
       "      <td>[]</td>\n",
       "      <td>[]</td>\n",
       "    </tr>\n",
       "    <tr>\n",
       "      <th>Guinea-bissau</th>\n",
       "      <td>[]</td>\n",
       "      <td>[]</td>\n",
       "    </tr>\n",
       "    <tr>\n",
       "      <th>Hungary</th>\n",
       "      <td>[]</td>\n",
       "      <td>[]</td>\n",
       "    </tr>\n",
       "    <tr>\n",
       "      <th>Ireland</th>\n",
       "      <td>[]</td>\n",
       "      <td>[]</td>\n",
       "    </tr>\n",
       "    <tr>\n",
       "      <th>IsleOfMan</th>\n",
       "      <td>[]</td>\n",
       "      <td>[]</td>\n",
       "    </tr>\n",
       "    <tr>\n",
       "      <th>Jordan</th>\n",
       "      <td>[]</td>\n",
       "      <td>[]</td>\n",
       "    </tr>\n",
       "    <tr>\n",
       "      <th>Kyrgyzstan</th>\n",
       "      <td>[]</td>\n",
       "      <td>[178019, 178020, 178023, 178024, 178025, 178026, 1251542]</td>\n",
       "    </tr>\n",
       "    <tr>\n",
       "      <th>Laos</th>\n",
       "      <td>[]</td>\n",
       "      <td>[]</td>\n",
       "    </tr>\n",
       "    <tr>\n",
       "      <th>Latvia</th>\n",
       "      <td>[]</td>\n",
       "      <td>[]</td>\n",
       "    </tr>\n",
       "    <tr>\n",
       "      <th>Lebanon</th>\n",
       "      <td>[]</td>\n",
       "      <td>[184877]</td>\n",
       "    </tr>\n",
       "    <tr>\n",
       "      <th>Libya</th>\n",
       "      <td>[]</td>\n",
       "      <td>[]</td>\n",
       "    </tr>\n",
       "    <tr>\n",
       "      <th>Lithuania</th>\n",
       "      <td>[]</td>\n",
       "      <td>[966958, 974211, 977317, 1028503, 1069509, 1076930, 1211025, 1256237, 1307305]</td>\n",
       "    </tr>\n",
       "    <tr>\n",
       "      <th>Mauritania</th>\n",
       "      <td>[]</td>\n",
       "      <td>[]</td>\n",
       "    </tr>\n",
       "    <tr>\n",
       "      <th>Mexico</th>\n",
       "      <td>[4063348]</td>\n",
       "      <td>[]</td>\n",
       "    </tr>\n",
       "    <tr>\n",
       "      <th>Moldova</th>\n",
       "      <td>[]</td>\n",
       "      <td>[]</td>\n",
       "    </tr>\n",
       "    <tr>\n",
       "      <th>Mongolia</th>\n",
       "      <td>[]</td>\n",
       "      <td>[]</td>\n",
       "    </tr>\n",
       "    <tr>\n",
       "      <th>Montenegro</th>\n",
       "      <td>[]</td>\n",
       "      <td>[]</td>\n",
       "    </tr>\n",
       "    <tr>\n",
       "      <th>Myanmar</th>\n",
       "      <td>[18997125, 18996972, 18997003, 18997068, 18997125, 19097176]</td>\n",
       "      <td>[1908810, 5996473, 5996474, 5996475, 5996476, 5996477, 5996478, 5996479, 5996480, 5996481, 5996482, 5996484, 5996485, 5996486, 5996487]</td>\n",
       "    </tr>\n",
       "    <tr>\n",
       "      <th>Nepal</th>\n",
       "      <td>[]</td>\n",
       "      <td>[]</td>\n",
       "    </tr>\n",
       "    <tr>\n",
       "      <th>NorthKorea</th>\n",
       "      <td>[]</td>\n",
       "      <td>[356379, 356386, 356392, 356419, 356442, 356443, 356533, 356535, 356540, 3781418]</td>\n",
       "    </tr>\n",
       "    <tr>\n",
       "      <th>NorthMacedonia</th>\n",
       "      <td>[]</td>\n",
       "      <td>[]</td>\n",
       "    </tr>\n",
       "    <tr>\n",
       "      <th>Poland</th>\n",
       "      <td>[]</td>\n",
       "      <td>[]</td>\n",
       "    </tr>\n",
       "    <tr>\n",
       "      <th>Romania</th>\n",
       "      <td>[]</td>\n",
       "      <td>[]</td>\n",
       "    </tr>\n",
       "    <tr>\n",
       "      <th>Russia</th>\n",
       "      <td>[]</td>\n",
       "      <td>[72169, 72181, 72639, 81995, 81996, 81997, 89331, 115106, 140292, 140294, 140295, 144763, 144764, 145194, 145195, 145454, 145729, 145730, 151225, 151228, 151233, 155262, 176095, 190090, 190911, 337422, 393980, 1574364, 2095259, 19161849, 19161871, 19161924, 19161954, 19162030, 19162067, 19162084, 19162115, 19162129]</td>\n",
       "    </tr>\n",
       "    <tr>\n",
       "      <th>Rwanda</th>\n",
       "      <td>[]</td>\n",
       "      <td>[]</td>\n",
       "    </tr>\n",
       "    <tr>\n",
       "      <th>SanMarino</th>\n",
       "      <td>[]</td>\n",
       "      <td>[]</td>\n",
       "    </tr>\n",
       "    <tr>\n",
       "      <th>Senegal</th>\n",
       "      <td>[]</td>\n",
       "      <td>[]</td>\n",
       "    </tr>\n",
       "    <tr>\n",
       "      <th>SierraLeone</th>\n",
       "      <td>[]</td>\n",
       "      <td>[]</td>\n",
       "    </tr>\n",
       "    <tr>\n",
       "      <th>Slovakia</th>\n",
       "      <td>[]</td>\n",
       "      <td>[388265, 388266, 388267, 388268, 388269, 388270, 388271, 388272]</td>\n",
       "    </tr>\n",
       "    <tr>\n",
       "      <th>SouthAfrica</th>\n",
       "      <td>[]</td>\n",
       "      <td>[]</td>\n",
       "    </tr>\n",
       "    <tr>\n",
       "      <th>Sweden</th>\n",
       "      <td>[]</td>\n",
       "      <td>[]</td>\n",
       "    </tr>\n",
       "    <tr>\n",
       "      <th>Switzerland</th>\n",
       "      <td>[]</td>\n",
       "      <td>[]</td>\n",
       "    </tr>\n",
       "    <tr>\n",
       "      <th>Syria</th>\n",
       "      <td>[]</td>\n",
       "      <td>[]</td>\n",
       "    </tr>\n",
       "    <tr>\n",
       "      <th>TheGambia</th>\n",
       "      <td>[]</td>\n",
       "      <td>[]</td>\n",
       "    </tr>\n",
       "    <tr>\n",
       "      <th>Tunisia</th>\n",
       "      <td>[]</td>\n",
       "      <td>[2060182]</td>\n",
       "    </tr>\n",
       "    <tr>\n",
       "      <th>Turkey</th>\n",
       "      <td>[]</td>\n",
       "      <td>[]</td>\n",
       "    </tr>\n",
       "    <tr>\n",
       "      <th>Ukraine</th>\n",
       "      <td>[]</td>\n",
       "      <td>[71064, 71245, 71248, 1574364]</td>\n",
       "    </tr>\n",
       "    <tr>\n",
       "      <th>UnitedKingdom</th>\n",
       "      <td>[]</td>\n",
       "      <td>[]</td>\n",
       "    </tr>\n",
       "    <tr>\n",
       "      <th>VaticanCity</th>\n",
       "      <td>[]</td>\n",
       "      <td>[]</td>\n",
       "    </tr>\n",
       "    <tr>\n",
       "      <th>Vietnam</th>\n",
       "      <td>[]</td>\n",
       "      <td>[1903516]</td>\n",
       "    </tr>\n",
       "  </tbody>\n",
       "</table>\n",
       "    </div>\n",
       "    "
      ],
      "text/plain": [
       "<IPython.core.display.HTML object>"
      ]
     },
     "metadata": {},
     "output_type": "display_data"
    }
   ],
   "source": [
    "temp = pd.DataFrame(osm_basic_test)\n",
    "df_peek(temp.T)"
   ]
  },
  {
   "cell_type": "code",
   "execution_count": 83,
   "id": "aa86a86a",
   "metadata": {},
   "outputs": [
    {
     "data": {
      "text/html": [
       "\n",
       "    <div style=\"overflow:auto; max-height:500px; max-width:100%; border:1px solid #ccc; padding:4px;\">\n",
       "        <table border=\"1\" class=\"dataframe\">\n",
       "  <thead>\n",
       "    <tr style=\"text-align: right;\">\n",
       "      <th></th>\n",
       "      <th>missing.name</th>\n",
       "      <th>leak</th>\n",
       "    </tr>\n",
       "  </thead>\n",
       "  <tbody>\n",
       "    <tr>\n",
       "      <th>Albania</th>\n",
       "      <td>0</td>\n",
       "      <td>0</td>\n",
       "    </tr>\n",
       "    <tr>\n",
       "      <th>Algeria</th>\n",
       "      <td>0</td>\n",
       "      <td>0</td>\n",
       "    </tr>\n",
       "    <tr>\n",
       "      <th>Andorra</th>\n",
       "      <td>0</td>\n",
       "      <td>0</td>\n",
       "    </tr>\n",
       "    <tr>\n",
       "      <th>Australia</th>\n",
       "      <td>0</td>\n",
       "      <td>0</td>\n",
       "    </tr>\n",
       "    <tr>\n",
       "      <th>Austria</th>\n",
       "      <td>0</td>\n",
       "      <td>1</td>\n",
       "    </tr>\n",
       "    <tr>\n",
       "      <th>Bangladesh</th>\n",
       "      <td>1</td>\n",
       "      <td>9</td>\n",
       "    </tr>\n",
       "    <tr>\n",
       "      <th>Belarus</th>\n",
       "      <td>0</td>\n",
       "      <td>6</td>\n",
       "    </tr>\n",
       "    <tr>\n",
       "      <th>Belgium</th>\n",
       "      <td>0</td>\n",
       "      <td>7</td>\n",
       "    </tr>\n",
       "    <tr>\n",
       "      <th>Bhutan</th>\n",
       "      <td>0</td>\n",
       "      <td>0</td>\n",
       "    </tr>\n",
       "    <tr>\n",
       "      <th>Brazil</th>\n",
       "      <td>0</td>\n",
       "      <td>28</td>\n",
       "    </tr>\n",
       "    <tr>\n",
       "      <th>Bulgaria</th>\n",
       "      <td>0</td>\n",
       "      <td>0</td>\n",
       "    </tr>\n",
       "    <tr>\n",
       "      <th>Cambodia</th>\n",
       "      <td>0</td>\n",
       "      <td>0</td>\n",
       "    </tr>\n",
       "    <tr>\n",
       "      <th>Chile</th>\n",
       "      <td>0</td>\n",
       "      <td>1</td>\n",
       "    </tr>\n",
       "    <tr>\n",
       "      <th>Colombia</th>\n",
       "      <td>8</td>\n",
       "      <td>0</td>\n",
       "    </tr>\n",
       "    <tr>\n",
       "      <th>Czechia</th>\n",
       "      <td>0</td>\n",
       "      <td>0</td>\n",
       "    </tr>\n",
       "    <tr>\n",
       "      <th>Denmark</th>\n",
       "      <td>0</td>\n",
       "      <td>0</td>\n",
       "    </tr>\n",
       "    <tr>\n",
       "      <th>Ecuador</th>\n",
       "      <td>0</td>\n",
       "      <td>0</td>\n",
       "    </tr>\n",
       "    <tr>\n",
       "      <th>Estonia</th>\n",
       "      <td>0</td>\n",
       "      <td>0</td>\n",
       "    </tr>\n",
       "    <tr>\n",
       "      <th>Eswatini</th>\n",
       "      <td>0</td>\n",
       "      <td>0</td>\n",
       "    </tr>\n",
       "    <tr>\n",
       "      <th>FaroeIslands</th>\n",
       "      <td>0</td>\n",
       "      <td>0</td>\n",
       "    </tr>\n",
       "    <tr>\n",
       "      <th>Finland</th>\n",
       "      <td>0</td>\n",
       "      <td>0</td>\n",
       "    </tr>\n",
       "    <tr>\n",
       "      <th>Georgia</th>\n",
       "      <td>0</td>\n",
       "      <td>1</td>\n",
       "    </tr>\n",
       "    <tr>\n",
       "      <th>Germany</th>\n",
       "      <td>0</td>\n",
       "      <td>1</td>\n",
       "    </tr>\n",
       "    <tr>\n",
       "      <th>Greece</th>\n",
       "      <td>1</td>\n",
       "      <td>2</td>\n",
       "    </tr>\n",
       "    <tr>\n",
       "      <th>Guinea</th>\n",
       "      <td>0</td>\n",
       "      <td>0</td>\n",
       "    </tr>\n",
       "    <tr>\n",
       "      <th>Guinea-bissau</th>\n",
       "      <td>0</td>\n",
       "      <td>0</td>\n",
       "    </tr>\n",
       "    <tr>\n",
       "      <th>Hungary</th>\n",
       "      <td>0</td>\n",
       "      <td>0</td>\n",
       "    </tr>\n",
       "    <tr>\n",
       "      <th>Ireland</th>\n",
       "      <td>0</td>\n",
       "      <td>0</td>\n",
       "    </tr>\n",
       "    <tr>\n",
       "      <th>IsleOfMan</th>\n",
       "      <td>0</td>\n",
       "      <td>0</td>\n",
       "    </tr>\n",
       "    <tr>\n",
       "      <th>Jordan</th>\n",
       "      <td>0</td>\n",
       "      <td>0</td>\n",
       "    </tr>\n",
       "    <tr>\n",
       "      <th>Kyrgyzstan</th>\n",
       "      <td>0</td>\n",
       "      <td>7</td>\n",
       "    </tr>\n",
       "    <tr>\n",
       "      <th>Laos</th>\n",
       "      <td>0</td>\n",
       "      <td>0</td>\n",
       "    </tr>\n",
       "    <tr>\n",
       "      <th>Latvia</th>\n",
       "      <td>0</td>\n",
       "      <td>0</td>\n",
       "    </tr>\n",
       "    <tr>\n",
       "      <th>Lebanon</th>\n",
       "      <td>0</td>\n",
       "      <td>1</td>\n",
       "    </tr>\n",
       "    <tr>\n",
       "      <th>Libya</th>\n",
       "      <td>0</td>\n",
       "      <td>0</td>\n",
       "    </tr>\n",
       "    <tr>\n",
       "      <th>Lithuania</th>\n",
       "      <td>0</td>\n",
       "      <td>9</td>\n",
       "    </tr>\n",
       "    <tr>\n",
       "      <th>Mauritania</th>\n",
       "      <td>0</td>\n",
       "      <td>0</td>\n",
       "    </tr>\n",
       "    <tr>\n",
       "      <th>Mexico</th>\n",
       "      <td>1</td>\n",
       "      <td>0</td>\n",
       "    </tr>\n",
       "    <tr>\n",
       "      <th>Moldova</th>\n",
       "      <td>0</td>\n",
       "      <td>0</td>\n",
       "    </tr>\n",
       "    <tr>\n",
       "      <th>Mongolia</th>\n",
       "      <td>0</td>\n",
       "      <td>0</td>\n",
       "    </tr>\n",
       "    <tr>\n",
       "      <th>Montenegro</th>\n",
       "      <td>0</td>\n",
       "      <td>0</td>\n",
       "    </tr>\n",
       "    <tr>\n",
       "      <th>Myanmar</th>\n",
       "      <td>6</td>\n",
       "      <td>15</td>\n",
       "    </tr>\n",
       "    <tr>\n",
       "      <th>Nepal</th>\n",
       "      <td>0</td>\n",
       "      <td>0</td>\n",
       "    </tr>\n",
       "    <tr>\n",
       "      <th>NorthKorea</th>\n",
       "      <td>0</td>\n",
       "      <td>10</td>\n",
       "    </tr>\n",
       "    <tr>\n",
       "      <th>NorthMacedonia</th>\n",
       "      <td>0</td>\n",
       "      <td>0</td>\n",
       "    </tr>\n",
       "    <tr>\n",
       "      <th>Poland</th>\n",
       "      <td>0</td>\n",
       "      <td>0</td>\n",
       "    </tr>\n",
       "    <tr>\n",
       "      <th>Romania</th>\n",
       "      <td>0</td>\n",
       "      <td>0</td>\n",
       "    </tr>\n",
       "    <tr>\n",
       "      <th>Russia</th>\n",
       "      <td>0</td>\n",
       "      <td>38</td>\n",
       "    </tr>\n",
       "    <tr>\n",
       "      <th>Rwanda</th>\n",
       "      <td>0</td>\n",
       "      <td>0</td>\n",
       "    </tr>\n",
       "    <tr>\n",
       "      <th>SanMarino</th>\n",
       "      <td>0</td>\n",
       "      <td>0</td>\n",
       "    </tr>\n",
       "    <tr>\n",
       "      <th>Senegal</th>\n",
       "      <td>0</td>\n",
       "      <td>0</td>\n",
       "    </tr>\n",
       "    <tr>\n",
       "      <th>SierraLeone</th>\n",
       "      <td>0</td>\n",
       "      <td>0</td>\n",
       "    </tr>\n",
       "    <tr>\n",
       "      <th>Slovakia</th>\n",
       "      <td>0</td>\n",
       "      <td>8</td>\n",
       "    </tr>\n",
       "    <tr>\n",
       "      <th>SouthAfrica</th>\n",
       "      <td>0</td>\n",
       "      <td>0</td>\n",
       "    </tr>\n",
       "    <tr>\n",
       "      <th>Sweden</th>\n",
       "      <td>0</td>\n",
       "      <td>0</td>\n",
       "    </tr>\n",
       "    <tr>\n",
       "      <th>Switzerland</th>\n",
       "      <td>0</td>\n",
       "      <td>0</td>\n",
       "    </tr>\n",
       "    <tr>\n",
       "      <th>Syria</th>\n",
       "      <td>0</td>\n",
       "      <td>0</td>\n",
       "    </tr>\n",
       "    <tr>\n",
       "      <th>TheGambia</th>\n",
       "      <td>0</td>\n",
       "      <td>0</td>\n",
       "    </tr>\n",
       "    <tr>\n",
       "      <th>Tunisia</th>\n",
       "      <td>0</td>\n",
       "      <td>1</td>\n",
       "    </tr>\n",
       "    <tr>\n",
       "      <th>Turkey</th>\n",
       "      <td>0</td>\n",
       "      <td>0</td>\n",
       "    </tr>\n",
       "    <tr>\n",
       "      <th>Ukraine</th>\n",
       "      <td>0</td>\n",
       "      <td>4</td>\n",
       "    </tr>\n",
       "    <tr>\n",
       "      <th>UnitedKingdom</th>\n",
       "      <td>0</td>\n",
       "      <td>0</td>\n",
       "    </tr>\n",
       "    <tr>\n",
       "      <th>VaticanCity</th>\n",
       "      <td>0</td>\n",
       "      <td>0</td>\n",
       "    </tr>\n",
       "    <tr>\n",
       "      <th>Vietnam</th>\n",
       "      <td>0</td>\n",
       "      <td>1</td>\n",
       "    </tr>\n",
       "  </tbody>\n",
       "</table>\n",
       "    </div>\n",
       "    "
      ],
      "text/plain": [
       "<IPython.core.display.HTML object>"
      ]
     },
     "metadata": {},
     "output_type": "display_data"
    }
   ],
   "source": [
    "df_peek(temp.T.map(len))"
   ]
  },
  {
   "cell_type": "markdown",
   "id": "ad91c8a3",
   "metadata": {},
   "source": [
    "## 2. osm duplicates test"
   ]
  },
  {
   "cell_type": "code",
   "execution_count": 66,
   "id": "d3bf519a",
   "metadata": {},
   "outputs": [],
   "source": [
    "reloadPckg()"
   ]
  },
  {
   "cell_type": "markdown",
   "id": "6bb61d7b",
   "metadata": {},
   "source": [
    "## load processed data and re-run tests"
   ]
  },
  {
   "cell_type": "code",
   "execution_count": 55,
   "id": "8ed93df2",
   "metadata": {},
   "outputs": [
    {
     "data": {
      "text/plain": [
       "1341"
      ]
     },
     "execution_count": 55,
     "metadata": {},
     "output_type": "execute_result"
    }
   ],
   "source": [
    "odt_processed_info = tgm.load(os.path.join(os.getcwd(), \"../data/tests results/osm duplicates test\", \"odt_processed_info.pkl\"))\n",
    "len(odt_processed_info)"
   ]
  },
  {
   "cell_type": "code",
   "execution_count": 56,
   "id": "4c1338a1",
   "metadata": {},
   "outputs": [
    {
     "data": {
      "text/plain": [
       "1339"
      ]
     },
     "execution_count": 56,
     "metadata": {},
     "output_type": "execute_result"
    }
   ],
   "source": [
    "odt_processed_info = {k:v for k,v in odt_processed_info.items() if not k[1]=='19415099'}\n",
    "len(odt_processed_info)"
   ]
  },
  {
   "cell_type": "code",
   "execution_count": 67,
   "id": "3576402d",
   "metadata": {},
   "outputs": [
    {
     "name": "stderr",
     "output_type": "stream",
     "text": [
      "[INFO] : [64/64] Processing Vietnam\n",
      "[INFO] :  - duplicate elements by id: 13\n",
      "[INFO] :  - testing osm center: 13\n",
      "[INFO] :   * ['19415099', '1844412']:\n"
     ]
    },
    {
     "name": "stdout",
     "output_type": "stream",
     "text": [
      " - Getting center of child: \n",
      " - Getting parent that contains center: \n"
     ]
    },
    {
     "name": "stderr",
     "output_type": "stream",
     "text": [
      "[INFO] :   * finished: status: ('ok', ''); result: True\n",
      "[INFO] :   * ['19415099', '1902967']:\n"
     ]
    },
    {
     "name": "stdout",
     "output_type": "stream",
     "text": [
      " - Getting center of child: \n",
      " - Getting parent that contains center: \n"
     ]
    },
    {
     "name": "stderr",
     "output_type": "stream",
     "text": [
      "[INFO] :   * finished: status: ('ok', ''); result: False\n",
      "[INFO] :   * ['12138923', '19539163']:\n",
      "[INFO] :   * already tested: pass\n",
      "[INFO] :   * ['13470001', '19539163']:\n",
      "[INFO] :   * already tested: pass\n",
      "[INFO] :   * ['12138923', '19539228']:\n",
      "[INFO] :   * already tested: pass\n",
      "[INFO] :   * ['13470001', '19539159']:\n",
      "[INFO] :   * already tested: pass\n",
      "[INFO] :   * ['13470001', '19539161']:\n",
      "[INFO] :   * already tested: pass\n",
      "[INFO] :   * ['12138923', '19539173']:\n",
      "[INFO] :   * already tested: pass\n",
      "[INFO] :   * ['12138923', '19539197']:\n",
      "[INFO] :   * already tested: pass\n",
      "[INFO] :   * ['12138923', '19539198']:\n",
      "[INFO] :   * already tested: pass\n",
      "[INFO] :   * ['13470001', '19539198']:\n",
      "[INFO] :   * already tested: pass\n",
      "[INFO] :   * ['18305258', '18439792']:\n"
     ]
    },
    {
     "name": "stdout",
     "output_type": "stream",
     "text": [
      " - Getting center of child: \n"
     ]
    },
    {
     "name": "stderr",
     "output_type": "stream",
     "text": [
      "[INFO] :   * finished: status: ('error', 'missing_center'); result: \n",
      "[INFO] :   * ['18305258', '19377767']:\n"
     ]
    },
    {
     "name": "stdout",
     "output_type": "stream",
     "text": [
      " - Getting center of child: \n"
     ]
    },
    {
     "name": "stderr",
     "output_type": "stream",
     "text": [
      "[INFO] :   * finished: status: ('error', 'missing_center'); result: \n"
     ]
    }
   ],
   "source": [
    "dup_test_logger = logconfig.initiate_logger('../data/tests results/osm duplicates test/odt_dup_test.log', 'dup_test_logger')\n",
    "\n",
    "odt_test_res = osmt.countries_run_test(\n",
    "    df_by_cntr, \n",
    "    osmt.osm_duplicates_test_center,\n",
    "    dup_test_logger,\n",
    "    save=True,\n",
    "    save_dir=os.path.join(os.getcwd(), f\"../data/tests results/osm duplicates test\"),\n",
    "    processed_info = odt_processed_info\n",
    ")"
   ]
  },
  {
   "cell_type": "code",
   "execution_count": 68,
   "id": "addfae64",
   "metadata": {},
   "outputs": [
    {
     "data": {
      "text/plain": [
       "1"
      ]
     },
     "execution_count": 68,
     "metadata": {},
     "output_type": "execute_result"
    }
   ],
   "source": [
    "odt_test_res_not_empty = {\n",
    "    k:v \n",
    "    for k,v in odt_test_res.items() \n",
    "    if v['test_res']\n",
    "    and v['duplicate.keep_elems']\n",
    "    and v['duplicate.delete_elems']\n",
    "}\n",
    "len(odt_test_res_not_empty)"
   ]
  },
  {
   "cell_type": "code",
   "execution_count": 69,
   "id": "8df3171e",
   "metadata": {},
   "outputs": [
    {
     "data": {
      "text/plain": [
       "{'Vietnam': {'test_res': {('19415099', '1844412'): {'status': 'ok',\n",
       "    'result': True,\n",
       "    'data': {'version': 0.6,\n",
       "     'generator': 'Overpass API 0.7.62.8 e802775f',\n",
       "     'osm3s': {'timestamp_osm_base': '2025-10-26T17:49:55Z',\n",
       "      'timestamp_areas_base': '2025-10-26T11:58:06Z',\n",
       "      'copyright': 'The data included in this document is from www.openstreetmap.org. The data is made available under ODbL.'},\n",
       "     'elements': [{'type': 'relation', 'id': 1844412}]}},\n",
       "   ('19415099', '1902967'): {'status': 'ok',\n",
       "    'result': False,\n",
       "    'data': {'version': 0.6,\n",
       "     'generator': 'Overpass API 0.7.62.8 e802775f',\n",
       "     'osm3s': {'timestamp_osm_base': '2025-10-26T17:49:55Z',\n",
       "      'timestamp_areas_base': '2025-10-26T11:58:06Z',\n",
       "      'copyright': 'The data included in this document is from www.openstreetmap.org. The data is made available under ODbL.'},\n",
       "     'elements': []}},\n",
       "   ('18305258', '18439792'): {'status': 'error',\n",
       "    'error_type': 'missing_center',\n",
       "    'data': {'version': 0.6,\n",
       "     'generator': 'Overpass API 0.7.62.8 e802775f',\n",
       "     'osm3s': {'timestamp_osm_base': '2025-10-26T17:49:55Z',\n",
       "      'copyright': 'The data included in this document is from www.openstreetmap.org. The data is made available under ODbL.'},\n",
       "     'elements': []}},\n",
       "   ('18305258', '19377767'): {'status': 'error',\n",
       "    'error_type': 'missing_center',\n",
       "    'data': {'version': 0.6,\n",
       "     'generator': 'Overpass API 0.7.62.8 e802775f',\n",
       "     'osm3s': {'timestamp_osm_base': '2025-10-26T17:49:55Z',\n",
       "      'copyright': 'The data included in this document is from www.openstreetmap.org. The data is made available under ODbL.'},\n",
       "     'elements': []}}},\n",
       "  'duplicate.keep_elems': [('19415099', '1844412')],\n",
       "  'duplicate.delete_elems': [('19415099', '1902967')]}}"
      ]
     },
     "execution_count": 69,
     "metadata": {},
     "output_type": "execute_result"
    }
   ],
   "source": [
    "odt_test_res_not_empty"
   ]
  },
  {
   "cell_type": "markdown",
   "id": "1da0466c",
   "metadata": {},
   "source": [
    "## merge and save results"
   ]
  },
  {
   "cell_type": "code",
   "execution_count": 70,
   "id": "10cf0a4e",
   "metadata": {},
   "outputs": [
    {
     "name": "stdout",
     "output_type": "stream",
     "text": [
      "1\n"
     ]
    }
   ],
   "source": [
    "test_res_to_merge = odt_test_res_not_empty\n",
    "print(len(test_res_to_merge))"
   ]
  },
  {
   "cell_type": "code",
   "execution_count": 71,
   "id": "f1d57067",
   "metadata": {},
   "outputs": [],
   "source": [
    "for k,v in test_res_to_merge.items():\n",
    "    data_path = os.path.join(os.getcwd(), f\"../data/tests results/osm duplicates test/{k}/{k}_test_res.pkl\")\n",
    "    if not os.path.exists(data_path):\n",
    "        tgm.dump(data_path, v)\n",
    "    else:\n",
    "        test_res_old_value = tgm.load(data_path)\n",
    "        test_res_to_save= {}\n",
    "        test_res_to_save['test_res'] = test_res_old_value['test_res'] | test_res_to_merge[k]['test_res']\n",
    "        test_res_to_save['duplicate.keep_elems'] = list(set(test_res_old_value['duplicate.keep_elems']) | set(test_res_to_merge[k]['duplicate.keep_elems']))\n",
    "        test_res_to_save['duplicate.delete_elems'] = list(set(test_res_old_value['duplicate.delete_elems']) | set(test_res_to_merge[k]['duplicate.delete_elems']))\n",
    "        tgm.dump(data_path, test_res_to_save)"
   ]
  },
  {
   "cell_type": "code",
   "execution_count": 72,
   "id": "64a4c725",
   "metadata": {},
   "outputs": [
    {
     "name": "stdout",
     "output_type": "stream",
     "text": [
      "64\n"
     ]
    }
   ],
   "source": [
    "data_dir = Path(os.path.join(os.getcwd(), '..', 'data/tests results/osm duplicates test'))\n",
    "odt_test_res_files = [f for f in data_dir.rglob('*/*.pkl')]\n",
    "print(len(odt_test_res_files))\n",
    "\n",
    "odt_test_res_old = {\n",
    "    file.parent.name:tgm.load(str(file))\n",
    "    for file in odt_test_res_files\n",
    "}"
   ]
  },
  {
   "cell_type": "code",
   "execution_count": 73,
   "id": "ce3c789b",
   "metadata": {},
   "outputs": [
    {
     "data": {
      "text/plain": [
       "{'test_res': {('6543282', '6543265'): {'status': 'ok',\n",
       "   'result': True,\n",
       "   'data': {'version': 0.6,\n",
       "    'generator': 'Overpass API 0.7.62.8 e802775f',\n",
       "    'osm3s': {'timestamp_osm_base': '2025-10-24T21:14:52Z',\n",
       "     'timestamp_areas_base': '2025-10-24T13:15:50Z',\n",
       "     'copyright': 'The data included in this document is from www.openstreetmap.org. The data is made available under ODbL.'},\n",
       "    'elements': [{'type': 'relation', 'id': 6543265}]}},\n",
       "  ('6543282', '6543273'): {'status': 'ok',\n",
       "   'result': False,\n",
       "   'data': {'version': 0.6,\n",
       "    'generator': 'Overpass API 0.7.62.8 e802775f',\n",
       "    'osm3s': {'timestamp_osm_base': '2025-10-24T21:14:52Z',\n",
       "     'timestamp_areas_base': '2025-10-24T13:15:50Z',\n",
       "     'copyright': 'The data included in this document is from www.openstreetmap.org. The data is made available under ODbL.'},\n",
       "    'elements': []}}},\n",
       " 'duplicate.keep_elems': [('6543282', '6543265')],\n",
       " 'duplicate.delete_elems': [('6543282', '6543273')]}"
      ]
     },
     "execution_count": 73,
     "metadata": {},
     "output_type": "execute_result"
    }
   ],
   "source": [
    "odt_test_res_old['Algeria']"
   ]
  },
  {
   "cell_type": "code",
   "execution_count": 77,
   "id": "cb613fa4",
   "metadata": {},
   "outputs": [
    {
     "data": {
      "text/plain": [
       "(version, generator, osm3s, elements)    1343\n",
       "Name: count, dtype: int64"
      ]
     },
     "execution_count": 77,
     "metadata": {},
     "output_type": "execute_result"
    }
   ],
   "source": [
    "temp_list = []\n",
    "for ck,cv in odt_test_res_old.items():\n",
    "    for ek,ev in cv['test_res'].items():\n",
    "        temp_list.append(ev['data'].keys())\n",
    "temp = pd.Series(temp_list)\n",
    "temp.value_counts()"
   ]
  },
  {
   "cell_type": "markdown",
   "id": "86ced354",
   "metadata": {},
   "source": [
    "## compute new odt_processed_info"
   ]
  },
  {
   "cell_type": "code",
   "execution_count": 74,
   "id": "6f95264d",
   "metadata": {},
   "outputs": [
    {
     "name": "stdout",
     "output_type": "stream",
     "text": [
      "64\n"
     ]
    }
   ],
   "source": [
    "data_dir = Path(os.path.join(os.getcwd(), '..', 'data/tests results/osm duplicates test'))\n",
    "odt_test_res_files = [f for f in data_dir.rglob('*/*.pkl')]\n",
    "print(len(odt_test_res_files))\n",
    "\n",
    "odt_processed_info_new = {}\n",
    "for file in odt_test_res_files:\n",
    "    test_res = tgm.load(str(file))['test_res']\n",
    "    for k,v in test_res.items():\n",
    "        if v['status'] == 'ok':\n",
    "            odt_processed_info_new[(file.parent.name, k[0], k[1])] = dict(filter(lambda item: item[0] in ['status','result'], v.items()))"
   ]
  },
  {
   "cell_type": "code",
   "execution_count": 75,
   "id": "98940ba3",
   "metadata": {},
   "outputs": [],
   "source": [
    "tgm.dump(os.path.join(os.getcwd(), \"../data/tests results/osm duplicates test\", \"odt_processed_info.pkl\"), odt_processed_info_new)"
   ]
  }
 ],
 "metadata": {
  "kernelspec": {
   "display_name": ".venv",
   "language": "python",
   "name": "python3"
  },
  "language_info": {
   "codemirror_mode": {
    "name": "ipython",
    "version": 3
   },
   "file_extension": ".py",
   "mimetype": "text/x-python",
   "name": "python",
   "nbconvert_exporter": "python",
   "pygments_lexer": "ipython3",
   "version": "3.14.0"
  }
 },
 "nbformat": 4,
 "nbformat_minor": 5
}
