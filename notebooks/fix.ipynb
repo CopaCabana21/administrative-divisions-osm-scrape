{
 "cells": [
  {
   "cell_type": "markdown",
   "id": "11747c76",
   "metadata": {},
   "source": [
    "# Init"
   ]
  },
  {
   "cell_type": "code",
   "execution_count": null,
   "id": "b323d5e5",
   "metadata": {},
   "outputs": [],
   "source": [
    "# init\n",
    "from importlib import reload\n",
    "from pathlib import Path\n",
    "import os\n",
    "import sys\n",
    "import pandas as pd\n",
    "\n",
    "sys.path.append('..')\n",
    "sys.path.append(\"C:/Users/gonta/D/software developer/packages\")\n",
    "import toolsGeneral.main as tgm\n",
    "import toolsPandas.helpers as tph\n",
    "\n",
    "def reloadPckg():\n",
    "    reload(tgm)\n",
    "    reload(tph)"
   ]
  },
  {
   "cell_type": "markdown",
   "id": "2942339f",
   "metadata": {},
   "source": [
    "# Import"
   ]
  },
  {
   "cell_type": "code",
   "execution_count": 115,
   "id": "7a626c8f",
   "metadata": {},
   "outputs": [
    {
     "name": "stdout",
     "output_type": "stream",
     "text": [
      "64\n",
      "64\n"
     ]
    }
   ],
   "source": [
    "# import\n",
    "dataDir = Path(os.path.join(os.getcwd(), '..', 'data/normalized'))\n",
    "rawFiles = [f for f in dataDir.rglob('*/*.pkl')]\n",
    "print(len(rawFiles))\n",
    "\n",
    "df_by_cntr = {\n",
    "    file.parent.name:tgm.load(str(file))\n",
    "    for file in rawFiles\n",
    "}\n",
    "print(len(df_by_cntr))"
   ]
  },
  {
   "cell_type": "code",
   "execution_count": 2,
   "id": "c89e6825",
   "metadata": {},
   "outputs": [
    {
     "data": {
      "text/plain": [
       "118738"
      ]
     },
     "execution_count": 2,
     "metadata": {},
     "output_type": "execute_result"
    }
   ],
   "source": [
    "temp = pd.concat(df_by_cntr.values(), ignore_index=True)\n",
    "len(temp)"
   ]
  },
  {
   "cell_type": "code",
   "execution_count": 3,
   "id": "3c3e9522",
   "metadata": {},
   "outputs": [
    {
     "data": {
      "text/plain": [
       "<class 'pandas._libs.missing.NAType'>    827091\n",
       "<class 'str'>                            597765\n",
       "Name: count, dtype: int64"
      ]
     },
     "execution_count": 3,
     "metadata": {},
     "output_type": "execute_result"
    }
   ],
   "source": [
    "pd.Series(temp.values.flatten()).map(type).value_counts()"
   ]
  },
  {
   "cell_type": "markdown",
   "id": "7d112fd1",
   "metadata": {},
   "source": [
    "# Apply fixes"
   ]
  },
  {
   "cell_type": "markdown",
   "id": "5ea3e09f",
   "metadata": {},
   "source": [
    "## 1. osm basic fix"
   ]
  },
  {
   "cell_type": "code",
   "execution_count": 2,
   "id": "04355b6f",
   "metadata": {},
   "outputs": [
    {
     "name": "stdout",
     "output_type": "stream",
     "text": [
      "64\n",
      "292\n"
     ]
    }
   ],
   "source": [
    "osm_basic_test = tgm.load(os.path.join('..', 'data', 'tests results', 'osm_basic_test.pkl'))\n",
    "print(len(osm_basic_test))\n",
    "to_delete = []\n",
    "for k,v in osm_basic_test.items():\n",
    "    to_delete.extend(v['missing.name'])\n",
    "    to_delete.extend(v['leak'])\n",
    "\n",
    "to_delete = set(to_delete)\n",
    "print(len(to_delete))"
   ]
  },
  {
   "cell_type": "code",
   "execution_count": 59,
   "id": "0716b0a7",
   "metadata": {},
   "outputs": [
    {
     "data": {
      "text/html": [
       "\n",
       "    <div style=\"overflow:auto; max-height:500px; max-width:100%; border:1px solid #ccc; padding:4px;\">\n",
       "        <table border=\"1\" class=\"dataframe\">\n",
       "  <thead>\n",
       "    <tr style=\"text-align: right;\">\n",
       "      <th></th>\n",
       "      <th>missing.name</th>\n",
       "      <th>leak</th>\n",
       "    </tr>\n",
       "  </thead>\n",
       "  <tbody>\n",
       "    <tr>\n",
       "      <th>Albania</th>\n",
       "      <td>[]</td>\n",
       "      <td>[]</td>\n",
       "    </tr>\n",
       "    <tr>\n",
       "      <th>Algeria</th>\n",
       "      <td>[]</td>\n",
       "      <td>[]</td>\n",
       "    </tr>\n",
       "    <tr>\n",
       "      <th>Andorra</th>\n",
       "      <td>[]</td>\n",
       "      <td>[]</td>\n",
       "    </tr>\n",
       "    <tr>\n",
       "      <th>Australia</th>\n",
       "      <td>[]</td>\n",
       "      <td>[]</td>\n",
       "    </tr>\n",
       "    <tr>\n",
       "      <th>Austria</th>\n",
       "      <td>[]</td>\n",
       "      <td>[52345]</td>\n",
       "    </tr>\n",
       "    <tr>\n",
       "      <th>Bangladesh</th>\n",
       "      <td>[14326679]</td>\n",
       "      <td>[3824588, 3825003, 3859335, 3921211, 3921222, 3921298, 3921322, 7318343, 9455570]</td>\n",
       "    </tr>\n",
       "    <tr>\n",
       "      <th>Belarus</th>\n",
       "      <td>[]</td>\n",
       "      <td>[59162, 59189, 59195, 59275, 59506, 59752]</td>\n",
       "    </tr>\n",
       "    <tr>\n",
       "      <th>Belgium</th>\n",
       "      <td>[]</td>\n",
       "      <td>[4217435, 7394, 7400, 7411, 7427, 7463, 7400]</td>\n",
       "    </tr>\n",
       "    <tr>\n",
       "      <th>Bhutan</th>\n",
       "      <td>[]</td>\n",
       "      <td>[]</td>\n",
       "    </tr>\n",
       "    <tr>\n",
       "      <th>Brazil</th>\n",
       "      <td>[]</td>\n",
       "      <td>[54882, 57963, 185579, 242620, 298204, 301079, 301464, 302635, 302819, 303702, 303781, 303940, 315173, 325866, 326266, 331463, 332476, 332924, 333597, 334051, 334443, 336819, 362413, 405935, 421151, 4059665, 298424, 298446]</td>\n",
       "    </tr>\n",
       "    <tr>\n",
       "      <th>Bulgaria</th>\n",
       "      <td>[]</td>\n",
       "      <td>[]</td>\n",
       "    </tr>\n",
       "    <tr>\n",
       "      <th>Cambodia</th>\n",
       "      <td>[]</td>\n",
       "      <td>[]</td>\n",
       "    </tr>\n",
       "    <tr>\n",
       "      <th>Chile</th>\n",
       "      <td>[]</td>\n",
       "      <td>[153549]</td>\n",
       "    </tr>\n",
       "    <tr>\n",
       "      <th>Colombia</th>\n",
       "      <td>[14785983, 14785984, 4052088, 18995881, 19013978, 18963579, 19308206, 18999200]</td>\n",
       "      <td>[]</td>\n",
       "    </tr>\n",
       "    <tr>\n",
       "      <th>Czechia</th>\n",
       "      <td>[]</td>\n",
       "      <td>[]</td>\n",
       "    </tr>\n",
       "    <tr>\n",
       "      <th>Denmark</th>\n",
       "      <td>[]</td>\n",
       "      <td>[]</td>\n",
       "    </tr>\n",
       "    <tr>\n",
       "      <th>Ecuador</th>\n",
       "      <td>[]</td>\n",
       "      <td>[]</td>\n",
       "    </tr>\n",
       "    <tr>\n",
       "      <th>Estonia</th>\n",
       "      <td>[]</td>\n",
       "      <td>[]</td>\n",
       "    </tr>\n",
       "    <tr>\n",
       "      <th>Eswatini</th>\n",
       "      <td>[]</td>\n",
       "      <td>[]</td>\n",
       "    </tr>\n",
       "    <tr>\n",
       "      <th>FaroeIslands</th>\n",
       "      <td>[]</td>\n",
       "      <td>[]</td>\n",
       "    </tr>\n",
       "    <tr>\n",
       "      <th>Finland</th>\n",
       "      <td>[]</td>\n",
       "      <td>[]</td>\n",
       "    </tr>\n",
       "    <tr>\n",
       "      <th>Georgia</th>\n",
       "      <td>[]</td>\n",
       "      <td>[1995971]</td>\n",
       "    </tr>\n",
       "    <tr>\n",
       "      <th>Germany</th>\n",
       "      <td>[]</td>\n",
       "      <td>[47826]</td>\n",
       "    </tr>\n",
       "    <tr>\n",
       "      <th>Greece</th>\n",
       "      <td>[15544495]</td>\n",
       "      <td>[223136]</td>\n",
       "    </tr>\n",
       "    <tr>\n",
       "      <th>Guinea</th>\n",
       "      <td>[]</td>\n",
       "      <td>[]</td>\n",
       "    </tr>\n",
       "    <tr>\n",
       "      <th>Guinea-bissau</th>\n",
       "      <td>[]</td>\n",
       "      <td>[]</td>\n",
       "    </tr>\n",
       "    <tr>\n",
       "      <th>Hungary</th>\n",
       "      <td>[]</td>\n",
       "      <td>[]</td>\n",
       "    </tr>\n",
       "    <tr>\n",
       "      <th>Ireland</th>\n",
       "      <td>[]</td>\n",
       "      <td>[]</td>\n",
       "    </tr>\n",
       "    <tr>\n",
       "      <th>IsleOfMan</th>\n",
       "      <td>[]</td>\n",
       "      <td>[]</td>\n",
       "    </tr>\n",
       "    <tr>\n",
       "      <th>Jordan</th>\n",
       "      <td>[]</td>\n",
       "      <td>[]</td>\n",
       "    </tr>\n",
       "    <tr>\n",
       "      <th>Kyrgyzstan</th>\n",
       "      <td>[]</td>\n",
       "      <td>[178019, 178020, 178023, 178024, 178025, 178026, 1251542]</td>\n",
       "    </tr>\n",
       "    <tr>\n",
       "      <th>Laos</th>\n",
       "      <td>[]</td>\n",
       "      <td>[]</td>\n",
       "    </tr>\n",
       "    <tr>\n",
       "      <th>Latvia</th>\n",
       "      <td>[]</td>\n",
       "      <td>[]</td>\n",
       "    </tr>\n",
       "    <tr>\n",
       "      <th>Lebanon</th>\n",
       "      <td>[]</td>\n",
       "      <td>[184877]</td>\n",
       "    </tr>\n",
       "    <tr>\n",
       "      <th>Libya</th>\n",
       "      <td>[]</td>\n",
       "      <td>[]</td>\n",
       "    </tr>\n",
       "    <tr>\n",
       "      <th>Lithuania</th>\n",
       "      <td>[]</td>\n",
       "      <td>[966958, 974211, 977317, 1028503, 1069509, 1076930, 1211025, 1256237, 1307305]</td>\n",
       "    </tr>\n",
       "    <tr>\n",
       "      <th>Mauritania</th>\n",
       "      <td>[]</td>\n",
       "      <td>[]</td>\n",
       "    </tr>\n",
       "    <tr>\n",
       "      <th>Mexico</th>\n",
       "      <td>[4063348]</td>\n",
       "      <td>[]</td>\n",
       "    </tr>\n",
       "    <tr>\n",
       "      <th>Moldova</th>\n",
       "      <td>[]</td>\n",
       "      <td>[]</td>\n",
       "    </tr>\n",
       "    <tr>\n",
       "      <th>Mongolia</th>\n",
       "      <td>[]</td>\n",
       "      <td>[]</td>\n",
       "    </tr>\n",
       "    <tr>\n",
       "      <th>Montenegro</th>\n",
       "      <td>[]</td>\n",
       "      <td>[]</td>\n",
       "    </tr>\n",
       "    <tr>\n",
       "      <th>Myanmar</th>\n",
       "      <td>[18997125, 18996972, 18997003, 18997068, 18997125, 19097176]</td>\n",
       "      <td>[1908810, 5996473, 5996474, 5996475, 5996476, 5996477, 5996478, 5996479, 5996480, 5996481, 5996482, 5996484, 5996485, 5996486, 5996487]</td>\n",
       "    </tr>\n",
       "    <tr>\n",
       "      <th>Nepal</th>\n",
       "      <td>[]</td>\n",
       "      <td>[]</td>\n",
       "    </tr>\n",
       "    <tr>\n",
       "      <th>NorthKorea</th>\n",
       "      <td>[]</td>\n",
       "      <td>[356379, 356386, 356392, 356419, 356442, 356443, 356533, 356535, 356540, 3781418]</td>\n",
       "    </tr>\n",
       "    <tr>\n",
       "      <th>NorthMacedonia</th>\n",
       "      <td>[]</td>\n",
       "      <td>[]</td>\n",
       "    </tr>\n",
       "    <tr>\n",
       "      <th>Poland</th>\n",
       "      <td>[]</td>\n",
       "      <td>[]</td>\n",
       "    </tr>\n",
       "    <tr>\n",
       "      <th>Romania</th>\n",
       "      <td>[]</td>\n",
       "      <td>[]</td>\n",
       "    </tr>\n",
       "    <tr>\n",
       "      <th>Russia</th>\n",
       "      <td>[]</td>\n",
       "      <td>[72169, 72181, 72639, 81995, 81996, 81997, 89331, 115106, 140292, 140294, 140295, 144763, 144764, 145194, 145195, 145454, 145729, 145730, 151225, 151228, 151233, 155262, 176095, 190090, 190911, 337422, 393980, 1574364, 2095259, 19161849, 19161871, 19161924, 19161954, 19162030, 19162067, 19162084, 19162115, 19162129]</td>\n",
       "    </tr>\n",
       "    <tr>\n",
       "      <th>Rwanda</th>\n",
       "      <td>[]</td>\n",
       "      <td>[]</td>\n",
       "    </tr>\n",
       "    <tr>\n",
       "      <th>SanMarino</th>\n",
       "      <td>[]</td>\n",
       "      <td>[]</td>\n",
       "    </tr>\n",
       "    <tr>\n",
       "      <th>Senegal</th>\n",
       "      <td>[]</td>\n",
       "      <td>[]</td>\n",
       "    </tr>\n",
       "    <tr>\n",
       "      <th>SierraLeone</th>\n",
       "      <td>[]</td>\n",
       "      <td>[]</td>\n",
       "    </tr>\n",
       "    <tr>\n",
       "      <th>Slovakia</th>\n",
       "      <td>[]</td>\n",
       "      <td>[388265, 388266, 388267, 388268, 388269, 388270, 388271, 388272]</td>\n",
       "    </tr>\n",
       "    <tr>\n",
       "      <th>SouthAfrica</th>\n",
       "      <td>[]</td>\n",
       "      <td>[]</td>\n",
       "    </tr>\n",
       "    <tr>\n",
       "      <th>Sweden</th>\n",
       "      <td>[]</td>\n",
       "      <td>[]</td>\n",
       "    </tr>\n",
       "    <tr>\n",
       "      <th>Switzerland</th>\n",
       "      <td>[]</td>\n",
       "      <td>[]</td>\n",
       "    </tr>\n",
       "    <tr>\n",
       "      <th>Syria</th>\n",
       "      <td>[]</td>\n",
       "      <td>[]</td>\n",
       "    </tr>\n",
       "    <tr>\n",
       "      <th>TheGambia</th>\n",
       "      <td>[]</td>\n",
       "      <td>[]</td>\n",
       "    </tr>\n",
       "    <tr>\n",
       "      <th>Tunisia</th>\n",
       "      <td>[]</td>\n",
       "      <td>[2060182]</td>\n",
       "    </tr>\n",
       "    <tr>\n",
       "      <th>Turkey</th>\n",
       "      <td>[]</td>\n",
       "      <td>[]</td>\n",
       "    </tr>\n",
       "    <tr>\n",
       "      <th>Ukraine</th>\n",
       "      <td>[]</td>\n",
       "      <td>[71064, 71245, 71248, 1574364]</td>\n",
       "    </tr>\n",
       "    <tr>\n",
       "      <th>UnitedKingdom</th>\n",
       "      <td>[]</td>\n",
       "      <td>[]</td>\n",
       "    </tr>\n",
       "    <tr>\n",
       "      <th>VaticanCity</th>\n",
       "      <td>[]</td>\n",
       "      <td>[]</td>\n",
       "    </tr>\n",
       "    <tr>\n",
       "      <th>Vietnam</th>\n",
       "      <td>[]</td>\n",
       "      <td>[1903516]</td>\n",
       "    </tr>\n",
       "  </tbody>\n",
       "</table>\n",
       "    </div>\n",
       "    "
      ],
      "text/plain": [
       "<IPython.core.display.HTML object>"
      ]
     },
     "metadata": {},
     "output_type": "display_data"
    }
   ],
   "source": [
    "tph.df_peek(tph.to_df(osm_basic_test).T)"
   ]
  },
  {
   "cell_type": "markdown",
   "id": "83451433",
   "metadata": {},
   "source": [
    "### * apply"
   ]
  },
  {
   "cell_type": "code",
   "execution_count": null,
   "id": "0bcc3780",
   "metadata": {},
   "outputs": [],
   "source": [
    "# delete missing names and leaked elements\n",
    "df_by_cntr_fixed = {}\n",
    "for k,df in df_by_cntr.items():\n",
    "    df_by_cntr_fixed[k] = df[~df['id'].isin(to_delete)].copy()"
   ]
  },
  {
   "cell_type": "code",
   "execution_count": 133,
   "id": "09d1287a",
   "metadata": {},
   "outputs": [
    {
     "name": "stdout",
     "output_type": "stream",
     "text": [
      "118738\n",
      "118559\n"
     ]
    }
   ],
   "source": [
    "combined_df_old = pd.concat(df_by_cntr.values(), ignore_index=True)\n",
    "print(len(combined_df_old))\n",
    "combined_df_new = pd.concat(df_by_cntr_fixed.values(), ignore_index=True)\n",
    "print(len(combined_df_new))"
   ]
  },
  {
   "cell_type": "code",
   "execution_count": 135,
   "id": "7c6d0e10",
   "metadata": {},
   "outputs": [
    {
     "name": "stdout",
     "output_type": "stream",
     "text": [
      "[117634, 117471]\n",
      "163\n"
     ]
    }
   ],
   "source": [
    "print([len(set(combined_df_old['id'].to_list())),len(set(combined_df_new['id'].to_list()))])\n",
    "print(len(to_delete))"
   ]
  },
  {
   "cell_type": "markdown",
   "id": "fefad24f",
   "metadata": {},
   "source": [
    "## 2. osm duplicates fix"
   ]
  },
  {
   "cell_type": "code",
   "execution_count": 137,
   "id": "9223d2cf",
   "metadata": {},
   "outputs": [],
   "source": [
    "data_dir = Path(os.path.join(os.getcwd(), '..', 'data/tests results/osm duplicates test'))\n",
    "\n",
    "osm_dup_test = {\n",
    "    file.parent.name:tgm.load(str(file))\n",
    "    for file in data_dir.rglob('*/*.pkl')\n",
    "}"
   ]
  },
  {
   "cell_type": "code",
   "execution_count": 142,
   "id": "416784d5",
   "metadata": {},
   "outputs": [
    {
     "data": {
      "text/plain": [
       "143"
      ]
     },
     "execution_count": 142,
     "metadata": {},
     "output_type": "execute_result"
    }
   ],
   "source": [
    "to_delete_dup = []\n",
    "for k,v in osm_dup_test.items():\n",
    "    to_delete_dup.extend(v['duplicate.delete_elems'])\n",
    "\n",
    "to_delete_dup = set(to_delete_dup)\n",
    "len(to_delete_dup)"
   ]
  },
  {
   "cell_type": "markdown",
   "id": "37316959",
   "metadata": {},
   "source": [
    "### * apply"
   ]
  },
  {
   "cell_type": "code",
   "execution_count": 143,
   "id": "75d0a1f4",
   "metadata": {},
   "outputs": [],
   "source": [
    "# delete duplicate elements\n",
    "for k,df in df_by_cntr_fixed.items():\n",
    "    df_by_cntr_fixed[k] = df[~df[['id','tags.parent_id']].apply(tuple, axis=1).isin(to_delete_dup)].copy()"
   ]
  },
  {
   "cell_type": "code",
   "execution_count": 144,
   "id": "bf0442d8",
   "metadata": {},
   "outputs": [
    {
     "name": "stdout",
     "output_type": "stream",
     "text": [
      "118738\n",
      "118403\n"
     ]
    }
   ],
   "source": [
    "combined_df_old = pd.concat(df_by_cntr.values(), ignore_index=True)\n",
    "print(len(combined_df_old))\n",
    "combined_df_new = pd.concat(df_by_cntr_fixed.values(), ignore_index=True)\n",
    "print(len(combined_df_new))"
   ]
  },
  {
   "cell_type": "code",
   "execution_count": null,
   "id": "b049af9b",
   "metadata": {},
   "outputs": [
    {
     "name": "stdout",
     "output_type": "stream",
     "text": [
      "[117634, 117459]\n"
     ]
    },
    {
     "data": {
      "text/plain": [
       "306"
      ]
     },
     "execution_count": 148,
     "metadata": {},
     "output_type": "execute_result"
    }
   ],
   "source": [
    "print([len(set(combined_df_old['id'].to_list())), len(set(combined_df_new['id'].to_list()))])\n",
    "len(to_delete.union(to_delete_dup))"
   ]
  },
  {
   "cell_type": "code",
   "execution_count": 149,
   "id": "4c8af078",
   "metadata": {},
   "outputs": [
    {
     "data": {
      "text/plain": [
       "117328"
      ]
     },
     "execution_count": 149,
     "metadata": {},
     "output_type": "execute_result"
    }
   ],
   "source": [
    "117634-306"
   ]
  },
  {
   "cell_type": "markdown",
   "id": "661929d1",
   "metadata": {},
   "source": [
    "# 3. Save!"
   ]
  },
  {
   "cell_type": "code",
   "execution_count": 11,
   "id": "f4b4afcb",
   "metadata": {},
   "outputs": [],
   "source": [
    "for k,df in df_by_cntr_fixed.items():\n",
    "    path = os.path.join(os.getcwd(),f'../data/fixed/{k}/{k}_fixed.pkl')\n",
    "    tgm.dump(path, df)"
   ]
  }
 ],
 "metadata": {
  "kernelspec": {
   "display_name": ".venv",
   "language": "python",
   "name": "python3"
  },
  "language_info": {
   "codemirror_mode": {
    "name": "ipython",
    "version": 3
   },
   "file_extension": ".py",
   "mimetype": "text/x-python",
   "name": "python",
   "nbconvert_exporter": "python",
   "pygments_lexer": "ipython3",
   "version": "3.14.0"
  }
 },
 "nbformat": 4,
 "nbformat_minor": 5
}
