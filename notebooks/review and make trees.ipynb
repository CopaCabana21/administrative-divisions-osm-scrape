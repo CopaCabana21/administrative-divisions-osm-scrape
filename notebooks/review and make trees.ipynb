{
 "cells": [
  {
   "cell_type": "markdown",
   "id": "6f555b21",
   "metadata": {},
   "source": [
    "# Init"
   ]
  },
  {
   "cell_type": "code",
   "execution_count": null,
   "id": "d61705f0",
   "metadata": {},
   "outputs": [],
   "source": [
    "# init\n",
    "from importlib import reload\n",
    "from pathlib import Path\n",
    "import os\n",
    "import sys\n",
    "import pandas as pd\n",
    "\n",
    "sys.path.append('..')\n",
    "sys.path.append(\"C:/Users/gonta/D/software developer/packages\")\n",
    "import toolsGeneral.main as tgm\n",
    "import toolsPandas.helpers as tph\n",
    "\n",
    "def reloadPckg():\n",
    "    reload(tgm)\n",
    "    reload(tph)"
   ]
  },
  {
   "cell_type": "markdown",
   "id": "b45cafea",
   "metadata": {},
   "source": [
    "# Review"
   ]
  },
  {
   "cell_type": "code",
   "execution_count": 1,
   "id": "4acf1ae2",
   "metadata": {},
   "outputs": [
    {
     "data": {
      "text/plain": [
       "64"
      ]
     },
     "execution_count": 1,
     "metadata": {},
     "output_type": "execute_result"
    }
   ],
   "source": [
    "dir = Path(os.path.join(os.getcwd(), '..', 'data/fixed'))\n",
    "df_by_cntr_fixed = {\n",
    "    file.parent.name:tgm.load(str(file))\n",
    "    for file in [f for f in dir.rglob('*/*.pkl')]\n",
    "}\n",
    "len(df_by_cntr_fixed)"
   ]
  },
  {
   "cell_type": "code",
   "execution_count": 3,
   "id": "36dc9ec6",
   "metadata": {},
   "outputs": [
    {
     "data": {
      "text/plain": [
       "118403"
      ]
     },
     "execution_count": 3,
     "metadata": {},
     "output_type": "execute_result"
    }
   ],
   "source": [
    "all_rows = pd.concat([df for df in df_by_cntr_fixed.values()], ignore_index=True)\n",
    "len(all_rows)"
   ]
  },
  {
   "cell_type": "code",
   "execution_count": 4,
   "id": "50997123",
   "metadata": {},
   "outputs": [
    {
     "data": {
      "text/plain": [
       "tags.admin_level\n",
       "8    99107\n",
       "6    18342\n",
       "4      890\n",
       "2       64\n",
       "Name: count, dtype: int64"
      ]
     },
     "execution_count": 4,
     "metadata": {},
     "output_type": "execute_result"
    }
   ],
   "source": [
    "all_rows['tags.admin_level'].value_counts()"
   ]
  },
  {
   "cell_type": "code",
   "execution_count": 9,
   "id": "891ea418",
   "metadata": {},
   "outputs": [
    {
     "data": {
      "text/plain": [
       "tags.parent_id\n",
       "<class 'str'>    118339\n",
       "Missing              64\n",
       "Name: count, dtype: int64"
      ]
     },
     "execution_count": 9,
     "metadata": {},
     "output_type": "execute_result"
    }
   ],
   "source": [
    "all_rows['tags.parent_id'].map(lambda arg: 'Missing' if pd.isna(arg) else type(arg)).value_counts()"
   ]
  },
  {
   "cell_type": "code",
   "execution_count": 7,
   "id": "64d8c693",
   "metadata": {},
   "outputs": [],
   "source": [
    "def resume_divisions(rls : dict):\n",
    "    resume = {}\n",
    "    for k,df in rls.items():\n",
    "        add_1 = df[df['tags.admin_level'] == '4']\n",
    "        add_2 = df[df['tags.admin_level'] == '6']\n",
    "        add_3 = df[df['tags.admin_level'] == '8']\n",
    "        resume[k] = {'add_1': add_1, 'add_2': add_2, 'add_3': add_3}\n",
    "    \n",
    "    return pd.DataFrame(resume)"
   ]
  },
  {
   "cell_type": "code",
   "execution_count": 8,
   "id": "b6f7b276",
   "metadata": {},
   "outputs": [
    {
     "data": {
      "text/plain": [
       "3"
      ]
     },
     "execution_count": 8,
     "metadata": {},
     "output_type": "execute_result"
    }
   ],
   "source": [
    "resume = resume_divisions(df_by_cntr_fixed)\n",
    "len(resume)"
   ]
  },
  {
   "cell_type": "code",
   "execution_count": 12,
   "id": "1b1a4393",
   "metadata": {},
   "outputs": [
    {
     "data": {
      "text/html": [
       "\n",
       "    <div style=\"overflow:auto; max-height:500px; max-width:100%; border:1px solid #ccc; padding:4px;\">\n",
       "        <table border=\"1\" class=\"dataframe\">\n",
       "  <thead>\n",
       "    <tr style=\"text-align: right;\">\n",
       "      <th></th>\n",
       "      <th>add_1</th>\n",
       "      <th>add_2</th>\n",
       "      <th>add_3</th>\n",
       "    </tr>\n",
       "  </thead>\n",
       "  <tbody>\n",
       "    <tr>\n",
       "      <th>Colombia</th>\n",
       "      <td>33</td>\n",
       "      <td>1128</td>\n",
       "      <td>2628</td>\n",
       "    </tr>\n",
       "  </tbody>\n",
       "</table>\n",
       "    </div>\n",
       "    "
      ],
      "text/plain": [
       "<IPython.core.display.HTML object>"
      ]
     },
     "metadata": {},
     "output_type": "display_data"
    }
   ],
   "source": [
    "tph.df_peek(resume[['Colombia']].T.map(len))"
   ]
  },
  {
   "cell_type": "code",
   "execution_count": 10,
   "id": "f7656c6b",
   "metadata": {},
   "outputs": [
    {
     "data": {
      "text/html": [
       "\n",
       "    <div style=\"overflow:auto; max-height:500px; max-width:100%; border:1px solid #ccc; padding:4px;\">\n",
       "        <table border=\"1\" class=\"dataframe\">\n",
       "  <thead>\n",
       "    <tr style=\"text-align: right;\">\n",
       "      <th></th>\n",
       "      <th>add_1</th>\n",
       "      <th>add_2</th>\n",
       "      <th>add_3</th>\n",
       "    </tr>\n",
       "  </thead>\n",
       "  <tbody>\n",
       "    <tr>\n",
       "      <th>Colombia</th>\n",
       "      <td>[Caldas, Amazonas, Meta, Cundinamarca, Tolima, Antioquia, Atlántico, Bolívar, Cesar, Magdalena, Sucre, Córdoba, La Guajira, Chocó, Valle del Cauca, Norte de Santander, Quindío, Vichada, Vaupés, Santander, Risaralda, Putumayo, Nariño, Guaviare, Guainía, Arauca, Boyacá, Casanare, Cauca, Caquetá, Huila, Archipiélago de San Andrés, Providencia y Santa Catalina, Bogotá, Distrito Capital]</td>\n",
       "      <td>[Ulloa, Buenaventura, Florida, Cali, Yumbo, Pradera, Alcalá, Cartago, Obando, Andalucía, Ansermanuevo, Argelia, Bolívar, Buga, Bugalagrande, Zarzal, Caicedonia, Calima, El Cairo, El Águila, El Dovio, La Unión, Toro, Versalles, Roldanillo, La Victoria, Trujillo, San Pedro, Tuluá, Riofrío, Restrepo, Palmira, El Cerrito, Ginebra, Guacarí, Candelaria, Yotoco, Vijes, Dagua, Jamundí, Sevilla, La Cumbre, Puerto Santander, Puerto Nariño, Puerto Alegría, La Chorrera, Leticia, La Victoria, Tarapacá, Mirití-Paraná, Puerto Arica, El Encanto, La Pedrera, Putumayo, Lejanías, El Calvario, El Castillo, Guamal, Acacías, Restrepo, San Juanito, El Dorado, Mesetas, Uribe, Barranca de Upía, Cabuyaro, Cumaral, Puerto Gaitán, Mapiripán, Mapiripán, Puerto Concordia, La Macarena, Puerto Rico, Vista Hermosa, San Juan de Arama, Granada, Puerto López, Villavicencio, San Carlos de Guaroa, San Martín, Castilla La Nueva, Cubarral, Fuente de Oro, Puerto Lleras, Santa Rosalía, La Primavera, Puerto Carreño, Cumaribo, Valle del Guamuez (La Hormiga), San Miguel (La Dorada), Orito, Puerto Caicedo, Puerto Asís, Puerto Leguízamo, Mocoa, Santiago, Sibundoy, Colón, San Francisco, Puerto Guzmán, ...]</td>\n",
       "      <td>[Localidad Isla Cascajal, Localidad El Pailón, Putumayo, Teniente Manuel Clavero, Yaguas, Rosa Panduro, Comuna 3, Comuna 4, Comuna 5, Comuna 6, Comuna 9, Comuna 8, Comuna 2, Comuna 1, Comuna 7, Comuna 12, Comuna 11, Comuna 10, Vereda El Juncal, Vereda La Josefina, Vereda Ospina Pérez, Vereda Santa Rosa de Francisco, Vereda El Manzano, Vereda El Capulí, Vereda Iscuazán, Vereda Yaez, Vereda Santo Domingo, Vereda Las Delicias, Vereda Simón Bolívar, Vereda El Culantro, Vereda Aldea de María, Vereda Chorrera Negra, Vereda San Francisco, Vereda La Paz, Vereda El Contaderito, Vereda San Andrés, Vereda La Providencia, Vereda Las Cuevas, Vereda Santa Isabel, Vereda San José de Quisnamuez, Ciudad Yari, Vda. Camuya, Vda. Candilejas Este, Vda. Las Damas, Comuna Centro, Comuna Entreríos, Comuna Noroccidental, Comuna Oriente, Comuna Sur, Comuna La Floresta, Comuna Norte, Comuna Las Palmas, Comuna Suroriental, Comuna Nororiental, Vda. Mayoyoque, Vda Cristalina, Santa Rosa Baja, Vda. Gallinazo, Comuna Oriental, Comuna Suroriental, Comuna Norte, Comuna Occidental, San José de Caquetania, Vda. Las Delicias (El Morichal), Caño, Vda. El Jordán, El Triunfo, Vda. San Martín, El Retiro, Vda. Bocana del Perdido, Vda. California, Vda. Laureles, El Vergel, El Turpial, Vda. Palenque, Puerto Losada, Vda. El Palmar, Vda. El Rubí, Vda. La Cristalina, Vda. San Juan de Losada, Vereda La Eme, Vereda El Pepino, Vereda El Santuario, Vereda Alto Eslabón, Vereda La Florida, Vereda Las Mesas, Vereda La Tebaida, Vereda Los Andes, Vereda Las Planadas, Vereda Rumiyaco, Vereda El Diviso, Vereda Villa Nueva, San Luis De Chontoyaco, Vereda Las Palmeras 2, Vereda El Líbano, Vereda Villa Rosa, Vereda Peñas Blancas, Vereda Las Palmeras, Vereda San Carlos, Vereda San José del Pepino, ...]</td>\n",
       "    </tr>\n",
       "  </tbody>\n",
       "</table>\n",
       "    </div>\n",
       "    "
      ],
      "text/plain": [
       "<IPython.core.display.HTML object>"
      ]
     },
     "metadata": {},
     "output_type": "display_data"
    }
   ],
   "source": [
    "tph.df_peek(resume[['Colombia']].T.map(lambda arg: arg['tags.name'].to_list()))"
   ]
  },
  {
   "cell_type": "markdown",
   "id": "98205866",
   "metadata": {},
   "source": [
    "# Make add tree"
   ]
  },
  {
   "cell_type": "markdown",
   "id": "29779722",
   "metadata": {},
   "source": [
    "# 1. rels_data_index"
   ]
  },
  {
   "cell_type": "code",
   "execution_count": 14,
   "id": "bf14028b",
   "metadata": {},
   "outputs": [
    {
     "data": {
      "text/plain": [
       "117459"
      ]
     },
     "execution_count": 14,
     "metadata": {},
     "output_type": "execute_result"
    }
   ],
   "source": [
    "rels_data_index = {row['id']:row.to_dict() for df in df_by_cntr_fixed.values() for i,row in df.iterrows()}\n",
    "len(rels_data_index)"
   ]
  },
  {
   "cell_type": "markdown",
   "id": "3bd912ae",
   "metadata": {},
   "source": [
    "## 2. childs_index"
   ]
  },
  {
   "cell_type": "code",
   "execution_count": null,
   "id": "5925e3ef",
   "metadata": {},
   "outputs": [],
   "source": [
    "childs_index = {}\n",
    "for ele_id, vals in rels_data_index.items():\n",
    "    parent_id = childs_index.get('tags.parent_id',[])\n",
    "    if"
   ]
  },
  {
   "cell_type": "code",
   "execution_count": 16,
   "id": "ed8a3c3e",
   "metadata": {},
   "outputs": [
    {
     "data": {
      "text/plain": [
       "{'type': 'relation',\n",
       " 'id': '53292',\n",
       " 'tags.admin_level': '2',\n",
       " 'tags.parent_id': nan,\n",
       " 'tags.name': 'Shqipëria',\n",
       " 'tags.name:us': nan,\n",
       " 'tags.ISO3166-1': 'AL',\n",
       " 'tags.ISO3166-2': nan,\n",
       " 'tags.is_in:country': nan,\n",
       " 'tags.ref:nuts': 'AL',\n",
       " 'tags.ref:nuts:2': nan,\n",
       " 'tags.ref:nuts:3': nan}"
      ]
     },
     "execution_count": 16,
     "metadata": {},
     "output_type": "execute_result"
    }
   ],
   "source": [
    "rels_data_index['53292']"
   ]
  },
  {
   "cell_type": "code",
   "execution_count": 21,
   "id": "e8c91050",
   "metadata": {},
   "outputs": [
    {
     "data": {
      "text/plain": [
       "True"
      ]
     },
     "execution_count": 21,
     "metadata": {},
     "output_type": "execute_result"
    }
   ],
   "source": [
    "pd.isna(rels_data_index['53292']['tags.parent_id'])"
   ]
  }
 ],
 "metadata": {
  "kernelspec": {
   "display_name": ".venv",
   "language": "python",
   "name": "python3"
  },
  "language_info": {
   "codemirror_mode": {
    "name": "ipython",
    "version": 3
   },
   "file_extension": ".py",
   "mimetype": "text/x-python",
   "name": "python",
   "nbconvert_exporter": "python",
   "pygments_lexer": "ipython3",
   "version": "3.14.0"
  }
 },
 "nbformat": 4,
 "nbformat_minor": 5
}
