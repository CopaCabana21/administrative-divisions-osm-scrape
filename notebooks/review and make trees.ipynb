{
 "cells": [
  {
   "cell_type": "markdown",
   "id": "6f555b21",
   "metadata": {},
   "source": [
    "# Init"
   ]
  },
  {
   "cell_type": "code",
   "execution_count": null,
   "id": "d61705f0",
   "metadata": {},
   "outputs": [],
   "source": [
    "# init\n",
    "from importlib import reload\n",
    "from pathlib import Path\n",
    "import os\n",
    "import sys\n",
    "import pandas as pd\n",
    "\n",
    "sys.path.append('..')\n",
    "sys.path.append(\"C:/Users/gonta/D/software developer/packages\")\n",
    "import toolsGeneral.main as tgm\n",
    "import toolsPandas.helpers as tph\n",
    "\n",
    "def reloadPckg():\n",
    "    reload(tgm)\n",
    "    reload(tph)"
   ]
  },
  {
   "cell_type": "markdown",
   "id": "b45cafea",
   "metadata": {},
   "source": [
    "# Review"
   ]
  },
  {
   "cell_type": "code",
   "execution_count": 3,
   "id": "4acf1ae2",
   "metadata": {},
   "outputs": [
    {
     "data": {
      "text/plain": [
       "64"
      ]
     },
     "execution_count": 3,
     "metadata": {},
     "output_type": "execute_result"
    }
   ],
   "source": [
    "dir = Path(os.path.join(os.getcwd(), '..', 'data/fixed'))\n",
    "df_by_cntr_fixed = {\n",
    "    file.parent.name:tgm.load(str(file))\n",
    "    for file in [f for f in dir.rglob('*/*.pkl')]\n",
    "}\n",
    "len(df_by_cntr_fixed)"
   ]
  },
  {
   "cell_type": "code",
   "execution_count": null,
   "id": "36dc9ec6",
   "metadata": {},
   "outputs": [
    {
     "data": {
      "text/plain": [
       "118403"
      ]
     },
     "metadata": {},
     "output_type": "display_data"
    }
   ],
   "source": [
    "all_rows = pd.concat([df for df in df_by_cntr_fixed.values()], ignore_index=True)\n",
    "len(all_rows)"
   ]
  },
  {
   "cell_type": "code",
   "execution_count": null,
   "id": "50997123",
   "metadata": {},
   "outputs": [
    {
     "data": {
      "text/plain": [
       "tags.admin_level\n",
       "8    99107\n",
       "6    18342\n",
       "4      890\n",
       "2       64\n",
       "Name: count, dtype: int64"
      ]
     },
     "metadata": {},
     "output_type": "display_data"
    }
   ],
   "source": [
    "all_rows['tags.admin_level'].value_counts()"
   ]
  },
  {
   "cell_type": "code",
   "execution_count": 7,
   "id": "64d8c693",
   "metadata": {},
   "outputs": [],
   "source": [
    "def resume_divisions(rls : dict):\n",
    "    resume = {}\n",
    "    for k,df in rls.items():\n",
    "        add_1 = df[df['tags.admin_level'] == '4']\n",
    "        add_2 = df[df['tags.admin_level'] == '6']\n",
    "        add_3 = df[df['tags.admin_level'] == '8']\n",
    "        resume[k] = {'add_1': add_1, 'add_2': add_2, 'add_3': add_3}\n",
    "    \n",
    "    return pd.DataFrame(resume)"
   ]
  },
  {
   "cell_type": "code",
   "execution_count": 8,
   "id": "b6f7b276",
   "metadata": {},
   "outputs": [
    {
     "data": {
      "text/plain": [
       "3"
      ]
     },
     "execution_count": 8,
     "metadata": {},
     "output_type": "execute_result"
    }
   ],
   "source": [
    "resume = resume_divisions(df_by_cntr_fixed)\n",
    "len(resume)"
   ]
  },
  {
   "cell_type": "code",
   "execution_count": 12,
   "id": "1b1a4393",
   "metadata": {},
   "outputs": [
    {
     "data": {
      "text/html": [
       "\n",
       "    <div style=\"overflow:auto; max-height:500px; max-width:100%; border:1px solid #ccc; padding:4px;\">\n",
       "        <table border=\"1\" class=\"dataframe\">\n",
       "  <thead>\n",
       "    <tr style=\"text-align: right;\">\n",
       "      <th></th>\n",
       "      <th>add_1</th>\n",
       "      <th>add_2</th>\n",
       "      <th>add_3</th>\n",
       "    </tr>\n",
       "  </thead>\n",
       "  <tbody>\n",
       "    <tr>\n",
       "      <th>Colombia</th>\n",
       "      <td>33</td>\n",
       "      <td>1128</td>\n",
       "      <td>2628</td>\n",
       "    </tr>\n",
       "  </tbody>\n",
       "</table>\n",
       "    </div>\n",
       "    "
      ],
      "text/plain": [
       "<IPython.core.display.HTML object>"
      ]
     },
     "metadata": {},
     "output_type": "display_data"
    }
   ],
   "source": [
    "tph.df_peek(resume[['Colombia']].T.map(len))"
   ]
  },
  {
   "cell_type": "code",
   "execution_count": 10,
   "id": "f7656c6b",
   "metadata": {},
   "outputs": [
    {
     "data": {
      "text/html": [
       "\n",
       "    <div style=\"overflow:auto; max-height:500px; max-width:100%; border:1px solid #ccc; padding:4px;\">\n",
       "        <table border=\"1\" class=\"dataframe\">\n",
       "  <thead>\n",
       "    <tr style=\"text-align: right;\">\n",
       "      <th></th>\n",
       "      <th>add_1</th>\n",
       "      <th>add_2</th>\n",
       "      <th>add_3</th>\n",
       "    </tr>\n",
       "  </thead>\n",
       "  <tbody>\n",
       "    <tr>\n",
       "      <th>Colombia</th>\n",
       "      <td>[Caldas, Amazonas, Meta, Cundinamarca, Tolima, Antioquia, Atlántico, Bolívar, Cesar, Magdalena, Sucre, Córdoba, La Guajira, Chocó, Valle del Cauca, Norte de Santander, Quindío, Vichada, Vaupés, Santander, Risaralda, Putumayo, Nariño, Guaviare, Guainía, Arauca, Boyacá, Casanare, Cauca, Caquetá, Huila, Archipiélago de San Andrés, Providencia y Santa Catalina, Bogotá, Distrito Capital]</td>\n",
       "      <td>[Ulloa, Buenaventura, Florida, Cali, Yumbo, Pradera, Alcalá, Cartago, Obando, Andalucía, Ansermanuevo, Argelia, Bolívar, Buga, Bugalagrande, Zarzal, Caicedonia, Calima, El Cairo, El Águila, El Dovio, La Unión, Toro, Versalles, Roldanillo, La Victoria, Trujillo, San Pedro, Tuluá, Riofrío, Restrepo, Palmira, El Cerrito, Ginebra, Guacarí, Candelaria, Yotoco, Vijes, Dagua, Jamundí, Sevilla, La Cumbre, Puerto Santander, Puerto Nariño, Puerto Alegría, La Chorrera, Leticia, La Victoria, Tarapacá, Mirití-Paraná, Puerto Arica, El Encanto, La Pedrera, Putumayo, Lejanías, El Calvario, El Castillo, Guamal, Acacías, Restrepo, San Juanito, El Dorado, Mesetas, Uribe, Barranca de Upía, Cabuyaro, Cumaral, Puerto Gaitán, Mapiripán, Mapiripán, Puerto Concordia, La Macarena, Puerto Rico, Vista Hermosa, San Juan de Arama, Granada, Puerto López, Villavicencio, San Carlos de Guaroa, San Martín, Castilla La Nueva, Cubarral, Fuente de Oro, Puerto Lleras, Santa Rosalía, La Primavera, Puerto Carreño, Cumaribo, Valle del Guamuez (La Hormiga), San Miguel (La Dorada), Orito, Puerto Caicedo, Puerto Asís, Puerto Leguízamo, Mocoa, Santiago, Sibundoy, Colón, San Francisco, Puerto Guzmán, ...]</td>\n",
       "      <td>[Localidad Isla Cascajal, Localidad El Pailón, Putumayo, Teniente Manuel Clavero, Yaguas, Rosa Panduro, Comuna 3, Comuna 4, Comuna 5, Comuna 6, Comuna 9, Comuna 8, Comuna 2, Comuna 1, Comuna 7, Comuna 12, Comuna 11, Comuna 10, Vereda El Juncal, Vereda La Josefina, Vereda Ospina Pérez, Vereda Santa Rosa de Francisco, Vereda El Manzano, Vereda El Capulí, Vereda Iscuazán, Vereda Yaez, Vereda Santo Domingo, Vereda Las Delicias, Vereda Simón Bolívar, Vereda El Culantro, Vereda Aldea de María, Vereda Chorrera Negra, Vereda San Francisco, Vereda La Paz, Vereda El Contaderito, Vereda San Andrés, Vereda La Providencia, Vereda Las Cuevas, Vereda Santa Isabel, Vereda San José de Quisnamuez, Ciudad Yari, Vda. Camuya, Vda. Candilejas Este, Vda. Las Damas, Comuna Centro, Comuna Entreríos, Comuna Noroccidental, Comuna Oriente, Comuna Sur, Comuna La Floresta, Comuna Norte, Comuna Las Palmas, Comuna Suroriental, Comuna Nororiental, Vda. Mayoyoque, Vda Cristalina, Santa Rosa Baja, Vda. Gallinazo, Comuna Oriental, Comuna Suroriental, Comuna Norte, Comuna Occidental, San José de Caquetania, Vda. Las Delicias (El Morichal), Caño, Vda. El Jordán, El Triunfo, Vda. San Martín, El Retiro, Vda. Bocana del Perdido, Vda. California, Vda. Laureles, El Vergel, El Turpial, Vda. Palenque, Puerto Losada, Vda. El Palmar, Vda. El Rubí, Vda. La Cristalina, Vda. San Juan de Losada, Vereda La Eme, Vereda El Pepino, Vereda El Santuario, Vereda Alto Eslabón, Vereda La Florida, Vereda Las Mesas, Vereda La Tebaida, Vereda Los Andes, Vereda Las Planadas, Vereda Rumiyaco, Vereda El Diviso, Vereda Villa Nueva, San Luis De Chontoyaco, Vereda Las Palmeras 2, Vereda El Líbano, Vereda Villa Rosa, Vereda Peñas Blancas, Vereda Las Palmeras, Vereda San Carlos, Vereda San José del Pepino, ...]</td>\n",
       "    </tr>\n",
       "  </tbody>\n",
       "</table>\n",
       "    </div>\n",
       "    "
      ],
      "text/plain": [
       "<IPython.core.display.HTML object>"
      ]
     },
     "metadata": {},
     "output_type": "display_data"
    }
   ],
   "source": [
    "tph.df_peek(resume[['Colombia']].T.map(lambda arg: arg['tags.name'].to_list()))"
   ]
  },
  {
   "cell_type": "markdown",
   "id": "98205866",
   "metadata": {},
   "source": [
    "# Make add tree"
   ]
  },
  {
   "cell_type": "markdown",
   "id": "29779722",
   "metadata": {},
   "source": [
    "# 1. rels_data_index"
   ]
  },
  {
   "cell_type": "code",
   "execution_count": 39,
   "id": "bf14028b",
   "metadata": {},
   "outputs": [
    {
     "data": {
      "text/plain": [
       "117459"
      ]
     },
     "execution_count": 39,
     "metadata": {},
     "output_type": "execute_result"
    }
   ],
   "source": [
    "rels_data_index = {row['id']:row.to_dict() for df in df_by_cntr_fixed.values() for i,row in df.iterrows()}\n",
    "len(rels_data_index)"
   ]
  },
  {
   "cell_type": "code",
   "execution_count": 49,
   "id": "3e08712d",
   "metadata": {},
   "outputs": [],
   "source": [
    "temp = pd.DataFrame(rels_data_index)"
   ]
  },
  {
   "cell_type": "code",
   "execution_count": 50,
   "id": "a9762def",
   "metadata": {},
   "outputs": [
    {
     "ename": "KeyError",
     "evalue": "'tags.admin_level'",
     "output_type": "error",
     "traceback": [
      "\u001b[31m---------------------------------------------------------------------------\u001b[39m",
      "\u001b[31mKeyError\u001b[39m                                  Traceback (most recent call last)",
      "\u001b[36mFile \u001b[39m\u001b[32mc:\\Users\\gonta\\D\\study\\full stack\\projects\\administrative divisions query - levels scrape\\.venv\\Lib\\site-packages\\pandas\\core\\indexes\\base.py:3812\u001b[39m, in \u001b[36mIndex.get_loc\u001b[39m\u001b[34m(self, key)\u001b[39m\n\u001b[32m   3811\u001b[39m \u001b[38;5;28;01mtry\u001b[39;00m:\n\u001b[32m-> \u001b[39m\u001b[32m3812\u001b[39m     \u001b[38;5;28;01mreturn\u001b[39;00m \u001b[38;5;28;43mself\u001b[39;49m\u001b[43m.\u001b[49m\u001b[43m_engine\u001b[49m\u001b[43m.\u001b[49m\u001b[43mget_loc\u001b[49m\u001b[43m(\u001b[49m\u001b[43mcasted_key\u001b[49m\u001b[43m)\u001b[49m\n\u001b[32m   3813\u001b[39m \u001b[38;5;28;01mexcept\u001b[39;00m \u001b[38;5;167;01mKeyError\u001b[39;00m \u001b[38;5;28;01mas\u001b[39;00m err:\n",
      "\u001b[36mFile \u001b[39m\u001b[32mpandas/_libs/index.pyx:167\u001b[39m, in \u001b[36mpandas._libs.index.IndexEngine.get_loc\u001b[39m\u001b[34m()\u001b[39m\n",
      "\u001b[36mFile \u001b[39m\u001b[32mpandas/_libs/index.pyx:196\u001b[39m, in \u001b[36mpandas._libs.index.IndexEngine.get_loc\u001b[39m\u001b[34m()\u001b[39m\n",
      "\u001b[36mFile \u001b[39m\u001b[32mpandas/_libs/hashtable_class_helper.pxi:7088\u001b[39m, in \u001b[36mpandas._libs.hashtable.PyObjectHashTable.get_item\u001b[39m\u001b[34m()\u001b[39m\n",
      "\u001b[36mFile \u001b[39m\u001b[32mpandas/_libs/hashtable_class_helper.pxi:7096\u001b[39m, in \u001b[36mpandas._libs.hashtable.PyObjectHashTable.get_item\u001b[39m\u001b[34m()\u001b[39m\n",
      "\u001b[31mKeyError\u001b[39m: 'tags.admin_level'",
      "\nThe above exception was the direct cause of the following exception:\n",
      "\u001b[31mKeyError\u001b[39m                                  Traceback (most recent call last)",
      "\u001b[36mCell\u001b[39m\u001b[36m \u001b[39m\u001b[32mIn[50]\u001b[39m\u001b[32m, line 1\u001b[39m\n\u001b[32m----> \u001b[39m\u001b[32m1\u001b[39m \u001b[43mtemp\u001b[49m\u001b[43m[\u001b[49m\u001b[33;43m'\u001b[39;49m\u001b[33;43mtags.admin_level\u001b[39;49m\u001b[33;43m'\u001b[39;49m\u001b[43m]\u001b[49m==\u001b[33m'\u001b[39m\u001b[33m2\u001b[39m\u001b[33m'\u001b[39m\n",
      "\u001b[36mFile \u001b[39m\u001b[32mc:\\Users\\gonta\\D\\study\\full stack\\projects\\administrative divisions query - levels scrape\\.venv\\Lib\\site-packages\\pandas\\core\\frame.py:4113\u001b[39m, in \u001b[36mDataFrame.__getitem__\u001b[39m\u001b[34m(self, key)\u001b[39m\n\u001b[32m   4111\u001b[39m \u001b[38;5;28;01mif\u001b[39;00m \u001b[38;5;28mself\u001b[39m.columns.nlevels > \u001b[32m1\u001b[39m:\n\u001b[32m   4112\u001b[39m     \u001b[38;5;28;01mreturn\u001b[39;00m \u001b[38;5;28mself\u001b[39m._getitem_multilevel(key)\n\u001b[32m-> \u001b[39m\u001b[32m4113\u001b[39m indexer = \u001b[38;5;28;43mself\u001b[39;49m\u001b[43m.\u001b[49m\u001b[43mcolumns\u001b[49m\u001b[43m.\u001b[49m\u001b[43mget_loc\u001b[49m\u001b[43m(\u001b[49m\u001b[43mkey\u001b[49m\u001b[43m)\u001b[49m\n\u001b[32m   4114\u001b[39m \u001b[38;5;28;01mif\u001b[39;00m is_integer(indexer):\n\u001b[32m   4115\u001b[39m     indexer = [indexer]\n",
      "\u001b[36mFile \u001b[39m\u001b[32mc:\\Users\\gonta\\D\\study\\full stack\\projects\\administrative divisions query - levels scrape\\.venv\\Lib\\site-packages\\pandas\\core\\indexes\\base.py:3819\u001b[39m, in \u001b[36mIndex.get_loc\u001b[39m\u001b[34m(self, key)\u001b[39m\n\u001b[32m   3814\u001b[39m     \u001b[38;5;28;01mif\u001b[39;00m \u001b[38;5;28misinstance\u001b[39m(casted_key, \u001b[38;5;28mslice\u001b[39m) \u001b[38;5;129;01mor\u001b[39;00m (\n\u001b[32m   3815\u001b[39m         \u001b[38;5;28misinstance\u001b[39m(casted_key, abc.Iterable)\n\u001b[32m   3816\u001b[39m         \u001b[38;5;129;01mand\u001b[39;00m \u001b[38;5;28many\u001b[39m(\u001b[38;5;28misinstance\u001b[39m(x, \u001b[38;5;28mslice\u001b[39m) \u001b[38;5;28;01mfor\u001b[39;00m x \u001b[38;5;129;01min\u001b[39;00m casted_key)\n\u001b[32m   3817\u001b[39m     ):\n\u001b[32m   3818\u001b[39m         \u001b[38;5;28;01mraise\u001b[39;00m InvalidIndexError(key)\n\u001b[32m-> \u001b[39m\u001b[32m3819\u001b[39m     \u001b[38;5;28;01mraise\u001b[39;00m \u001b[38;5;167;01mKeyError\u001b[39;00m(key) \u001b[38;5;28;01mfrom\u001b[39;00m\u001b[38;5;250m \u001b[39m\u001b[34;01merr\u001b[39;00m\n\u001b[32m   3820\u001b[39m \u001b[38;5;28;01mexcept\u001b[39;00m \u001b[38;5;167;01mTypeError\u001b[39;00m:\n\u001b[32m   3821\u001b[39m     \u001b[38;5;66;03m# If we have a listlike key, _check_indexing_error will raise\u001b[39;00m\n\u001b[32m   3822\u001b[39m     \u001b[38;5;66;03m#  InvalidIndexError. Otherwise we fall through and re-raise\u001b[39;00m\n\u001b[32m   3823\u001b[39m     \u001b[38;5;66;03m#  the TypeError.\u001b[39;00m\n\u001b[32m   3824\u001b[39m     \u001b[38;5;28mself\u001b[39m._check_indexing_error(key)\n",
      "\u001b[31mKeyError\u001b[39m: 'tags.admin_level'"
     ]
    }
   ],
   "source": [
    "temp['tags.admin_level']=='2'"
   ]
  },
  {
   "cell_type": "code",
   "execution_count": 40,
   "id": "f1dbab0f",
   "metadata": {},
   "outputs": [
    {
     "data": {
      "text/plain": [
       "{'type': 'rel',\n",
       " 'id': '10001851',\n",
       " 'tags.admin_level': '8',\n",
       " 'tags.parent_id': '3407319',\n",
       " 'tags.name': 'Kriaučiūnai',\n",
       " 'tags.name:us': nan,\n",
       " 'tags.ISO3166-1': nan,\n",
       " 'tags.ISO3166-2': nan,\n",
       " 'tags.is_in:country': nan,\n",
       " 'tags.ref:nuts': nan,\n",
       " 'tags.ref:nuts:2': nan,\n",
       " 'tags.ref:nuts:3': nan}"
      ]
     },
     "execution_count": 40,
     "metadata": {},
     "output_type": "execute_result"
    }
   ],
   "source": [
    "rels_data_index['10001851']"
   ]
  },
  {
   "cell_type": "code",
   "execution_count": null,
   "id": "e68a30b8",
   "metadata": {},
   "outputs": [
    {
     "data": {
      "text/html": [
       "<div>\n",
       "<style scoped>\n",
       "    .dataframe tbody tr th:only-of-type {\n",
       "        vertical-align: middle;\n",
       "    }\n",
       "\n",
       "    .dataframe tbody tr th {\n",
       "        vertical-align: top;\n",
       "    }\n",
       "\n",
       "    .dataframe thead th {\n",
       "        text-align: right;\n",
       "    }\n",
       "</style>\n",
       "<table border=\"1\" class=\"dataframe\">\n",
       "  <thead>\n",
       "    <tr style=\"text-align: right;\">\n",
       "      <th></th>\n",
       "      <th>53292</th>\n",
       "      <th>7739252</th>\n",
       "      <th>7739253</th>\n",
       "      <th>7739254</th>\n",
       "      <th>1251469</th>\n",
       "      <th>1252289</th>\n",
       "      <th>1252589</th>\n",
       "      <th>1253915</th>\n",
       "      <th>1255521</th>\n",
       "      <th>1248293</th>\n",
       "      <th>...</th>\n",
       "      <th>19350758</th>\n",
       "      <th>19350759</th>\n",
       "      <th>19350760</th>\n",
       "      <th>19350761</th>\n",
       "      <th>19350762</th>\n",
       "      <th>13470001</th>\n",
       "      <th>12138923</th>\n",
       "      <th>18481320</th>\n",
       "      <th>18305258</th>\n",
       "      <th>14642969</th>\n",
       "    </tr>\n",
       "  </thead>\n",
       "  <tbody>\n",
       "    <tr>\n",
       "      <th>type</th>\n",
       "      <td>relation</td>\n",
       "      <td>relation</td>\n",
       "      <td>relation</td>\n",
       "      <td>relation</td>\n",
       "      <td>rel</td>\n",
       "      <td>rel</td>\n",
       "      <td>rel</td>\n",
       "      <td>rel</td>\n",
       "      <td>rel</td>\n",
       "      <td>rel</td>\n",
       "      <td>...</td>\n",
       "      <td>rel</td>\n",
       "      <td>rel</td>\n",
       "      <td>rel</td>\n",
       "      <td>rel</td>\n",
       "      <td>rel</td>\n",
       "      <td>rel</td>\n",
       "      <td>rel</td>\n",
       "      <td>rel</td>\n",
       "      <td>rel</td>\n",
       "      <td>rel</td>\n",
       "    </tr>\n",
       "    <tr>\n",
       "      <th>id</th>\n",
       "      <td>53292</td>\n",
       "      <td>7739252</td>\n",
       "      <td>7739253</td>\n",
       "      <td>7739254</td>\n",
       "      <td>1251469</td>\n",
       "      <td>1252289</td>\n",
       "      <td>1252589</td>\n",
       "      <td>1253915</td>\n",
       "      <td>1255521</td>\n",
       "      <td>1248293</td>\n",
       "      <td>...</td>\n",
       "      <td>19350758</td>\n",
       "      <td>19350759</td>\n",
       "      <td>19350760</td>\n",
       "      <td>19350761</td>\n",
       "      <td>19350762</td>\n",
       "      <td>13470001</td>\n",
       "      <td>12138923</td>\n",
       "      <td>18481320</td>\n",
       "      <td>18305258</td>\n",
       "      <td>14642969</td>\n",
       "    </tr>\n",
       "    <tr>\n",
       "      <th>tags.admin_level</th>\n",
       "      <td>2</td>\n",
       "      <td>4</td>\n",
       "      <td>4</td>\n",
       "      <td>4</td>\n",
       "      <td>6</td>\n",
       "      <td>6</td>\n",
       "      <td>6</td>\n",
       "      <td>6</td>\n",
       "      <td>6</td>\n",
       "      <td>6</td>\n",
       "      <td>...</td>\n",
       "      <td>8</td>\n",
       "      <td>8</td>\n",
       "      <td>8</td>\n",
       "      <td>8</td>\n",
       "      <td>8</td>\n",
       "      <td>8</td>\n",
       "      <td>8</td>\n",
       "      <td>8</td>\n",
       "      <td>8</td>\n",
       "      <td>8</td>\n",
       "    </tr>\n",
       "    <tr>\n",
       "      <th>tags.parent_id</th>\n",
       "      <td>NaN</td>\n",
       "      <td>NaN</td>\n",
       "      <td>NaN</td>\n",
       "      <td>NaN</td>\n",
       "      <td>7739252</td>\n",
       "      <td>7739252</td>\n",
       "      <td>7739252</td>\n",
       "      <td>7739252</td>\n",
       "      <td>7739252</td>\n",
       "      <td>7739254</td>\n",
       "      <td>...</td>\n",
       "      <td>15328433</td>\n",
       "      <td>15328433</td>\n",
       "      <td>15328433</td>\n",
       "      <td>15328433</td>\n",
       "      <td>15328433</td>\n",
       "      <td>19539163</td>\n",
       "      <td>19539198</td>\n",
       "      <td>18481319</td>\n",
       "      <td>19377767</td>\n",
       "      <td>19266159</td>\n",
       "    </tr>\n",
       "    <tr>\n",
       "      <th>tags.name</th>\n",
       "      <td>Shqipëria</td>\n",
       "      <td>Shqipëria Jugore</td>\n",
       "      <td>Shqipëria Qendrore</td>\n",
       "      <td>Shqipëria Veriore</td>\n",
       "      <td>Qarku i Fierit</td>\n",
       "      <td>Qarku i Beratit</td>\n",
       "      <td>Qarku i Korçës</td>\n",
       "      <td>Qarku i Gjirokastrës</td>\n",
       "      <td>Qarku i Vlorës</td>\n",
       "      <td>Qarku i Shkodrës</td>\n",
       "      <td>...</td>\n",
       "      <td>Ấp Tân Bình</td>\n",
       "      <td>Ấp Tân Thanh</td>\n",
       "      <td>Ấp Tân Phú</td>\n",
       "      <td>Ấp Tân Đức</td>\n",
       "      <td>Ấp Tân Tiến</td>\n",
       "      <td>Thị trấn Tân Thanh</td>\n",
       "      <td>Xã Thanh Hà</td>\n",
       "      <td>Xã Quảng Phú</td>\n",
       "      <td>Phường Bằng An</td>\n",
       "      <td>Phường Tân Thành</td>\n",
       "    </tr>\n",
       "    <tr>\n",
       "      <th>tags.name:us</th>\n",
       "      <td>NaN</td>\n",
       "      <td>NaN</td>\n",
       "      <td>NaN</td>\n",
       "      <td>NaN</td>\n",
       "      <td>NaN</td>\n",
       "      <td>NaN</td>\n",
       "      <td>NaN</td>\n",
       "      <td>NaN</td>\n",
       "      <td>NaN</td>\n",
       "      <td>NaN</td>\n",
       "      <td>...</td>\n",
       "      <td>NaN</td>\n",
       "      <td>NaN</td>\n",
       "      <td>NaN</td>\n",
       "      <td>NaN</td>\n",
       "      <td>NaN</td>\n",
       "      <td>NaN</td>\n",
       "      <td>NaN</td>\n",
       "      <td>NaN</td>\n",
       "      <td>NaN</td>\n",
       "      <td>NaN</td>\n",
       "    </tr>\n",
       "    <tr>\n",
       "      <th>tags.ISO3166-1</th>\n",
       "      <td>AL</td>\n",
       "      <td>NaN</td>\n",
       "      <td>NaN</td>\n",
       "      <td>NaN</td>\n",
       "      <td>NaN</td>\n",
       "      <td>NaN</td>\n",
       "      <td>NaN</td>\n",
       "      <td>NaN</td>\n",
       "      <td>NaN</td>\n",
       "      <td>NaN</td>\n",
       "      <td>...</td>\n",
       "      <td>NaN</td>\n",
       "      <td>NaN</td>\n",
       "      <td>NaN</td>\n",
       "      <td>NaN</td>\n",
       "      <td>NaN</td>\n",
       "      <td>NaN</td>\n",
       "      <td>NaN</td>\n",
       "      <td>NaN</td>\n",
       "      <td>NaN</td>\n",
       "      <td>NaN</td>\n",
       "    </tr>\n",
       "    <tr>\n",
       "      <th>tags.ISO3166-2</th>\n",
       "      <td>NaN</td>\n",
       "      <td>NaN</td>\n",
       "      <td>NaN</td>\n",
       "      <td>NaN</td>\n",
       "      <td>AL-04</td>\n",
       "      <td>AL-01</td>\n",
       "      <td>AL-06</td>\n",
       "      <td>AL-05</td>\n",
       "      <td>AL-12</td>\n",
       "      <td>AL-10</td>\n",
       "      <td>...</td>\n",
       "      <td>NaN</td>\n",
       "      <td>NaN</td>\n",
       "      <td>NaN</td>\n",
       "      <td>NaN</td>\n",
       "      <td>NaN</td>\n",
       "      <td>NaN</td>\n",
       "      <td>NaN</td>\n",
       "      <td>NaN</td>\n",
       "      <td>NaN</td>\n",
       "      <td>NaN</td>\n",
       "    </tr>\n",
       "    <tr>\n",
       "      <th>tags.is_in:country</th>\n",
       "      <td>NaN</td>\n",
       "      <td>NaN</td>\n",
       "      <td>NaN</td>\n",
       "      <td>NaN</td>\n",
       "      <td>NaN</td>\n",
       "      <td>NaN</td>\n",
       "      <td>NaN</td>\n",
       "      <td>NaN</td>\n",
       "      <td>NaN</td>\n",
       "      <td>NaN</td>\n",
       "      <td>...</td>\n",
       "      <td>NaN</td>\n",
       "      <td>NaN</td>\n",
       "      <td>NaN</td>\n",
       "      <td>NaN</td>\n",
       "      <td>NaN</td>\n",
       "      <td>NaN</td>\n",
       "      <td>NaN</td>\n",
       "      <td>NaN</td>\n",
       "      <td>NaN</td>\n",
       "      <td>NaN</td>\n",
       "    </tr>\n",
       "    <tr>\n",
       "      <th>tags.ref:nuts</th>\n",
       "      <td>AL</td>\n",
       "      <td>AL03</td>\n",
       "      <td>AL02</td>\n",
       "      <td>AL01</td>\n",
       "      <td>AL032</td>\n",
       "      <td>AL031</td>\n",
       "      <td>AL034</td>\n",
       "      <td>AL033</td>\n",
       "      <td>AL035</td>\n",
       "      <td>AL015</td>\n",
       "      <td>...</td>\n",
       "      <td>NaN</td>\n",
       "      <td>NaN</td>\n",
       "      <td>NaN</td>\n",
       "      <td>NaN</td>\n",
       "      <td>NaN</td>\n",
       "      <td>NaN</td>\n",
       "      <td>NaN</td>\n",
       "      <td>NaN</td>\n",
       "      <td>NaN</td>\n",
       "      <td>NaN</td>\n",
       "    </tr>\n",
       "    <tr>\n",
       "      <th>tags.ref:nuts:2</th>\n",
       "      <td>NaN</td>\n",
       "      <td>AL03</td>\n",
       "      <td>AL02</td>\n",
       "      <td>AL01</td>\n",
       "      <td>NaN</td>\n",
       "      <td>NaN</td>\n",
       "      <td>NaN</td>\n",
       "      <td>NaN</td>\n",
       "      <td>NaN</td>\n",
       "      <td>NaN</td>\n",
       "      <td>...</td>\n",
       "      <td>NaN</td>\n",
       "      <td>NaN</td>\n",
       "      <td>NaN</td>\n",
       "      <td>NaN</td>\n",
       "      <td>NaN</td>\n",
       "      <td>NaN</td>\n",
       "      <td>NaN</td>\n",
       "      <td>NaN</td>\n",
       "      <td>NaN</td>\n",
       "      <td>NaN</td>\n",
       "    </tr>\n",
       "    <tr>\n",
       "      <th>tags.ref:nuts:3</th>\n",
       "      <td>NaN</td>\n",
       "      <td>NaN</td>\n",
       "      <td>NaN</td>\n",
       "      <td>NaN</td>\n",
       "      <td>AL032</td>\n",
       "      <td>AL031</td>\n",
       "      <td>AL034</td>\n",
       "      <td>AL033</td>\n",
       "      <td>AL035</td>\n",
       "      <td>AL015</td>\n",
       "      <td>...</td>\n",
       "      <td>NaN</td>\n",
       "      <td>NaN</td>\n",
       "      <td>NaN</td>\n",
       "      <td>NaN</td>\n",
       "      <td>NaN</td>\n",
       "      <td>NaN</td>\n",
       "      <td>NaN</td>\n",
       "      <td>NaN</td>\n",
       "      <td>NaN</td>\n",
       "      <td>NaN</td>\n",
       "    </tr>\n",
       "  </tbody>\n",
       "</table>\n",
       "<p>12 rows × 117459 columns</p>\n",
       "</div>"
      ],
      "text/plain": [
       "                        53292           7739252             7739253  \\\n",
       "type                 relation          relation            relation   \n",
       "id                      53292           7739252             7739253   \n",
       "tags.admin_level            2                 4                   4   \n",
       "tags.parent_id            NaN               NaN                 NaN   \n",
       "tags.name           Shqipëria  Shqipëria Jugore  Shqipëria Qendrore   \n",
       "tags.name:us              NaN               NaN                 NaN   \n",
       "tags.ISO3166-1             AL               NaN                 NaN   \n",
       "tags.ISO3166-2            NaN               NaN                 NaN   \n",
       "tags.is_in:country        NaN               NaN                 NaN   \n",
       "tags.ref:nuts              AL              AL03                AL02   \n",
       "tags.ref:nuts:2           NaN              AL03                AL02   \n",
       "tags.ref:nuts:3           NaN               NaN                 NaN   \n",
       "\n",
       "                              7739254         1251469          1252289  \\\n",
       "type                         relation             rel              rel   \n",
       "id                            7739254         1251469          1252289   \n",
       "tags.admin_level                    4               6                6   \n",
       "tags.parent_id                    NaN         7739252          7739252   \n",
       "tags.name           Shqipëria Veriore  Qarku i Fierit  Qarku i Beratit   \n",
       "tags.name:us                      NaN             NaN              NaN   \n",
       "tags.ISO3166-1                    NaN             NaN              NaN   \n",
       "tags.ISO3166-2                    NaN           AL-04            AL-01   \n",
       "tags.is_in:country                NaN             NaN              NaN   \n",
       "tags.ref:nuts                    AL01           AL032            AL031   \n",
       "tags.ref:nuts:2                  AL01             NaN              NaN   \n",
       "tags.ref:nuts:3                   NaN           AL032            AL031   \n",
       "\n",
       "                           1252589               1253915         1255521  \\\n",
       "type                           rel                   rel             rel   \n",
       "id                         1252589               1253915         1255521   \n",
       "tags.admin_level                 6                     6               6   \n",
       "tags.parent_id             7739252               7739252         7739252   \n",
       "tags.name           Qarku i Korçës  Qarku i Gjirokastrës  Qarku i Vlorës   \n",
       "tags.name:us                   NaN                   NaN             NaN   \n",
       "tags.ISO3166-1                 NaN                   NaN             NaN   \n",
       "tags.ISO3166-2               AL-06                 AL-05           AL-12   \n",
       "tags.is_in:country             NaN                   NaN             NaN   \n",
       "tags.ref:nuts                AL034                 AL033           AL035   \n",
       "tags.ref:nuts:2                NaN                   NaN             NaN   \n",
       "tags.ref:nuts:3              AL034                 AL033           AL035   \n",
       "\n",
       "                             1248293  ...     19350758      19350759  \\\n",
       "type                             rel  ...          rel           rel   \n",
       "id                           1248293  ...     19350758      19350759   \n",
       "tags.admin_level                   6  ...            8             8   \n",
       "tags.parent_id               7739254  ...     15328433      15328433   \n",
       "tags.name           Qarku i Shkodrës  ...  Ấp Tân Bình  Ấp Tân Thanh   \n",
       "tags.name:us                     NaN  ...          NaN           NaN   \n",
       "tags.ISO3166-1                   NaN  ...          NaN           NaN   \n",
       "tags.ISO3166-2                 AL-10  ...          NaN           NaN   \n",
       "tags.is_in:country               NaN  ...          NaN           NaN   \n",
       "tags.ref:nuts                  AL015  ...          NaN           NaN   \n",
       "tags.ref:nuts:2                  NaN  ...          NaN           NaN   \n",
       "tags.ref:nuts:3                AL015  ...          NaN           NaN   \n",
       "\n",
       "                      19350760    19350761     19350762            13470001  \\\n",
       "type                       rel         rel          rel                 rel   \n",
       "id                    19350760    19350761     19350762            13470001   \n",
       "tags.admin_level             8           8            8                   8   \n",
       "tags.parent_id        15328433    15328433     15328433            19539163   \n",
       "tags.name           Ấp Tân Phú  Ấp Tân Đức  Ấp Tân Tiến  Thị trấn Tân Thanh   \n",
       "tags.name:us               NaN         NaN          NaN                 NaN   \n",
       "tags.ISO3166-1             NaN         NaN          NaN                 NaN   \n",
       "tags.ISO3166-2             NaN         NaN          NaN                 NaN   \n",
       "tags.is_in:country         NaN         NaN          NaN                 NaN   \n",
       "tags.ref:nuts              NaN         NaN          NaN                 NaN   \n",
       "tags.ref:nuts:2            NaN         NaN          NaN                 NaN   \n",
       "tags.ref:nuts:3            NaN         NaN          NaN                 NaN   \n",
       "\n",
       "                       12138923      18481320        18305258  \\\n",
       "type                        rel           rel             rel   \n",
       "id                     12138923      18481320        18305258   \n",
       "tags.admin_level              8             8               8   \n",
       "tags.parent_id         19539198      18481319        19377767   \n",
       "tags.name           Xã Thanh Hà  Xã Quảng Phú  Phường Bằng An   \n",
       "tags.name:us                NaN           NaN             NaN   \n",
       "tags.ISO3166-1              NaN           NaN             NaN   \n",
       "tags.ISO3166-2              NaN           NaN             NaN   \n",
       "tags.is_in:country          NaN           NaN             NaN   \n",
       "tags.ref:nuts               NaN           NaN             NaN   \n",
       "tags.ref:nuts:2             NaN           NaN             NaN   \n",
       "tags.ref:nuts:3             NaN           NaN             NaN   \n",
       "\n",
       "                            14642969  \n",
       "type                             rel  \n",
       "id                          14642969  \n",
       "tags.admin_level                   8  \n",
       "tags.parent_id              19266159  \n",
       "tags.name           Phường Tân Thành  \n",
       "tags.name:us                     NaN  \n",
       "tags.ISO3166-1                   NaN  \n",
       "tags.ISO3166-2                   NaN  \n",
       "tags.is_in:country               NaN  \n",
       "tags.ref:nuts                    NaN  \n",
       "tags.ref:nuts:2                  NaN  \n",
       "tags.ref:nuts:3                  NaN  \n",
       "\n",
       "[12 rows x 117459 columns]"
      ]
     },
     "execution_count": 38,
     "metadata": {},
     "output_type": "execute_result"
    }
   ],
   "source": [
    "for ele_id, tags in rels_data_index.items():\n",
    "    parent_id = "
   ]
  },
  {
   "cell_type": "markdown",
   "id": "3bd912ae",
   "metadata": {},
   "source": [
    "## 2. childs_index"
   ]
  },
  {
   "cell_type": "code",
   "execution_count": null,
   "id": "5925e3ef",
   "metadata": {},
   "outputs": [],
   "source": [
    "childs_index = {}\n"
   ]
  }
 ],
 "metadata": {
  "kernelspec": {
   "display_name": ".venv",
   "language": "python",
   "name": "python3"
  },
  "language_info": {
   "codemirror_mode": {
    "name": "ipython",
    "version": 3
   },
   "file_extension": ".py",
   "mimetype": "text/x-python",
   "name": "python",
   "nbconvert_exporter": "python",
   "pygments_lexer": "ipython3",
   "version": "3.14.0"
  }
 },
 "nbformat": 4,
 "nbformat_minor": 5
}
