{
 "cells": [
  {
   "cell_type": "markdown",
   "id": "17d10f13",
   "metadata": {},
   "source": [
    "# intialize"
   ]
  },
  {
   "cell_type": "code",
   "execution_count": null,
   "id": "6da7f6af",
   "metadata": {},
   "outputs": [
    {
     "name": "stdout",
     "output_type": "stream",
     "text": [
      "sys.executable:  c:\\Users\\gonta\\D\\study\\full stack\\projects\\administrative divisions query - levels scrape\\.venv\\Scripts\\python.exe\n",
      "sys.path: \n",
      " C:\\Program Files\\Python314\\python314.zip\t\n",
      "C:\\Program Files\\Python314\\DLLs\t\n",
      "C:\\Program Files\\Python314\\Lib\t\n",
      "C:\\Program Files\\Python314\t\n",
      "c:\\Users\\gonta\\D\\study\\full stack\\projects\\administrative divisions query - levels scrape\\.venv\t\n",
      "\t\n",
      "c:\\Users\\gonta\\D\\study\\full stack\\projects\\administrative divisions query - levels scrape\\.venv\\Lib\\site-packages\t\n",
      "c:\\Users\\gonta\\D\\study\\full stack\\projects\\administrative divisions query - levels scrape\\.venv\\Lib\\site-packages\\win32\t\n",
      "c:\\Users\\gonta\\D\\study\\full stack\\projects\\administrative divisions query - levels scrape\\.venv\\Lib\\site-packages\\win32\\lib\t\n",
      "c:\\Users\\gonta\\D\\study\\full stack\\projects\\administrative divisions query - levels scrape\\.venv\\Lib\\site-packages\\Pythonwin\t\n",
      "C:/Users/gonta/D/software developer/packages\t\n",
      "C:/Users/gonta/D/software developer/packages\t\n",
      "C:/Users/gonta/D/software developer/packages\n"
     ]
    }
   ],
   "source": [
    "# init\n",
    "import sys\n",
    "import os\n",
    "import time\n",
    "from importlib import reload\n",
    "import pandas as pd\n",
    "\n",
    "devPath = \"C:/Users/gonta/D/software developer/\"\n",
    "sys.path.append(os.path.join(devPath, \"packages\"))\n",
    "\n",
    "\n",
    "def reloadPckg():\n",
    "    reload(tgm)\n",
    "    reload(too)\n",
    "\n",
    "\n",
    "import toolsGeneral.main as tgm\n",
    "import toolsOSM.overpass as too\n",
    "sys.path.append('..')\n",
    "reloadPckg()\n",
    "\n",
    "print('sys.executable: ', sys.executable)\n",
    "print('sys.path: \\n', \"\\n\".join(sys.path))\n",
    "\n",
    "temp = 'G'"
   ]
  },
  {
   "cell_type": "code",
   "execution_count": 1,
   "id": "80cde392",
   "metadata": {},
   "outputs": [
    {
     "name": "stdout",
     "output_type": "stream",
     "text": [
      "sys.path: \n",
      " C:\\Program Files\\Python314\\python314.zip\n",
      "C:\\Program Files\\Python314\\DLLs\n",
      "C:\\Program Files\\Python314\\Lib\n",
      "C:\\Program Files\\Python314\n",
      "c:\\Users\\gonta\\D\\study\\full stack\\projects\\administrative divisions query - levels scrape\\.venv\n",
      "\n",
      "c:\\Users\\gonta\\D\\study\\full stack\\projects\\administrative divisions query - levels scrape\\.venv\\Lib\\site-packages\n",
      "c:\\Users\\gonta\\D\\study\\full stack\\projects\\administrative divisions query - levels scrape\\.venv\\Lib\\site-packages\\win32\n",
      "c:\\Users\\gonta\\D\\study\\full stack\\projects\\administrative divisions query - levels scrape\\.venv\\Lib\\site-packages\\win32\\lib\n",
      "c:\\Users\\gonta\\D\\study\\full stack\\projects\\administrative divisions query - levels scrape\\.venv\\Lib\\site-packages\\Pythonwin\n",
      "C:/Users/gonta/D/software developer/packages\n"
     ]
    }
   ],
   "source": [
    "print('sys.path: \\n', \"\\n\".join(sys.path))"
   ]
  },
  {
   "cell_type": "markdown",
   "id": "e995d34f",
   "metadata": {},
   "source": [
    "# cleaning"
   ]
  },
  {
   "cell_type": "markdown",
   "id": "b70516b1",
   "metadata": {},
   "source": [
    "## test"
   ]
  },
  {
   "cell_type": "code",
   "execution_count": null,
   "id": "fe20bf92",
   "metadata": {},
   "outputs": [],
   "source": [
    "tgm.dump(os.path.join(os.getcwd(), \"data\", \"osmTestRes.pkl\"), osmTestRes)"
   ]
  },
  {
   "cell_type": "code",
   "execution_count": null,
   "id": "698e82e1",
   "metadata": {},
   "outputs": [],
   "source": [
    "osmTestRes = tgm.load(os.path.join(os.getcwd(), \"data\", \"osmTestRes.pkl\"))"
   ]
  },
  {
   "cell_type": "code",
   "execution_count": null,
   "id": "cd2fb9b4",
   "metadata": {},
   "outputs": [],
   "source": [
    "res = osmTestRes['Colombia']"
   ]
  },
  {
   "cell_type": "code",
   "execution_count": null,
   "id": "1b541824",
   "metadata": {},
   "outputs": [
    {
     "data": {
      "text/plain": [
       "{'status': 'ok',\n",
       " 'data': {'version': 0.6,\n",
       "  'generator': 'Overpass API 0.7.62.8 e802775f',\n",
       "  'osm3s': {'timestamp_osm_base': '2025-10-19T00:37:44Z',\n",
       "   'timestamp_areas_base': '2025-10-18T20:26:00Z',\n",
       "   'copyright': 'The data included in this document is from www.openstreetmap.org. The data is made available under ODbL.'},\n",
       "  'elements': [{'type': 'relation', 'id': 4060568}]}}"
      ]
     },
     "metadata": {},
     "output_type": "display_data"
    }
   ],
   "source": [
    "too.getCenterNodeInsideParent(\"11919498\", \"4060568\")"
   ]
  },
  {
   "cell_type": "code",
   "execution_count": null,
   "id": "7ef2da7f",
   "metadata": {},
   "outputs": [
    {
     "name": "stdout",
     "output_type": "stream",
     "text": [
      "\tmissing name:  8\n",
      "\tduplicate:  16\n",
      "\t\ttesting osm center:  16\n",
      "\t\t* ['11908912', '1342095']: ('ok', '')\n",
      "\t\t* ['11908912', '1342117']: ('error', 'missing_elements')\n",
      "\t\t* ['11909897', '10298142']: ('ok', '')\n",
      "\t\t* ['11909897', '1438574']: ('error', 'missing_elements')\n",
      "\t\t* ['11909898', '10298142']: ('ok', '')\n",
      "\t\t* ['11909898', '1438574']: ('error', 'missing_elements')\n",
      "\t\t* ['11919498', '4060568']: ('ok', '')\n",
      "\t\t* ['11919498', '1342124']: ('error', 'missing_elements')\n",
      "\t\t* ['13466581', '1314678']: ('error', 'missing_elements')\n",
      "\t\t* ['13466581', '1335179']: ('ok', '')\n",
      "\t\t* ['18963551', '1343269']: ('ok', '')\n",
      "\t\t* ['18963551', '1343276']: ('error', 'missing_elements')\n",
      "\t\t* ['7128806', '1310024']: ('error', 'missing_elements')\n",
      "\t\t* ['7128806', '1342133']: ('ok', '')\n",
      "\t\t* ['7128807', '1310024']: ('error', 'missing_elements')\n",
      "\t\t* ['7128807', '1342133']: ('ok', '')\n",
      "\tleaks:  0\n"
     ]
    }
   ],
   "source": [
    "fixes = tf.makeFixes(res)"
   ]
  },
  {
   "cell_type": "code",
   "execution_count": null,
   "id": "aa60f323",
   "metadata": {},
   "outputs": [
    {
     "data": {
      "text/plain": [
       "{'deleteElems': ['14785983',\n",
       "  '14785984',\n",
       "  '4052088',\n",
       "  '18995881',\n",
       "  '19013978',\n",
       "  '18963579',\n",
       "  '19308206',\n",
       "  '18999200'],\n",
       " 'duplicates.keepElems': [{'id': '11908912', 'parent_id': '1342095'},\n",
       "  {'id': '11909897', 'parent_id': '10298142'},\n",
       "  {'id': '11909898', 'parent_id': '10298142'},\n",
       "  {'id': '11919498', 'parent_id': '4060568'},\n",
       "  {'id': '13466581', 'parent_id': '1335179'},\n",
       "  {'id': '18963551', 'parent_id': '1343269'},\n",
       "  {'id': '7128806', 'parent_id': '1342133'},\n",
       "  {'id': '7128807', 'parent_id': '1342133'}],\n",
       " 'duplicates.deleteElems': [[{'id': '11908912', 'parent_id': '1342095'},\n",
       "   {'id': '11908912', 'parent_id': '1342117'}],\n",
       "  [{'id': '11909897', 'parent_id': '10298142'},\n",
       "   {'id': '11909897', 'parent_id': '1438574'}],\n",
       "  [{'id': '11909898', 'parent_id': '10298142'},\n",
       "   {'id': '11909898', 'parent_id': '1438574'}],\n",
       "  [{'id': '11919498', 'parent_id': '4060568'},\n",
       "   {'id': '11919498', 'parent_id': '1342124'}],\n",
       "  [{'id': '13466581', 'parent_id': '1314678'},\n",
       "   {'id': '13466581', 'parent_id': '1335179'}],\n",
       "  [{'id': '18963551', 'parent_id': '1343269'},\n",
       "   {'id': '18963551', 'parent_id': '1343276'}],\n",
       "  [{'id': '7128806', 'parent_id': '1310024'},\n",
       "   {'id': '7128806', 'parent_id': '1342133'}],\n",
       "  [{'id': '7128807', 'parent_id': '1310024'},\n",
       "   {'id': '7128807', 'parent_id': '1342133'}]]}"
      ]
     },
     "metadata": {},
     "output_type": "display_data"
    }
   ],
   "source": [
    "fixes[]"
   ]
  },
  {
   "cell_type": "markdown",
   "id": "35409e55",
   "metadata": {},
   "source": [
    "## modify"
   ]
  },
  {
   "cell_type": "markdown",
   "id": "f7bdbbbc",
   "metadata": {},
   "source": [
    "### review"
   ]
  },
  {
   "cell_type": "code",
   "execution_count": null,
   "id": "4516d014",
   "metadata": {},
   "outputs": [
    {
     "data": {
      "text/plain": [
       "3"
      ]
     },
     "metadata": {},
     "output_type": "display_data"
    }
   ],
   "source": [
    "osmTestRes = tgm.load(os.path.join(os.getcwd(), \"data\", \"osmTestRes.pkl\"))\n",
    "len(osmTestRes.keys())"
   ]
  },
  {
   "cell_type": "code",
   "execution_count": null,
   "id": "8ab265fe",
   "metadata": {},
   "outputs": [],
   "source": [
    "def makeModifications(df):\n",
    "    missingNames = df[\"missing.name\"][[\"id\", \"tags.parent_id\"]].to_dict(\n",
    "        orient=\"records\"\n",
    "    )\n",
    "    dupGrouped = df[\"duplicate.id\"].groupby(\"id\")"
   ]
  },
  {
   "cell_type": "code",
   "execution_count": null,
   "id": "f3a1f077",
   "metadata": {},
   "outputs": [
    {
     "data": {
      "text/plain": [
       "[{'id': '4063348', 'tags.parent_id': '5606251'}]"
      ]
     },
     "metadata": {},
     "output_type": "display_data"
    }
   ],
   "source": [
    "temp = osmTestRes[\"Mexico\"]\n",
    "temp[\"missing.name\"][[\"id\", \"tags.parent_id\"]].to_dict(orient=\"records\")"
   ]
  },
  {
   "cell_type": "code",
   "execution_count": null,
   "id": "a2a7e5dd",
   "metadata": {},
   "outputs": [],
   "source": [
    "dupList = osmTestRes[\"Mexico\"][\"duplicate.id\"]\n",
    "dupGrouped = dupList.groupby(\"id\")"
   ]
  },
  {
   "cell_type": "code",
   "execution_count": null,
   "id": "356c17fd",
   "metadata": {},
   "outputs": [
    {
     "data": {
      "text/plain": [
       "9"
      ]
     },
     "metadata": {},
     "output_type": "display_data"
    }
   ],
   "source": [
    "members = dupGrouped.get_group(\"17483459\")\n",
    "len(members)"
   ]
  },
  {
   "cell_type": "code",
   "execution_count": null,
   "id": "ee3cc8ca",
   "metadata": {},
   "outputs": [],
   "source": [
    "members.iloc[1].dropna()"
   ]
  },
  {
   "cell_type": "code",
   "execution_count": null,
   "id": "a0e0a883",
   "metadata": {},
   "outputs": [],
   "source": [
    "args = list(zip(members[\"id\"], members[\"tags.parent_id\"]))\n",
    "results = [too.checkOSMCenter(i, p) for i, p in args]"
   ]
  },
  {
   "cell_type": "code",
   "execution_count": null,
   "id": "4fa5174b",
   "metadata": {},
   "outputs": [],
   "source": [
    "print(members[\"tags.parent_id\"].tolist())"
   ]
  },
  {
   "cell_type": "markdown",
   "id": "ff37c75c",
   "metadata": {},
   "source": [
    "### make rules"
   ]
  },
  {
   "cell_type": "code",
   "execution_count": null,
   "id": "3bec0054",
   "metadata": {},
   "outputs": [],
   "source": [
    "modify = load(\"./data/modifications.json\")"
   ]
  },
  {
   "cell_type": "markdown",
   "id": "4f7b88ba",
   "metadata": {},
   "source": [
    "#### to delete"
   ]
  },
  {
   "cell_type": "code",
   "execution_count": null,
   "id": "761b3fde",
   "metadata": {},
   "outputs": [],
   "source": [
    "relLeaksIds = [str(ele[\"id\"]) for ele in relLeaks]\n",
    "print(len([ele[\"id\"] for ele in relLeaks]))\n",
    "print(len(deleteDuplicates(relLeaksIds)))"
   ]
  },
  {
   "cell_type": "code",
   "execution_count": null,
   "id": "d183e9f8",
   "metadata": {},
   "outputs": [],
   "source": [
    "relLeaksChilds = [\n",
    "    ele for ele in rawElems if ele[\"tags\"].get(\"parent_id\") in relLeaksIds\n",
    "]\n",
    "len(relLeaksChilds)"
   ]
  },
  {
   "cell_type": "code",
   "execution_count": null,
   "id": "300b4463",
   "metadata": {},
   "outputs": [],
   "source": [
    "toDelete = [*relLeaksChilds, *relLeaks]\n",
    "print(len(toDelete))\n",
    "toDelete = deleteDuplicates(toDelete)\n",
    "print(len(toDelete))"
   ]
  },
  {
   "cell_type": "code",
   "execution_count": null,
   "id": "74141174",
   "metadata": {},
   "outputs": [],
   "source": [
    "add = [\n",
    "    {\"id\": str(ele[\"id\"]), \"parent_id\": ele[\"tags\"].get(\"parent_id\", None)}\n",
    "    for ele in toDelete\n",
    "]\n",
    "print(len(add))\n",
    "print(len(deleteDuplicates(add)))"
   ]
  },
  {
   "cell_type": "code",
   "execution_count": null,
   "id": "027cca6e",
   "metadata": {},
   "outputs": [],
   "source": [
    "print(len(modify[cntrId][\"delete\"]))\n",
    "modify[cntrId][\"delete\"] = [*modify[cntrId][\"delete\"], *add]\n",
    "print(len(modify[cntrId][\"delete\"]))"
   ]
  },
  {
   "cell_type": "code",
   "execution_count": null,
   "id": "acfad92f",
   "metadata": {},
   "outputs": [],
   "source": [
    "dump(\"./data/modifications.json\", modify)"
   ]
  },
  {
   "cell_type": "markdown",
   "id": "ac15c618",
   "metadata": {},
   "source": [
    "#### to modify"
   ]
  },
  {
   "cell_type": "code",
   "execution_count": null,
   "id": "00b34639",
   "metadata": {},
   "outputs": [],
   "source": [
    "id = 3678366\n",
    "temp = [ele[\"tags\"][\"parent_id\"] for ele in rawOSMRes[\"elements\"] if ele[\"id\"] == id]\n",
    "temp.append(str(id))\n",
    "print(\",\".join(temp))\n",
    "temp = list(map(lambda x: f\"https://www.openstreetmap.org/relation/{x}\", temp))\n",
    "temp"
   ]
  },
  {
   "cell_type": "code",
   "execution_count": null,
   "id": "99b609a8",
   "metadata": {},
   "outputs": [],
   "source": [
    "temp = {}"
   ]
  },
  {
   "cell_type": "code",
   "execution_count": null,
   "id": "45870e39",
   "metadata": {},
   "outputs": [],
   "source": [
    "removeEnts = {**removeEnts, **temp}"
   ]
  },
  {
   "cell_type": "code",
   "execution_count": null,
   "id": "015bfafe",
   "metadata": {},
   "outputs": [],
   "source": [
    "dump(\"./data/modifications.json\", removeEnts)"
   ]
  },
  {
   "cell_type": "markdown",
   "id": "cf870227",
   "metadata": {},
   "source": [
    "### apply"
   ]
  },
  {
   "cell_type": "code",
   "execution_count": null,
   "id": "8e48859f",
   "metadata": {},
   "outputs": [],
   "source": [
    "modify = load(\"./data/modifications.json\")\n",
    "changes = modify[cntrId]"
   ]
  },
  {
   "cell_type": "code",
   "execution_count": null,
   "id": "0203e318",
   "metadata": {},
   "outputs": [],
   "source": [
    "import copy\n",
    "\n",
    "rawElemsTSane = copy.deepcopy(rawElems)\n",
    "len(rawElemsTSane)"
   ]
  },
  {
   "cell_type": "code",
   "execution_count": null,
   "id": "308e1792",
   "metadata": {},
   "outputs": [],
   "source": [
    "def applyChanges(lis, changes):\n",
    "\n",
    "    toDelete = [\n",
    "        [ele[\"id\"], ele.get(\"parent_id\", \"missing\")] for ele in changes[\"delete\"]\n",
    "    ]\n",
    "\n",
    "    def pattern(ele):\n",
    "        return [\n",
    "            str(ele[\"id\"]),\n",
    "            ele[\"tags\"][\"parent_id\"] if \"parent_id\" in ele[\"tags\"] else \"missing\",\n",
    "        ]\n",
    "\n",
    "    return [ele for ele in lis if pattern(ele) not in toDelete]"
   ]
  },
  {
   "cell_type": "code",
   "execution_count": null,
   "id": "da94b7ab",
   "metadata": {},
   "outputs": [],
   "source": [
    "applyChanges([{\"id\": \"3659532\", \"tags\": {\"parent_id\": \"62372\"}}], changes)"
   ]
  },
  {
   "cell_type": "code",
   "execution_count": null,
   "id": "22ab76dd",
   "metadata": {},
   "outputs": [],
   "source": [
    "print(len(rawElemsTSane))\n",
    "print(len(deleteDuplicates(changes[\"delete\"])))\n",
    "rawElemsTSane = applyChanges(rawElemsTSane, changes)\n",
    "print(len(rawElemsTSane))"
   ]
  },
  {
   "cell_type": "code",
   "execution_count": null,
   "id": "1da50307",
   "metadata": {},
   "outputs": [],
   "source": [
    "testSanitize(rawElemsTSane)"
   ]
  }
 ],
 "metadata": {
  "kernelspec": {
   "display_name": ".venv",
   "language": "python",
   "name": "python3"
  },
  "language_info": {
   "codemirror_mode": {
    "name": "ipython",
    "version": 3
   },
   "file_extension": ".py",
   "mimetype": "text/x-python",
   "name": "python",
   "nbconvert_exporter": "python",
   "pygments_lexer": "ipython3",
   "version": "3.14.0"
  }
 },
 "nbformat": 4,
 "nbformat_minor": 5
}
