{
 "cells": [
  {
   "cell_type": "markdown",
   "metadata": {},
   "source": [
    "## Init"
   ]
  },
  {
   "cell_type": "code",
   "execution_count": 1,
   "metadata": {},
   "outputs": [],
   "source": [
    "# from urllib.parse import quote\n",
    "import pandas as pd\n",
    "import os\n",
    "import sys\n",
    "import glob\n",
    "import json\n",
    "\n",
    "# my packages\n",
    "from dData.dData import dData\n",
    "\n",
    "# utilities\n",
    "plot = pd.DataFrame\n",
    "from itertools import combinations\n",
    "\n",
    "from bs4 import BeautifulSoup\n",
    "\n",
    "# import all module in order to use reload later on the paclet\n",
    "import importlib\n",
    "import toolsGeneral.main\n",
    "import toolsOSM.overpass\n",
    "import tools.filters\n",
    "\n",
    "# use this line to ensure intellisense recognizes new symbols\n",
    "from toolsGeneral.main import *\n",
    "from toolsOSM.overpass import *\n",
    "from tools.filters import *\n",
    "\n",
    "def reloadPckg():\n",
    "    importlib.reload(toolsGeneral.main)\n",
    "    importlib.reload(tools.filters)\n",
    "    globals().update({\n",
    "        name: getattr(toolsGeneral.main, name) \n",
    "        for name \n",
    "        in dir(toolsGeneral.main) \n",
    "        if not name.startswith('_')\n",
    "    })\n",
    "    globals().update({\n",
    "        name: getattr(tools.filters, name) \n",
    "        for name \n",
    "        in dir(tools.filters) \n",
    "        if not name.startswith('_')\n",
    "    })\n",
    "    # global dump\n",
    "    # dump = toolsGeneral.main.dump\n",
    "\n"
   ]
  },
  {
   "cell_type": "code",
   "execution_count": 2,
   "metadata": {},
   "outputs": [],
   "source": [
    "osmMetaCountrDict = load(r\"C:\\Users\\gonta\\D\\code\\development\\OSM\\get countries ids and add labels\\data\\osmMetaCountrDict.json\")"
   ]
  },
  {
   "cell_type": "code",
   "execution_count": 3,
   "metadata": {},
   "outputs": [
    {
     "data": {
      "text/plain": [
       "'51477'"
      ]
     },
     "execution_count": 3,
     "metadata": {},
     "output_type": "execute_result"
    }
   ],
   "source": [
    "cntrName = \"Germany\"\n",
    "cntrRaw = f\"./data/{osmMetaCountrDict[cntrName]['id']}/rawOSMRes.json\"\n",
    "cntrDataDir = f\"./data/{osmMetaCountrDict[cntrName]['id']}/\"\n",
    "cntrId = osmMetaCountrDict[cntrName]['id']\n",
    "cntrId"
   ]
  },
  {
   "cell_type": "markdown",
   "metadata": {},
   "source": [
    "# collect"
   ]
  },
  {
   "cell_type": "markdown",
   "metadata": {},
   "source": [
    "## make overpass query and dump"
   ]
  },
  {
   "cell_type": "code",
   "execution_count": null,
   "metadata": {},
   "outputs": [],
   "source": [
    "rawOSMRes = getOSMIDAddsStruct(cntrId, [4,6,8])\n",
    "list(rawOSMRes.keys())\n",
    "\n",
    "# rawOSMRes = getOSMAddsTRecursedown(cntrId, [4,6,8])\n",
    "# list(rawOSMRes.keys())"
   ]
  },
  {
   "cell_type": "code",
   "execution_count": 26,
   "metadata": {},
   "outputs": [],
   "source": [
    "dump(cntrRaw, rawOSMRes)"
   ]
  },
  {
   "cell_type": "markdown",
   "metadata": {},
   "source": [
    "# sanitize"
   ]
  },
  {
   "cell_type": "code",
   "execution_count": 109,
   "metadata": {},
   "outputs": [
    {
     "name": "stdout",
     "output_type": "stream",
     "text": [
      "11762\n"
     ]
    }
   ],
   "source": [
    "rawElems = load(cntrRaw)['elements']\n",
    "print(len(rawElems))"
   ]
  },
  {
   "cell_type": "markdown",
   "metadata": {},
   "source": [
    "## test"
   ]
  },
  {
   "cell_type": "code",
   "execution_count": 110,
   "metadata": {},
   "outputs": [
    {
     "name": "stdout",
     "output_type": "stream",
     "text": [
      "missing name:  0\n",
      "duplicate elements:  9\n",
      "relations from other countries:  494\n"
     ]
    }
   ],
   "source": [
    "[miss, dup, relLeaks] = testSanitize(rawElems)"
   ]
  },
  {
   "cell_type": "markdown",
   "metadata": {},
   "source": [
    "## modify"
   ]
  },
  {
   "cell_type": "markdown",
   "metadata": {},
   "source": [
    "### make rules"
   ]
  },
  {
   "cell_type": "code",
   "execution_count": 119,
   "metadata": {},
   "outputs": [],
   "source": [
    "modify = load('./data/modifications.json')"
   ]
  },
  {
   "cell_type": "markdown",
   "metadata": {},
   "source": [
    "#### to delete"
   ]
  },
  {
   "cell_type": "code",
   "execution_count": 111,
   "metadata": {},
   "outputs": [
    {
     "name": "stdout",
     "output_type": "stream",
     "text": [
      "494\n",
      "492\n"
     ]
    }
   ],
   "source": [
    "relLeaksIds = [str(ele['id']) for ele in relLeaks]\n",
    "print(len([ele['id'] for ele in relLeaks]))\n",
    "print(len(deleteDuplicates(relLeaksIds)))"
   ]
  },
  {
   "cell_type": "code",
   "execution_count": 93,
   "metadata": {},
   "outputs": [
    {
     "data": {
      "text/plain": [
       "492"
      ]
     },
     "execution_count": 93,
     "metadata": {},
     "output_type": "execute_result"
    }
   ],
   "source": [
    "relLeaksChilds = [ele for ele in rawElems if ele['tags'].get('parent_id') in relLeaksIds]\n",
    "len(relLeaksChilds)"
   ]
  },
  {
   "cell_type": "code",
   "execution_count": 116,
   "metadata": {},
   "outputs": [
    {
     "name": "stdout",
     "output_type": "stream",
     "text": [
      "986\n",
      "496\n"
     ]
    }
   ],
   "source": [
    "toDelete = [*relLeaksChilds, *relLeaks]\n",
    "print(len(toDelete))\n",
    "toDelete = deleteDuplicates(toDelete)\n",
    "print(len(toDelete))"
   ]
  },
  {
   "cell_type": "code",
   "execution_count": 123,
   "metadata": {},
   "outputs": [
    {
     "data": {
      "text/plain": [
       "[{'id': '62485', 'parent_id': None},\n",
       " {'id': '442314', 'parent_id': None},\n",
       " {'id': '442452', 'parent_id': None},\n",
       " {'id': '436593', 'parent_id': None},\n",
       " {'id': '436596', 'parent_id': None},\n",
       " {'id': '436597', 'parent_id': None},\n",
       " {'id': '436598', 'parent_id': None},\n",
       " {'id': '436947', 'parent_id': None},\n",
       " {'id': '436948', 'parent_id': None},\n",
       " {'id': '436949', 'parent_id': None},\n",
       " {'id': '436950', 'parent_id': None},\n",
       " {'id': '436954', 'parent_id': None},\n",
       " {'id': '436955', 'parent_id': None},\n",
       " {'id': '436956', 'parent_id': None},\n",
       " {'id': '436957', 'parent_id': None},\n",
       " {'id': '436958', 'parent_id': None},\n",
       " {'id': '436959', 'parent_id': None},\n",
       " {'id': '436960', 'parent_id': None},\n",
       " {'id': '436961', 'parent_id': None},\n",
       " {'id': '436962', 'parent_id': None},\n",
       " {'id': '436963', 'parent_id': None},\n",
       " {'id': '436967', 'parent_id': None},\n",
       " {'id': '436968', 'parent_id': None},\n",
       " {'id': '438942', 'parent_id': None},\n",
       " {'id': '438943', 'parent_id': None},\n",
       " {'id': '438944', 'parent_id': None},\n",
       " {'id': '438945', 'parent_id': None},\n",
       " {'id': '438946', 'parent_id': None},\n",
       " {'id': '438947', 'parent_id': None},\n",
       " {'id': '438952', 'parent_id': None},\n",
       " {'id': '438963', 'parent_id': None},\n",
       " {'id': '438964', 'parent_id': None},\n",
       " {'id': '439441', 'parent_id': None},\n",
       " {'id': '439442', 'parent_id': None},\n",
       " {'id': '439443', 'parent_id': None},\n",
       " {'id': '439444', 'parent_id': None},\n",
       " {'id': '439445', 'parent_id': None},\n",
       " {'id': '439446', 'parent_id': None},\n",
       " {'id': '439447', 'parent_id': None},\n",
       " {'id': '439448', 'parent_id': None},\n",
       " {'id': '439449', 'parent_id': None},\n",
       " {'id': '439450', 'parent_id': None},\n",
       " {'id': '439451', 'parent_id': None},\n",
       " {'id': '439452', 'parent_id': None},\n",
       " {'id': '439453', 'parent_id': None},\n",
       " {'id': '439454', 'parent_id': None},\n",
       " {'id': '439455', 'parent_id': None},\n",
       " {'id': '439456', 'parent_id': None},\n",
       " {'id': '439457', 'parent_id': None},\n",
       " {'id': '439458', 'parent_id': None},\n",
       " {'id': '439459', 'parent_id': None},\n",
       " {'id': '439460', 'parent_id': None},\n",
       " {'id': '439461', 'parent_id': None},\n",
       " {'id': '439462', 'parent_id': None},\n",
       " {'id': '439463', 'parent_id': None},\n",
       " {'id': '439464', 'parent_id': None},\n",
       " {'id': '439465', 'parent_id': None},\n",
       " {'id': '439466', 'parent_id': None},\n",
       " {'id': '439467', 'parent_id': None},\n",
       " {'id': '439468', 'parent_id': None},\n",
       " {'id': '439469', 'parent_id': None},\n",
       " {'id': '439470', 'parent_id': None},\n",
       " {'id': '439471', 'parent_id': None},\n",
       " {'id': '439472', 'parent_id': None},\n",
       " {'id': '439473', 'parent_id': None},\n",
       " {'id': '439474', 'parent_id': None},\n",
       " {'id': '439475', 'parent_id': None},\n",
       " {'id': '439476', 'parent_id': None},\n",
       " {'id': '439477', 'parent_id': None},\n",
       " {'id': '439478', 'parent_id': None},\n",
       " {'id': '439479', 'parent_id': None},\n",
       " {'id': '439480', 'parent_id': None},\n",
       " {'id': '439481', 'parent_id': None},\n",
       " {'id': '439482', 'parent_id': None},\n",
       " {'id': '439483', 'parent_id': None},\n",
       " {'id': '439484', 'parent_id': None},\n",
       " {'id': '439485', 'parent_id': None},\n",
       " {'id': '439486', 'parent_id': None},\n",
       " {'id': '439487', 'parent_id': None},\n",
       " {'id': '439488', 'parent_id': None},\n",
       " {'id': '439489', 'parent_id': None},\n",
       " {'id': '439490', 'parent_id': None},\n",
       " {'id': '439491', 'parent_id': None},\n",
       " {'id': '439492', 'parent_id': None},\n",
       " {'id': '439493', 'parent_id': None},\n",
       " {'id': '439494', 'parent_id': None},\n",
       " {'id': '439495', 'parent_id': None},\n",
       " {'id': '439496', 'parent_id': None},\n",
       " {'id': '439497', 'parent_id': None},\n",
       " {'id': '439498', 'parent_id': None},\n",
       " {'id': '439499', 'parent_id': None},\n",
       " {'id': '439500', 'parent_id': None},\n",
       " {'id': '439501', 'parent_id': None},\n",
       " {'id': '439502', 'parent_id': None},\n",
       " {'id': '439503', 'parent_id': None},\n",
       " {'id': '439504', 'parent_id': None},\n",
       " {'id': '439505', 'parent_id': None},\n",
       " {'id': '439506', 'parent_id': None},\n",
       " {'id': '439507', 'parent_id': None},\n",
       " {'id': '439508', 'parent_id': None},\n",
       " {'id': '439509', 'parent_id': None},\n",
       " {'id': '439510', 'parent_id': None},\n",
       " {'id': '439511', 'parent_id': None},\n",
       " {'id': '439512', 'parent_id': None},\n",
       " {'id': '439513', 'parent_id': None},\n",
       " {'id': '439514', 'parent_id': None},\n",
       " {'id': '439515', 'parent_id': None},\n",
       " {'id': '439516', 'parent_id': None},\n",
       " {'id': '439517', 'parent_id': None},\n",
       " {'id': '439518', 'parent_id': None},\n",
       " {'id': '439519', 'parent_id': None},\n",
       " {'id': '439520', 'parent_id': None},\n",
       " {'id': '439521', 'parent_id': None},\n",
       " {'id': '439522', 'parent_id': None},\n",
       " {'id': '439523', 'parent_id': None},\n",
       " {'id': '439524', 'parent_id': None},\n",
       " {'id': '439533', 'parent_id': None},\n",
       " {'id': '439535', 'parent_id': None},\n",
       " {'id': '439536', 'parent_id': None},\n",
       " {'id': '439537', 'parent_id': None},\n",
       " {'id': '439538', 'parent_id': None},\n",
       " {'id': '439539', 'parent_id': None},\n",
       " {'id': '439540', 'parent_id': None},\n",
       " {'id': '439541', 'parent_id': None},\n",
       " {'id': '439542', 'parent_id': None},\n",
       " {'id': '439543', 'parent_id': None},\n",
       " {'id': '439544', 'parent_id': None},\n",
       " {'id': '439545', 'parent_id': None},\n",
       " {'id': '439546', 'parent_id': None},\n",
       " {'id': '439547', 'parent_id': None},\n",
       " {'id': '439548', 'parent_id': None},\n",
       " {'id': '439549', 'parent_id': None},\n",
       " {'id': '439550', 'parent_id': None},\n",
       " {'id': '439557', 'parent_id': None},\n",
       " {'id': '439558', 'parent_id': None},\n",
       " {'id': '5834248', 'parent_id': None},\n",
       " {'id': '5834253', 'parent_id': None},\n",
       " {'id': '436511', 'parent_id': None},\n",
       " {'id': '436546', 'parent_id': None},\n",
       " {'id': '436547', 'parent_id': None},\n",
       " {'id': '436548', 'parent_id': None},\n",
       " {'id': '436549', 'parent_id': None},\n",
       " {'id': '436550', 'parent_id': None},\n",
       " {'id': '436551', 'parent_id': None},\n",
       " {'id': '436552', 'parent_id': None},\n",
       " {'id': '436553', 'parent_id': None},\n",
       " {'id': '436554', 'parent_id': None},\n",
       " {'id': '436555', 'parent_id': None},\n",
       " {'id': '436556', 'parent_id': None},\n",
       " {'id': '436557', 'parent_id': None},\n",
       " {'id': '436558', 'parent_id': None},\n",
       " {'id': '436559', 'parent_id': None},\n",
       " {'id': '436560', 'parent_id': None},\n",
       " {'id': '436561', 'parent_id': None},\n",
       " {'id': '436562', 'parent_id': None},\n",
       " {'id': '436563', 'parent_id': None},\n",
       " {'id': '436564', 'parent_id': None},\n",
       " {'id': '436565', 'parent_id': None},\n",
       " {'id': '436566', 'parent_id': None},\n",
       " {'id': '436567', 'parent_id': None},\n",
       " {'id': '436568', 'parent_id': None},\n",
       " {'id': '436569', 'parent_id': None},\n",
       " {'id': '436570', 'parent_id': None},\n",
       " {'id': '436571', 'parent_id': None},\n",
       " {'id': '436572', 'parent_id': None},\n",
       " {'id': '436573', 'parent_id': None},\n",
       " {'id': '436574', 'parent_id': None},\n",
       " {'id': '436575', 'parent_id': None},\n",
       " {'id': '436577', 'parent_id': None},\n",
       " {'id': '436578', 'parent_id': None},\n",
       " {'id': '436579', 'parent_id': None},\n",
       " {'id': '436939', 'parent_id': None},\n",
       " {'id': '436940', 'parent_id': None},\n",
       " {'id': '436941', 'parent_id': None},\n",
       " {'id': '436942', 'parent_id': None},\n",
       " {'id': '436943', 'parent_id': None},\n",
       " {'id': '436944', 'parent_id': None},\n",
       " {'id': '436945', 'parent_id': None},\n",
       " {'id': '436946', 'parent_id': None},\n",
       " {'id': '436951', 'parent_id': None},\n",
       " {'id': '436952', 'parent_id': None},\n",
       " {'id': '436953', 'parent_id': None},\n",
       " {'id': '439154', 'parent_id': None},\n",
       " {'id': '439155', 'parent_id': None},\n",
       " {'id': '439156', 'parent_id': None},\n",
       " {'id': '439158', 'parent_id': None},\n",
       " {'id': '439160', 'parent_id': None},\n",
       " {'id': '439162', 'parent_id': None},\n",
       " {'id': '439164', 'parent_id': None},\n",
       " {'id': '439166', 'parent_id': None},\n",
       " {'id': '439169', 'parent_id': None},\n",
       " {'id': '439171', 'parent_id': None},\n",
       " {'id': '439173', 'parent_id': None},\n",
       " {'id': '439175', 'parent_id': None},\n",
       " {'id': '439178', 'parent_id': None},\n",
       " {'id': '439181', 'parent_id': None},\n",
       " {'id': '439182', 'parent_id': None},\n",
       " {'id': '439184', 'parent_id': None},\n",
       " {'id': '439186', 'parent_id': None},\n",
       " {'id': '439188', 'parent_id': None},\n",
       " {'id': '439190', 'parent_id': None},\n",
       " {'id': '439192', 'parent_id': None},\n",
       " {'id': '439194', 'parent_id': None},\n",
       " {'id': '439196', 'parent_id': None},\n",
       " {'id': '439198', 'parent_id': None},\n",
       " {'id': '439200', 'parent_id': None},\n",
       " {'id': '439203', 'parent_id': None},\n",
       " {'id': '439205', 'parent_id': None},\n",
       " {'id': '439208', 'parent_id': None},\n",
       " {'id': '439210', 'parent_id': None},\n",
       " {'id': '439211', 'parent_id': None},\n",
       " {'id': '439213', 'parent_id': None},\n",
       " {'id': '439215', 'parent_id': None},\n",
       " {'id': '439217', 'parent_id': None},\n",
       " {'id': '439219', 'parent_id': None},\n",
       " {'id': '439221', 'parent_id': None},\n",
       " {'id': '439223', 'parent_id': None},\n",
       " {'id': '439230', 'parent_id': None},\n",
       " {'id': '439232', 'parent_id': None},\n",
       " {'id': '439234', 'parent_id': None},\n",
       " {'id': '439236', 'parent_id': None},\n",
       " {'id': '439237', 'parent_id': None},\n",
       " {'id': '439267', 'parent_id': None},\n",
       " {'id': '439268', 'parent_id': None},\n",
       " {'id': '439269', 'parent_id': None},\n",
       " {'id': '439270', 'parent_id': None},\n",
       " {'id': '439271', 'parent_id': None},\n",
       " {'id': '439272', 'parent_id': None},\n",
       " {'id': '439273', 'parent_id': None},\n",
       " {'id': '439274', 'parent_id': None},\n",
       " {'id': '439275', 'parent_id': None},\n",
       " {'id': '439276', 'parent_id': None},\n",
       " {'id': '439277', 'parent_id': None},\n",
       " {'id': '439278', 'parent_id': None},\n",
       " {'id': '439279', 'parent_id': None},\n",
       " {'id': '439280', 'parent_id': None},\n",
       " {'id': '439281', 'parent_id': None},\n",
       " {'id': '439282', 'parent_id': None},\n",
       " {'id': '439283', 'parent_id': None},\n",
       " {'id': '439284', 'parent_id': None},\n",
       " {'id': '439285', 'parent_id': None},\n",
       " {'id': '439286', 'parent_id': None},\n",
       " {'id': '439287', 'parent_id': None},\n",
       " {'id': '439288', 'parent_id': None},\n",
       " {'id': '439289', 'parent_id': None},\n",
       " {'id': '439290', 'parent_id': None},\n",
       " {'id': '439291', 'parent_id': None},\n",
       " {'id': '439292', 'parent_id': None},\n",
       " {'id': '439293', 'parent_id': None},\n",
       " {'id': '439294', 'parent_id': None},\n",
       " {'id': '439295', 'parent_id': None},\n",
       " {'id': '439296', 'parent_id': None},\n",
       " {'id': '439297', 'parent_id': None},\n",
       " {'id': '439298', 'parent_id': None},\n",
       " {'id': '439299', 'parent_id': None},\n",
       " {'id': '439300', 'parent_id': None},\n",
       " {'id': '439301', 'parent_id': None},\n",
       " {'id': '439302', 'parent_id': None},\n",
       " {'id': '439303', 'parent_id': None},\n",
       " {'id': '439304', 'parent_id': None},\n",
       " {'id': '439305', 'parent_id': None},\n",
       " {'id': '439306', 'parent_id': None},\n",
       " {'id': '439307', 'parent_id': None},\n",
       " {'id': '439308', 'parent_id': None},\n",
       " {'id': '439309', 'parent_id': None},\n",
       " {'id': '439310', 'parent_id': None},\n",
       " {'id': '439311', 'parent_id': None},\n",
       " {'id': '439312', 'parent_id': None},\n",
       " {'id': '439313', 'parent_id': None},\n",
       " {'id': '439314', 'parent_id': None},\n",
       " {'id': '439315', 'parent_id': None},\n",
       " {'id': '439316', 'parent_id': None},\n",
       " {'id': '439317', 'parent_id': None},\n",
       " {'id': '439318', 'parent_id': None},\n",
       " {'id': '439319', 'parent_id': None},\n",
       " {'id': '439320', 'parent_id': None},\n",
       " {'id': '439321', 'parent_id': None},\n",
       " {'id': '439322', 'parent_id': None},\n",
       " {'id': '439323', 'parent_id': None},\n",
       " {'id': '439324', 'parent_id': None},\n",
       " {'id': '439325', 'parent_id': None},\n",
       " {'id': '439326', 'parent_id': None},\n",
       " {'id': '439327', 'parent_id': None},\n",
       " {'id': '439328', 'parent_id': None},\n",
       " {'id': '439329', 'parent_id': None},\n",
       " {'id': '439330', 'parent_id': None},\n",
       " {'id': '439331', 'parent_id': None},\n",
       " {'id': '439332', 'parent_id': None},\n",
       " {'id': '439333', 'parent_id': None},\n",
       " {'id': '439334', 'parent_id': None},\n",
       " {'id': '439335', 'parent_id': None},\n",
       " {'id': '439336', 'parent_id': None},\n",
       " {'id': '439337', 'parent_id': None},\n",
       " {'id': '439338', 'parent_id': None},\n",
       " {'id': '439339', 'parent_id': None},\n",
       " {'id': '439340', 'parent_id': None},\n",
       " {'id': '439341', 'parent_id': None},\n",
       " {'id': '439342', 'parent_id': None},\n",
       " {'id': '439343', 'parent_id': None},\n",
       " {'id': '439344', 'parent_id': None},\n",
       " {'id': '439345', 'parent_id': None},\n",
       " {'id': '439346', 'parent_id': None},\n",
       " {'id': '439347', 'parent_id': None},\n",
       " {'id': '439348', 'parent_id': None},\n",
       " {'id': '439349', 'parent_id': None},\n",
       " {'id': '439350', 'parent_id': None},\n",
       " {'id': '439351', 'parent_id': None},\n",
       " {'id': '439352', 'parent_id': None},\n",
       " {'id': '439353', 'parent_id': None},\n",
       " {'id': '439354', 'parent_id': None},\n",
       " {'id': '439355', 'parent_id': None},\n",
       " {'id': '439356', 'parent_id': None},\n",
       " {'id': '439357', 'parent_id': None},\n",
       " {'id': '439358', 'parent_id': None},\n",
       " {'id': '439359', 'parent_id': None},\n",
       " {'id': '439360', 'parent_id': None},\n",
       " {'id': '439361', 'parent_id': None},\n",
       " {'id': '439362', 'parent_id': None},\n",
       " {'id': '439363', 'parent_id': None},\n",
       " {'id': '439364', 'parent_id': None},\n",
       " {'id': '439365', 'parent_id': None},\n",
       " {'id': '439366', 'parent_id': None},\n",
       " {'id': '439367', 'parent_id': None},\n",
       " {'id': '439368', 'parent_id': None},\n",
       " {'id': '439369', 'parent_id': None},\n",
       " {'id': '439370', 'parent_id': None},\n",
       " {'id': '439525', 'parent_id': None},\n",
       " {'id': '439526', 'parent_id': None},\n",
       " {'id': '439527', 'parent_id': None},\n",
       " {'id': '439528', 'parent_id': None},\n",
       " {'id': '439529', 'parent_id': None},\n",
       " {'id': '439530', 'parent_id': None},\n",
       " {'id': '439531', 'parent_id': None},\n",
       " {'id': '439532', 'parent_id': None},\n",
       " {'id': '439534', 'parent_id': None},\n",
       " {'id': '439551', 'parent_id': None},\n",
       " {'id': '439552', 'parent_id': None},\n",
       " {'id': '439553', 'parent_id': None},\n",
       " {'id': '439554', 'parent_id': None},\n",
       " {'id': '439555', 'parent_id': None},\n",
       " {'id': '439556', 'parent_id': None},\n",
       " {'id': '439559', 'parent_id': None},\n",
       " {'id': '439560', 'parent_id': None},\n",
       " {'id': '439561', 'parent_id': None},\n",
       " {'id': '439562', 'parent_id': None},\n",
       " {'id': '439563', 'parent_id': None},\n",
       " {'id': '439564', 'parent_id': None},\n",
       " {'id': '439565', 'parent_id': None},\n",
       " {'id': '439566', 'parent_id': None},\n",
       " {'id': '439567', 'parent_id': None},\n",
       " {'id': '439568', 'parent_id': None},\n",
       " {'id': '439569', 'parent_id': None},\n",
       " {'id': '439570', 'parent_id': None},\n",
       " {'id': '439571', 'parent_id': None},\n",
       " {'id': '439572', 'parent_id': None},\n",
       " {'id': '439573', 'parent_id': None},\n",
       " {'id': '439574', 'parent_id': None},\n",
       " {'id': '439575', 'parent_id': None},\n",
       " {'id': '439576', 'parent_id': None},\n",
       " {'id': '439577', 'parent_id': None},\n",
       " {'id': '439578', 'parent_id': None},\n",
       " {'id': '439579', 'parent_id': None},\n",
       " {'id': '439580', 'parent_id': None},\n",
       " {'id': '439581', 'parent_id': None},\n",
       " {'id': '439582', 'parent_id': None},\n",
       " {'id': '439583', 'parent_id': None},\n",
       " {'id': '439584', 'parent_id': None},\n",
       " {'id': '439585', 'parent_id': None},\n",
       " {'id': '439586', 'parent_id': None},\n",
       " {'id': '439587', 'parent_id': None},\n",
       " {'id': '439588', 'parent_id': None},\n",
       " {'id': '439589', 'parent_id': None},\n",
       " {'id': '439590', 'parent_id': None},\n",
       " {'id': '439591', 'parent_id': None},\n",
       " {'id': '439592', 'parent_id': None},\n",
       " {'id': '439593', 'parent_id': None},\n",
       " {'id': '439594', 'parent_id': None},\n",
       " {'id': '439595', 'parent_id': None},\n",
       " {'id': '439596', 'parent_id': None},\n",
       " {'id': '439597', 'parent_id': None},\n",
       " {'id': '439598', 'parent_id': None},\n",
       " {'id': '439599', 'parent_id': None},\n",
       " {'id': '439600', 'parent_id': None},\n",
       " {'id': '439601', 'parent_id': None},\n",
       " {'id': '439602', 'parent_id': None},\n",
       " {'id': '439603', 'parent_id': None},\n",
       " {'id': '439604', 'parent_id': None},\n",
       " {'id': '439605', 'parent_id': None},\n",
       " {'id': '439606', 'parent_id': None},\n",
       " {'id': '439607', 'parent_id': None},\n",
       " {'id': '439608', 'parent_id': None},\n",
       " {'id': '439609', 'parent_id': None},\n",
       " {'id': '439610', 'parent_id': None},\n",
       " {'id': '439611', 'parent_id': None},\n",
       " {'id': '439612', 'parent_id': None},\n",
       " {'id': '439613', 'parent_id': None},\n",
       " {'id': '439614', 'parent_id': None},\n",
       " {'id': '439615', 'parent_id': None},\n",
       " {'id': '439617', 'parent_id': None},\n",
       " {'id': '439618', 'parent_id': None},\n",
       " {'id': '439619', 'parent_id': None},\n",
       " {'id': '439620', 'parent_id': None},\n",
       " {'id': '439621', 'parent_id': None},\n",
       " {'id': '439622', 'parent_id': None},\n",
       " {'id': '439623', 'parent_id': None},\n",
       " {'id': '439624', 'parent_id': None},\n",
       " {'id': '439625', 'parent_id': None},\n",
       " {'id': '439626', 'parent_id': None},\n",
       " {'id': '439627', 'parent_id': None},\n",
       " {'id': '439628', 'parent_id': None},\n",
       " {'id': '439629', 'parent_id': None},\n",
       " {'id': '439630', 'parent_id': None},\n",
       " {'id': '439631', 'parent_id': None},\n",
       " {'id': '439632', 'parent_id': None},\n",
       " {'id': '439633', 'parent_id': None},\n",
       " {'id': '439634', 'parent_id': None},\n",
       " {'id': '439635', 'parent_id': None},\n",
       " {'id': '439636', 'parent_id': None},\n",
       " {'id': '439637', 'parent_id': None},\n",
       " {'id': '439638', 'parent_id': None},\n",
       " {'id': '439639', 'parent_id': None},\n",
       " {'id': '439640', 'parent_id': None},\n",
       " {'id': '439641', 'parent_id': None},\n",
       " {'id': '439642', 'parent_id': None},\n",
       " {'id': '439643', 'parent_id': None},\n",
       " {'id': '439644', 'parent_id': None},\n",
       " {'id': '439645', 'parent_id': None},\n",
       " {'id': '439646', 'parent_id': None},\n",
       " {'id': '439647', 'parent_id': None},\n",
       " {'id': '439648', 'parent_id': None},\n",
       " {'id': '439649', 'parent_id': None},\n",
       " {'id': '439650', 'parent_id': None},\n",
       " {'id': '439651', 'parent_id': None},\n",
       " {'id': '439652', 'parent_id': None},\n",
       " {'id': '439664', 'parent_id': None},\n",
       " {'id': '439665', 'parent_id': None},\n",
       " {'id': '439668', 'parent_id': None},\n",
       " {'id': '439669', 'parent_id': None},\n",
       " {'id': '439670', 'parent_id': None},\n",
       " {'id': '439671', 'parent_id': None},\n",
       " {'id': '439672', 'parent_id': None},\n",
       " {'id': '439673', 'parent_id': None},\n",
       " {'id': '439674', 'parent_id': None},\n",
       " {'id': '439675', 'parent_id': None},\n",
       " {'id': '439676', 'parent_id': None},\n",
       " {'id': '439677', 'parent_id': None},\n",
       " {'id': '439678', 'parent_id': None},\n",
       " {'id': '439679', 'parent_id': None},\n",
       " {'id': '439680', 'parent_id': None},\n",
       " {'id': '439681', 'parent_id': None},\n",
       " {'id': '439682', 'parent_id': None},\n",
       " {'id': '439683', 'parent_id': None},\n",
       " {'id': '440164', 'parent_id': None},\n",
       " {'id': '440165', 'parent_id': None},\n",
       " {'id': '440166', 'parent_id': None},\n",
       " {'id': '440167', 'parent_id': None},\n",
       " {'id': '440168', 'parent_id': None},\n",
       " {'id': '440169', 'parent_id': None},\n",
       " {'id': '440170', 'parent_id': None},\n",
       " {'id': '440171', 'parent_id': None},\n",
       " {'id': '440172', 'parent_id': None},\n",
       " {'id': '440173', 'parent_id': None},\n",
       " {'id': '440174', 'parent_id': None},\n",
       " {'id': '440175', 'parent_id': None},\n",
       " {'id': '440176', 'parent_id': None},\n",
       " {'id': '440192', 'parent_id': None},\n",
       " {'id': '440193', 'parent_id': None},\n",
       " {'id': '440205', 'parent_id': None},\n",
       " {'id': '440206', 'parent_id': None},\n",
       " {'id': '440207', 'parent_id': None},\n",
       " {'id': '440208', 'parent_id': None},\n",
       " {'id': '440209', 'parent_id': None},\n",
       " {'id': '440210', 'parent_id': None},\n",
       " {'id': '440211', 'parent_id': None},\n",
       " {'id': '440212', 'parent_id': None},\n",
       " {'id': '440213', 'parent_id': None},\n",
       " {'id': '440214', 'parent_id': None},\n",
       " {'id': '440215', 'parent_id': None},\n",
       " {'id': '440216', 'parent_id': None},\n",
       " {'id': '440217', 'parent_id': None},\n",
       " {'id': '440263', 'parent_id': None},\n",
       " {'id': '440264', 'parent_id': None},\n",
       " {'id': '440265', 'parent_id': None},\n",
       " {'id': '440266', 'parent_id': None},\n",
       " {'id': '440267', 'parent_id': None},\n",
       " {'id': '440268', 'parent_id': None},\n",
       " {'id': '440269', 'parent_id': None},\n",
       " {'id': '440270', 'parent_id': None},\n",
       " {'id': '440271', 'parent_id': None},\n",
       " {'id': '440274', 'parent_id': None},\n",
       " {'id': '440275', 'parent_id': None},\n",
       " {'id': '534534', 'parent_id': None},\n",
       " {'id': '47826', 'parent_id': None},\n",
       " {'id': '435516', 'parent_id': None},\n",
       " {'id': '442452', 'parent_id': None},\n",
       " {'id': '439554', 'parent_id': None}]"
      ]
     },
     "execution_count": 123,
     "metadata": {},
     "output_type": "execute_result"
    }
   ],
   "source": [
    "[{'id': str(ele['id']), 'parent_id':ele.get('parent_id',None)} for ele in toDelete]"
   ]
  },
  {
   "cell_type": "code",
   "execution_count": 121,
   "metadata": {},
   "outputs": [
    {
     "data": {
      "text/plain": [
       "[{'id': '3659532', 'parent_id': '62372'},\n",
       " {'id': '3659532', 'parent_id': '62341'},\n",
       " {'id': '62485', 'parent_id': '435516'},\n",
       " {'id': '442452', 'parent_id': '62467'},\n",
       " {'id': '1115033', 'parent_id': '62401'},\n",
       " {'id': '1115034', 'parent_id': '62586'},\n",
       " {'id': '1808583', 'parent_id': '62597'},\n",
       " {'id': '439554', 'parent_id': '62485'},\n",
       " {'id': '534534', 'parent_id': '442452'},\n",
       " {'id': '3678366', 'parent_id': '1739379'}]"
      ]
     },
     "execution_count": 121,
     "metadata": {},
     "output_type": "execute_result"
    }
   ],
   "source": [
    "modify[cntrId]['delete']"
   ]
  },
  {
   "cell_type": "markdown",
   "metadata": {},
   "source": [
    "#### to modify"
   ]
  },
  {
   "cell_type": "code",
   "execution_count": 186,
   "metadata": {},
   "outputs": [
    {
     "name": "stdout",
     "output_type": "stream",
     "text": [
      "1431517,1739379,3678366\n"
     ]
    },
    {
     "data": {
      "text/plain": [
       "['https://www.openstreetmap.org/relation/1431517',\n",
       " 'https://www.openstreetmap.org/relation/1739379',\n",
       " 'https://www.openstreetmap.org/relation/3678366']"
      ]
     },
     "execution_count": 186,
     "metadata": {},
     "output_type": "execute_result"
    }
   ],
   "source": [
    "id = 3678366\n",
    "temp = [ele['tags']['parent_id'] for ele in rawOSMRes['elements'] if ele['id'] == id]\n",
    "temp.append(str(id))\n",
    "print(','.join(temp))\n",
    "temp = list(map(lambda x: f'https://www.openstreetmap.org/relation/{x}', temp))\n",
    "temp"
   ]
  },
  {
   "cell_type": "code",
   "execution_count": null,
   "metadata": {},
   "outputs": [],
   "source": [
    "temp = {\n",
    "\n",
    "}"
   ]
  },
  {
   "cell_type": "code",
   "execution_count": 68,
   "metadata": {},
   "outputs": [],
   "source": [
    "removeEnts = {**removeEnts, **temp}"
   ]
  },
  {
   "cell_type": "code",
   "execution_count": null,
   "metadata": {},
   "outputs": [],
   "source": [
    "dump('./data/modifications.json', removeEnts)"
   ]
  },
  {
   "cell_type": "markdown",
   "metadata": {},
   "source": [
    "### apply"
   ]
  },
  {
   "cell_type": "code",
   "execution_count": 76,
   "metadata": {},
   "outputs": [],
   "source": [
    "modifications = load('./data/modifications.json')"
   ]
  },
  {
   "cell_type": "code",
   "execution_count": 113,
   "metadata": {},
   "outputs": [
    {
     "data": {
      "text/plain": [
       "11762"
      ]
     },
     "execution_count": 113,
     "metadata": {},
     "output_type": "execute_result"
    }
   ],
   "source": [
    "import copy\n",
    "rawElemsTSane = pd.DataFrame(copy.deepcopy(rawElems))\n",
    "len(rawElemsTSane.index)"
   ]
  },
  {
   "cell_type": "code",
   "execution_count": 114,
   "metadata": {},
   "outputs": [
    {
     "name": "stdout",
     "output_type": "stream",
     "text": [
      "3\n",
      "11758\n"
     ]
    }
   ],
   "source": [
    "delete = deleteDuplicates(pd.DataFrame(relLeaks)['id'].to_list())\n",
    "print(len(delete))\n",
    "rawElemsTSane = rawElemsTSane[~rawElemsTSane['id'].isin(delete)]\n",
    "rawElemsTSane = rawElemsTSane.to_dict('records')\n",
    "print(len(rawElemsTSane))"
   ]
  },
  {
   "cell_type": "code",
   "execution_count": 115,
   "metadata": {},
   "outputs": [],
   "source": [
    "def applyChanges(lis, changes):\n",
    "\n",
    "    toDelete = [[change['id'], change.get('parent_id','None')] for change in changes['delete']]\n",
    "\n",
    "    def pattern(ele): \n",
    "        return [str(ele['id']), ele['tags']['parent_id'] if 'parent_id' in ele['tags'] else 'None']\n",
    "\n",
    "    return  [ele for ele in lis if pattern(ele) not in toDelete]"
   ]
  },
  {
   "cell_type": "code",
   "execution_count": 116,
   "metadata": {},
   "outputs": [
    {
     "name": "stdout",
     "output_type": "stream",
     "text": [
      "11758\n",
      "10\n",
      "11749\n"
     ]
    }
   ],
   "source": [
    "print(len(rawElemsTSane))\n",
    "changes = modifications[cntrId]\n",
    "print(len(changes['delete']))\n",
    "rawElemsTSane = applyChanges(rawElemsTSane, changes)\n",
    "print(len(rawElemsTSane))"
   ]
  },
  {
   "cell_type": "code",
   "execution_count": 86,
   "metadata": {},
   "outputs": [
    {
     "data": {
      "text/plain": [
       "{'delete': [{'id': '3659532', 'parent_id': '62372'},\n",
       "  {'id': '3659532', 'parent_id': '62341'},\n",
       "  {'id': '62485', 'parent_id': '435516'},\n",
       "  {'id': '442452', 'parent_id': '62467'},\n",
       "  {'id': '1115033', 'parent_id': '62401'},\n",
       "  {'id': '1115034', 'parent_id': '62586'},\n",
       "  {'id': '1808583', 'parent_id': '62597'},\n",
       "  {'id': '439554', 'parent_id': '62485'},\n",
       "  {'id': '534534', 'parent_id': '442452'},\n",
       "  {'id': '3678366', 'parent_id': '1739379'}],\n",
       " 'modify': [{'id': '3678366', 'parent_id': '28322', 'admin_level': '6'}]}"
      ]
     },
     "execution_count": 86,
     "metadata": {},
     "output_type": "execute_result"
    }
   ],
   "source": [
    "changes"
   ]
  },
  {
   "cell_type": "code",
   "execution_count": 189,
   "metadata": {},
   "outputs": [
    {
     "name": "stdout",
     "output_type": "stream",
     "text": [
      "missing name:  0\n",
      "duplicate elements:  0\n"
     ]
    },
    {
     "data": {
      "text/plain": [
       "[[], []]"
      ]
     },
     "execution_count": 189,
     "metadata": {},
     "output_type": "execute_result"
    }
   ],
   "source": [
    "testSanitize(rawOSMResTSane)"
   ]
  },
  {
   "cell_type": "code",
   "execution_count": 190,
   "metadata": {},
   "outputs": [
    {
     "data": {
      "text/plain": [
       "[]"
      ]
     },
     "execution_count": 190,
     "metadata": {},
     "output_type": "execute_result"
    }
   ],
   "source": [
    "[ele for ele in rawOSMResTSane['elements'] if ele['id'] == 47826]"
   ]
  },
  {
   "cell_type": "markdown",
   "metadata": {},
   "source": [
    "# normalize"
   ]
  },
  {
   "cell_type": "markdown",
   "metadata": {},
   "source": [
    "#### make relsDataIndex"
   ]
  },
  {
   "cell_type": "code",
   "execution_count": 191,
   "metadata": {},
   "outputs": [
    {
     "data": {
      "text/plain": [
       "11752"
      ]
     },
     "execution_count": 191,
     "metadata": {},
     "output_type": "execute_result"
    }
   ],
   "source": [
    "relsDataIndex = {str(x[\"id\"]):x for x in rawOSMResTSane[\"elements\"]}\n",
    "# add parent_id to keys on first level\n",
    "for id, value in relsDataIndex.items():\n",
    "    if value[\"tags\"][\"admin_level\"] == '2':\n",
    "        value[\"parent_id\"] = \"#\"\n",
    "    elif value[\"tags\"][\"admin_level\"] == osmMetaCountrDict[cntrName][\"addLvlsNum\"][0]:\n",
    "        value[\"parent_id\"] = cntrId\n",
    "    elif value[\"tags\"][\"admin_level\"] in osmMetaCountrDict[cntrName][\"addLvlsNum\"][1:]:\n",
    "        value[\"parent_id\"] = value[\"tags\"][\"parent_id\"]      \n",
    "        # del value[\"parent_id\"]\n",
    "\n",
    "    value[\"id\"] = str(id)\n",
    "    # del value[\"id\"]\n",
    "    relsDataIndex[id] = sortDictKeys(value, [\"type\", \"id\", \"parent_id\", \"tags\"])\n",
    "\n",
    "len(list(relsDataIndex.keys()))"
   ]
  },
  {
   "cell_type": "markdown",
   "metadata": {},
   "source": [
    "#### make childsIndex"
   ]
  },
  {
   "cell_type": "code",
   "execution_count": 192,
   "metadata": {},
   "outputs": [
    {
     "data": {
      "text/plain": [
       "312"
      ]
     },
     "execution_count": 192,
     "metadata": {},
     "output_type": "execute_result"
    }
   ],
   "source": [
    "idPairs = {key:value[\"parent_id\"] for key, value in relsDataIndex.items() if value[\"parent_id\"] != \"#\"} \n",
    "# creates an empty dictionary\n",
    "childsIndex = {}\n",
    "for k, v in idPairs.items():\n",
    "    # if key doesn't exist then make list else append to list\n",
    "    childsIndex.setdefault(v, list()).append(str(k))\n",
    "    \n",
    "len(childsIndex)"
   ]
  },
  {
   "cell_type": "code",
   "execution_count": 193,
   "metadata": {},
   "outputs": [],
   "source": [
    "dump(os.path.join(cntrDataDir, \"childsIndex.json\"), childsIndex)"
   ]
  },
  {
   "cell_type": "code",
   "execution_count": 194,
   "metadata": {},
   "outputs": [],
   "source": [
    "# Add childs to rels data index\n",
    "for id, value in relsDataIndex.items():\n",
    "    relsDataIndex[id] = sortDictKeys({\"childs\":childsIndex.get(id, []),**relsDataIndex[id]}, [\"type\", \"id\", \"parent_id\", \"childs\",\"tags\"])"
   ]
  },
  {
   "cell_type": "code",
   "execution_count": 195,
   "metadata": {},
   "outputs": [],
   "source": [
    "dump(os.path.join(cntrDataDir, \"relsDataIndex.json\"), relsDataIndex)"
   ]
  },
  {
   "cell_type": "markdown",
   "metadata": {},
   "source": [
    "#### [OLD] make data tree and min tree "
   ]
  },
  {
   "cell_type": "code",
   "execution_count": 81,
   "metadata": {},
   "outputs": [],
   "source": [
    "# make tags properties to use in selection\n",
    "relTagsIndex = { k : v[\"tags\"] for k, v in relsDataIndex.items()}"
   ]
  },
  {
   "cell_type": "code",
   "execution_count": null,
   "metadata": {},
   "outputs": [],
   "source": [
    "indexKeys = list(childsIndex.keys())\n",
    "\n",
    "def makeAddsTree(idList, dataIndex):\n",
    "    return {id: {**dataIndex[id], \"childs\":(makeAddsTree(relsDataIndex[id][\"childs\"], dataIndex) if id in indexKeys else {})} for id in idList }"
   ]
  },
  {
   "cell_type": "code",
   "execution_count": 29,
   "metadata": {},
   "outputs": [
    {
     "data": {
      "text/plain": [
       "17"
      ]
     },
     "execution_count": 29,
     "metadata": {},
     "output_type": "execute_result"
    }
   ],
   "source": [
    "keysMin = [\"name\"]\n",
    "keys = [\"id\", \"name\", \"official_name\", \"parent_id\", \"ISO3166-2\", \"admin_level\"]\n",
    "addsDataTree = makeAddsTree([countryID], {k:dictFilterKeys(v, keysMin) for k, v in relTagsIndex.items()})\n",
    "len(addsDataTree[countryID][\"childs\"])"
   ]
  },
  {
   "cell_type": "code",
   "execution_count": 30,
   "metadata": {},
   "outputs": [],
   "source": [
    "dump(os.path.join(outDir, \"addsDataTree.json\"), addsDataTree)"
   ]
  },
  {
   "cell_type": "markdown",
   "metadata": {},
   "source": [
    "# validate"
   ]
  },
  {
   "cell_type": "code",
   "execution_count": 10,
   "metadata": {},
   "outputs": [
    {
     "name": "stdout",
     "output_type": "stream",
     "text": [
      "11752\n",
      "312\n"
     ]
    }
   ],
   "source": [
    "relsDataIndex = load(os.path.join(cntrDataDir, \"relsDataIndex.json\"))\n",
    "print(len(relsDataIndex))\n",
    "childsIndex = load(os.path.join(cntrDataDir, \"childsIndex.json\"))\n",
    "print(len(childsIndex))"
   ]
  },
  {
   "cell_type": "code",
   "execution_count": 15,
   "metadata": {},
   "outputs": [
    {
     "name": "stdout",
     "output_type": "stream",
     "text": [
      "11752\n",
      "Entities that not belong to the country:  3\n",
      "Intersection between childs?:  0\n"
     ]
    }
   ],
   "source": [
    "print(len(relsDataIndex))\n",
    "relsDataIndexTSane = copy.deepcopy(relsDataIndex)\n",
    "# 1. Check leak of divisions from other countries\n",
    "test1 = test('leaksFromOtherCountries')(relsDataIndexTSane, cntrId)\n",
    "# 2. Intersection between childs\n",
    "print('Intersection between childs?: ', len(findIntersection(list(childsIndex.values()))))"
   ]
  },
  {
   "cell_type": "code",
   "execution_count": 12,
   "metadata": {},
   "outputs": [
    {
     "data": {
      "text/plain": [
       "11749"
      ]
     },
     "execution_count": 12,
     "metadata": {},
     "output_type": "execute_result"
    }
   ],
   "source": [
    "for ele in list(test1.keys()):\n",
    "    relsDataIndexTSane.pop(ele)\n",
    "len(list(relsDataIndexTSane.keys()))"
   ]
  },
  {
   "cell_type": "code",
   "execution_count": 150,
   "metadata": {},
   "outputs": [
    {
     "name": "stdout",
     "output_type": "stream",
     "text": [
      "Entities that not belong to the country:  0\n"
     ]
    },
    {
     "data": {
      "text/plain": [
       "{}"
      ]
     },
     "execution_count": 150,
     "metadata": {},
     "output_type": "execute_result"
    }
   ],
   "source": [
    "test('leaksFromOtherCountries')(relsDataIndexTSane, cntrId)"
   ]
  },
  {
   "cell_type": "code",
   "execution_count": 201,
   "metadata": {},
   "outputs": [
    {
     "data": {
      "text/plain": [
       "{'type': 'relation',\n",
       " 'id': '47826',\n",
       " 'parent_id': '51477',\n",
       " 'childs': [],\n",
       " 'tags': {'ISO3166-2': 'NL-GR',\n",
       "  'admin_level': '4',\n",
       "  'boundary': 'administrative',\n",
       "  'designation': 'provincie',\n",
       "  'flag': 'File:Flag_Groningen.svg',\n",
       "  'name': 'Groningen',\n",
       "  'name:ar': 'خرونينغن',\n",
       "  'name:de': 'Groningen',\n",
       "  'name:en': 'Groningen',\n",
       "  'name:eo': 'Groningo',\n",
       "  'name:es': 'Groninga',\n",
       "  'name:fr': 'Groningue',\n",
       "  'name:fy': 'Grinslân',\n",
       "  'name:hu': 'Groningen',\n",
       "  'name:it': 'Groninga',\n",
       "  'name:ja': 'フローニンゲン州',\n",
       "  'name:la': 'Groninga',\n",
       "  'name:nds': 'Grunnen',\n",
       "  'name:nl': 'Groningen',\n",
       "  'name:pcd': 'Groningue',\n",
       "  'name:pt': 'Groninga',\n",
       "  'name:ro': 'Groningen',\n",
       "  'name:ru': 'Гронинген',\n",
       "  'name:sr': 'Гронинген',\n",
       "  'name:tok': 'ma Konine',\n",
       "  'name:uk': 'Гронінген',\n",
       "  'name:vls': 'Groniengn',\n",
       "  'name:zh-Hans': '格罗宁根',\n",
       "  'name:zh-Hant': '格羅寧根',\n",
       "  'note:ISO3166-2': 'Groningen is a subset (type Province) of the Kingdom of the Netherlands (ISO3166-1 country code NL)',\n",
       "  'official_name': 'Groningen',\n",
       "  'operator': 'Provincie Groningen',\n",
       "  'population': '585866',\n",
       "  'population:date': '2020-01-01',\n",
       "  'ref': 'GR',\n",
       "  'ref:nuts': 'NL11',\n",
       "  'ref:nuts:2': 'NL11',\n",
       "  'ref:provinciecode': '20',\n",
       "  'source:population': 'CBS',\n",
       "  'type': 'boundary',\n",
       "  'wikidata': 'Q752',\n",
       "  'wikipedia': 'nl:Groningen (provincie)'}}"
      ]
     },
     "execution_count": 201,
     "metadata": {},
     "output_type": "execute_result"
    }
   ],
   "source": [
    "relsDataIndex['47826']"
   ]
  },
  {
   "cell_type": "code",
   "execution_count": 200,
   "metadata": {},
   "outputs": [
    {
     "ename": "KeyError",
     "evalue": "'47826'",
     "output_type": "error",
     "traceback": [
      "\u001b[1;31m---------------------------------------------------------------------------\u001b[0m",
      "\u001b[1;31mKeyError\u001b[0m                                  Traceback (most recent call last)",
      "Cell \u001b[1;32mIn[200], line 1\u001b[0m\n\u001b[1;32m----> 1\u001b[0m \u001b[43mrelsDataIndexTSane\u001b[49m\u001b[43m[\u001b[49m\u001b[38;5;124;43m'\u001b[39;49m\u001b[38;5;124;43m47826\u001b[39;49m\u001b[38;5;124;43m'\u001b[39;49m\u001b[43m]\u001b[49m\n",
      "\u001b[1;31mKeyError\u001b[0m: '47826'"
     ]
    }
   ],
   "source": [
    "relsDataIndexTSane['47826']"
   ]
  },
  {
   "cell_type": "code",
   "execution_count": 151,
   "metadata": {},
   "outputs": [],
   "source": [
    "dump(f'./data/{cntrId}/relsDataIndex.json', relsDataIndexTSane)"
   ]
  },
  {
   "cell_type": "markdown",
   "metadata": {},
   "source": [
    "# review"
   ]
  },
  {
   "cell_type": "code",
   "execution_count": 124,
   "metadata": {},
   "outputs": [
    {
     "name": "stdout",
     "output_type": "stream",
     "text": [
      "11749\n",
      "312\n"
     ]
    }
   ],
   "source": [
    "relsDataIndex = load(os.path.join(cntrDataDir, \"relsDataIndex.json\"))\n",
    "print(len(relsDataIndex))\n",
    "childsIndex = load(os.path.join(cntrDataDir, \"childsIndex.json\"))\n",
    "print(len(childsIndex))"
   ]
  },
  {
   "cell_type": "code",
   "execution_count": 125,
   "metadata": {},
   "outputs": [
    {
     "name": "stdout",
     "output_type": "stream",
     "text": [
      "17\n",
      "398\n",
      "11333\n"
     ]
    }
   ],
   "source": [
    "lvl1 = [v[\"id\"] for v in relsDataIndex.values() if v[\"tags\"][\"admin_level\"] == '4']\n",
    "print(len(lvl1))\n",
    "lvl2 = [v[\"id\"] for v in relsDataIndex.values() if v[\"tags\"][\"admin_level\"] == '6']\n",
    "print(len(lvl2))\n",
    "lvl3 = [v[\"id\"] for v in relsDataIndex.values() if v[\"tags\"][\"admin_level\"] == '8']\n",
    "print(len(lvl3))"
   ]
  },
  {
   "cell_type": "code",
   "execution_count": 114,
   "metadata": {},
   "outputs": [],
   "source": [
    "getKeys = [\"id\", \"name\", \"official_name\", \"parent_id\", \"ISO3166-2\", \"admin_level\",\"childs_num\"]"
   ]
  },
  {
   "cell_type": "markdown",
   "metadata": {},
   "source": [
    "### lvl 1"
   ]
  },
  {
   "cell_type": "code",
   "execution_count": 126,
   "metadata": {},
   "outputs": [
    {
     "data": {
      "text/html": [
       "<div>\n",
       "<style scoped>\n",
       "    .dataframe tbody tr th:only-of-type {\n",
       "        vertical-align: middle;\n",
       "    }\n",
       "\n",
       "    .dataframe tbody tr th {\n",
       "        vertical-align: top;\n",
       "    }\n",
       "\n",
       "    .dataframe thead th {\n",
       "        text-align: right;\n",
       "    }\n",
       "</style>\n",
       "<table border=\"1\" class=\"dataframe\">\n",
       "  <thead>\n",
       "    <tr style=\"text-align: right;\">\n",
       "      <th></th>\n",
       "      <th>id</th>\n",
       "      <th>name</th>\n",
       "      <th>official_name</th>\n",
       "      <th>parent_id</th>\n",
       "      <th>ISO3166-2</th>\n",
       "      <th>admin_level</th>\n",
       "      <th>childs_num</th>\n",
       "    </tr>\n",
       "  </thead>\n",
       "  <tbody>\n",
       "    <tr>\n",
       "      <th>0</th>\n",
       "      <td>28322</td>\n",
       "      <td>Mecklenburg-Vorpommern</td>\n",
       "      <td>missing</td>\n",
       "      <td>51477</td>\n",
       "      <td>DE-MV</td>\n",
       "      <td>4</td>\n",
       "      <td>8</td>\n",
       "    </tr>\n",
       "    <tr>\n",
       "      <th>1</th>\n",
       "      <td>51529</td>\n",
       "      <td>Schleswig-Holstein</td>\n",
       "      <td>missing</td>\n",
       "      <td>51477</td>\n",
       "      <td>DE-SH</td>\n",
       "      <td>4</td>\n",
       "      <td>15</td>\n",
       "    </tr>\n",
       "    <tr>\n",
       "      <th>2</th>\n",
       "      <td>62341</td>\n",
       "      <td>Rheinland-Pfalz</td>\n",
       "      <td>missing</td>\n",
       "      <td>51477</td>\n",
       "      <td>DE-RP</td>\n",
       "      <td>4</td>\n",
       "      <td>36</td>\n",
       "    </tr>\n",
       "    <tr>\n",
       "      <th>3</th>\n",
       "      <td>62366</td>\n",
       "      <td>Thüringen</td>\n",
       "      <td>Freistaat Thüringen</td>\n",
       "      <td>51477</td>\n",
       "      <td>DE-TH</td>\n",
       "      <td>4</td>\n",
       "      <td>22</td>\n",
       "    </tr>\n",
       "    <tr>\n",
       "      <th>4</th>\n",
       "      <td>62372</td>\n",
       "      <td>Saarland</td>\n",
       "      <td>missing</td>\n",
       "      <td>51477</td>\n",
       "      <td>DE-SL</td>\n",
       "      <td>4</td>\n",
       "      <td>6</td>\n",
       "    </tr>\n",
       "    <tr>\n",
       "      <th>5</th>\n",
       "      <td>62422</td>\n",
       "      <td>Berlin</td>\n",
       "      <td>Berlin</td>\n",
       "      <td>51477</td>\n",
       "      <td>DE-BE</td>\n",
       "      <td>4</td>\n",
       "      <td>0</td>\n",
       "    </tr>\n",
       "    <tr>\n",
       "      <th>6</th>\n",
       "      <td>62467</td>\n",
       "      <td>Sachsen</td>\n",
       "      <td>Freistaat Sachsen</td>\n",
       "      <td>51477</td>\n",
       "      <td>DE-SN</td>\n",
       "      <td>4</td>\n",
       "      <td>13</td>\n",
       "    </tr>\n",
       "    <tr>\n",
       "      <th>7</th>\n",
       "      <td>62504</td>\n",
       "      <td>Brandenburg</td>\n",
       "      <td>missing</td>\n",
       "      <td>51477</td>\n",
       "      <td>DE-BB</td>\n",
       "      <td>4</td>\n",
       "      <td>18</td>\n",
       "    </tr>\n",
       "    <tr>\n",
       "      <th>8</th>\n",
       "      <td>62607</td>\n",
       "      <td>Sachsen-Anhalt</td>\n",
       "      <td>missing</td>\n",
       "      <td>51477</td>\n",
       "      <td>DE-ST</td>\n",
       "      <td>4</td>\n",
       "      <td>14</td>\n",
       "    </tr>\n",
       "    <tr>\n",
       "      <th>9</th>\n",
       "      <td>62611</td>\n",
       "      <td>Baden-Württemberg</td>\n",
       "      <td>missing</td>\n",
       "      <td>51477</td>\n",
       "      <td>DE-BW</td>\n",
       "      <td>4</td>\n",
       "      <td>44</td>\n",
       "    </tr>\n",
       "    <tr>\n",
       "      <th>10</th>\n",
       "      <td>62650</td>\n",
       "      <td>Hessen</td>\n",
       "      <td>missing</td>\n",
       "      <td>51477</td>\n",
       "      <td>DE-HE</td>\n",
       "      <td>4</td>\n",
       "      <td>26</td>\n",
       "    </tr>\n",
       "    <tr>\n",
       "      <th>11</th>\n",
       "      <td>62718</td>\n",
       "      <td>Bremen</td>\n",
       "      <td>Freie Hansestadt Bremen</td>\n",
       "      <td>51477</td>\n",
       "      <td>DE-HB</td>\n",
       "      <td>4</td>\n",
       "      <td>2</td>\n",
       "    </tr>\n",
       "    <tr>\n",
       "      <th>12</th>\n",
       "      <td>62761</td>\n",
       "      <td>Nordrhein-Westfalen</td>\n",
       "      <td>missing</td>\n",
       "      <td>51477</td>\n",
       "      <td>DE-NW</td>\n",
       "      <td>4</td>\n",
       "      <td>53</td>\n",
       "    </tr>\n",
       "    <tr>\n",
       "      <th>13</th>\n",
       "      <td>62771</td>\n",
       "      <td>Niedersachsen</td>\n",
       "      <td>missing</td>\n",
       "      <td>51477</td>\n",
       "      <td>DE-NI</td>\n",
       "      <td>4</td>\n",
       "      <td>45</td>\n",
       "    </tr>\n",
       "    <tr>\n",
       "      <th>14</th>\n",
       "      <td>62782</td>\n",
       "      <td>Hamburg</td>\n",
       "      <td>Freie und Hansestadt Hamburg</td>\n",
       "      <td>51477</td>\n",
       "      <td>DE-HH</td>\n",
       "      <td>4</td>\n",
       "      <td>0</td>\n",
       "    </tr>\n",
       "    <tr>\n",
       "      <th>15</th>\n",
       "      <td>435516</td>\n",
       "      <td>Severozápad</td>\n",
       "      <td>missing</td>\n",
       "      <td>51477</td>\n",
       "      <td>missing</td>\n",
       "      <td>4</td>\n",
       "      <td>2</td>\n",
       "    </tr>\n",
       "    <tr>\n",
       "      <th>16</th>\n",
       "      <td>2145268</td>\n",
       "      <td>Bayern</td>\n",
       "      <td>Freistaat Bayern</td>\n",
       "      <td>51477</td>\n",
       "      <td>DE-BY</td>\n",
       "      <td>4</td>\n",
       "      <td>96</td>\n",
       "    </tr>\n",
       "  </tbody>\n",
       "</table>\n",
       "</div>"
      ],
      "text/plain": [
       "         id                    name                 official_name parent_id  \\\n",
       "0     28322  Mecklenburg-Vorpommern                       missing     51477   \n",
       "1     51529      Schleswig-Holstein                       missing     51477   \n",
       "2     62341         Rheinland-Pfalz                       missing     51477   \n",
       "3     62366               Thüringen           Freistaat Thüringen     51477   \n",
       "4     62372                Saarland                       missing     51477   \n",
       "5     62422                  Berlin                        Berlin     51477   \n",
       "6     62467                 Sachsen             Freistaat Sachsen     51477   \n",
       "7     62504             Brandenburg                       missing     51477   \n",
       "8     62607          Sachsen-Anhalt                       missing     51477   \n",
       "9     62611       Baden-Württemberg                       missing     51477   \n",
       "10    62650                  Hessen                       missing     51477   \n",
       "11    62718                  Bremen       Freie Hansestadt Bremen     51477   \n",
       "12    62761     Nordrhein-Westfalen                       missing     51477   \n",
       "13    62771           Niedersachsen                       missing     51477   \n",
       "14    62782                 Hamburg  Freie und Hansestadt Hamburg     51477   \n",
       "15   435516             Severozápad                       missing     51477   \n",
       "16  2145268                  Bayern              Freistaat Bayern     51477   \n",
       "\n",
       "   ISO3166-2 admin_level  childs_num  \n",
       "0      DE-MV           4           8  \n",
       "1      DE-SH           4          15  \n",
       "2      DE-RP           4          36  \n",
       "3      DE-TH           4          22  \n",
       "4      DE-SL           4           6  \n",
       "5      DE-BE           4           0  \n",
       "6      DE-SN           4          13  \n",
       "7      DE-BB           4          18  \n",
       "8      DE-ST           4          14  \n",
       "9      DE-BW           4          44  \n",
       "10     DE-HE           4          26  \n",
       "11     DE-HB           4           2  \n",
       "12     DE-NW           4          53  \n",
       "13     DE-NI           4          45  \n",
       "14     DE-HH           4           0  \n",
       "15   missing           4           2  \n",
       "16     DE-BY           4          96  "
      ]
     },
     "execution_count": 126,
     "metadata": {},
     "output_type": "execute_result"
    }
   ],
   "source": [
    "props = [{**dictRemoveKeys(relsDataIndex[id],[\"childs\", \"tags\"]), **relsDataIndex[id][\"tags\"], \"childs_num\":len(relsDataIndex[id][\"childs\"])} for id in lvl1]\n",
    "props = [{k:t.get(k, \"missing\") for k in getKeys} for t in props]\n",
    "plot(props)"
   ]
  },
  {
   "cell_type": "markdown",
   "metadata": {},
   "source": [
    "### lvl 2"
   ]
  },
  {
   "cell_type": "code",
   "execution_count": 118,
   "metadata": {},
   "outputs": [
    {
     "data": {
      "text/html": [
       "<div>\n",
       "<style scoped>\n",
       "    .dataframe tbody tr th:only-of-type {\n",
       "        vertical-align: middle;\n",
       "    }\n",
       "\n",
       "    .dataframe tbody tr th {\n",
       "        vertical-align: top;\n",
       "    }\n",
       "\n",
       "    .dataframe thead th {\n",
       "        text-align: right;\n",
       "    }\n",
       "</style>\n",
       "<table border=\"1\" class=\"dataframe\">\n",
       "  <thead>\n",
       "    <tr style=\"text-align: right;\">\n",
       "      <th></th>\n",
       "      <th>id</th>\n",
       "      <th>name</th>\n",
       "      <th>official_name</th>\n",
       "      <th>parent_id</th>\n",
       "      <th>ISO3166-2</th>\n",
       "      <th>admin_level</th>\n",
       "      <th>childs_num</th>\n",
       "    </tr>\n",
       "  </thead>\n",
       "  <tbody>\n",
       "    <tr>\n",
       "      <th>0</th>\n",
       "      <td>27014</td>\n",
       "      <td>Schleswig-Flensburg</td>\n",
       "      <td>Kreis Schleswig-Flensburg</td>\n",
       "      <td>51529</td>\n",
       "      <td>missing</td>\n",
       "      <td>6</td>\n",
       "      <td>123</td>\n",
       "    </tr>\n",
       "    <tr>\n",
       "      <th>1</th>\n",
       "      <td>27016</td>\n",
       "      <td>Kreis Steinburg</td>\n",
       "      <td>Kreis Steinburg</td>\n",
       "      <td>51529</td>\n",
       "      <td>missing</td>\n",
       "      <td>6</td>\n",
       "      <td>111</td>\n",
       "    </tr>\n",
       "    <tr>\n",
       "      <th>2</th>\n",
       "      <td>27017</td>\n",
       "      <td>Rendsburg-Eckernförde</td>\n",
       "      <td>Kreis Rendsburg-Eckernförde</td>\n",
       "      <td>51529</td>\n",
       "      <td>missing</td>\n",
       "      <td>6</td>\n",
       "      <td>165</td>\n",
       "    </tr>\n",
       "    <tr>\n",
       "      <th>3</th>\n",
       "      <td>27019</td>\n",
       "      <td>Nordfriesland</td>\n",
       "      <td>Kreis Nordfriesland</td>\n",
       "      <td>51529</td>\n",
       "      <td>missing</td>\n",
       "      <td>6</td>\n",
       "      <td>129</td>\n",
       "    </tr>\n",
       "    <tr>\n",
       "      <th>4</th>\n",
       "      <td>27020</td>\n",
       "      <td>Flensburg</td>\n",
       "      <td>missing</td>\n",
       "      <td>51529</td>\n",
       "      <td>missing</td>\n",
       "      <td>6</td>\n",
       "      <td>0</td>\n",
       "    </tr>\n",
       "    <tr>\n",
       "      <th>5</th>\n",
       "      <td>27021</td>\n",
       "      <td>Kiel</td>\n",
       "      <td>Kreisfreie Stadt Kiel</td>\n",
       "      <td>51529</td>\n",
       "      <td>missing</td>\n",
       "      <td>6</td>\n",
       "      <td>0</td>\n",
       "    </tr>\n",
       "    <tr>\n",
       "      <th>6</th>\n",
       "      <td>27025</td>\n",
       "      <td>Ostholstein</td>\n",
       "      <td>Kreis Ostholstein</td>\n",
       "      <td>51529</td>\n",
       "      <td>missing</td>\n",
       "      <td>6</td>\n",
       "      <td>36</td>\n",
       "    </tr>\n",
       "    <tr>\n",
       "      <th>7</th>\n",
       "      <td>27026</td>\n",
       "      <td>Plön</td>\n",
       "      <td>Kreis Plön</td>\n",
       "      <td>51529</td>\n",
       "      <td>missing</td>\n",
       "      <td>6</td>\n",
       "      <td>85</td>\n",
       "    </tr>\n",
       "    <tr>\n",
       "      <th>8</th>\n",
       "      <td>27027</td>\n",
       "      <td>Lübeck</td>\n",
       "      <td>Kreisfreie Stadt Lübeck</td>\n",
       "      <td>51529</td>\n",
       "      <td>missing</td>\n",
       "      <td>6</td>\n",
       "      <td>0</td>\n",
       "    </tr>\n",
       "    <tr>\n",
       "      <th>9</th>\n",
       "      <td>27028</td>\n",
       "      <td>Dithmarschen</td>\n",
       "      <td>Kreis Dithmarschen</td>\n",
       "      <td>51529</td>\n",
       "      <td>missing</td>\n",
       "      <td>6</td>\n",
       "      <td>116</td>\n",
       "    </tr>\n",
       "    <tr>\n",
       "      <th>10</th>\n",
       "      <td>62408</td>\n",
       "      <td>Kreis Pinneberg</td>\n",
       "      <td>Kreis Pinneberg</td>\n",
       "      <td>51529</td>\n",
       "      <td>missing</td>\n",
       "      <td>6</td>\n",
       "      <td>49</td>\n",
       "    </tr>\n",
       "    <tr>\n",
       "      <th>11</th>\n",
       "      <td>62528</td>\n",
       "      <td>Neumünster</td>\n",
       "      <td>Kreisfreie Stadt Neumünster</td>\n",
       "      <td>51529</td>\n",
       "      <td>missing</td>\n",
       "      <td>6</td>\n",
       "      <td>0</td>\n",
       "    </tr>\n",
       "    <tr>\n",
       "      <th>12</th>\n",
       "      <td>62546</td>\n",
       "      <td>Stormarn</td>\n",
       "      <td>Kreis Stormarn</td>\n",
       "      <td>51529</td>\n",
       "      <td>missing</td>\n",
       "      <td>6</td>\n",
       "      <td>55</td>\n",
       "    </tr>\n",
       "    <tr>\n",
       "      <th>13</th>\n",
       "      <td>62703</td>\n",
       "      <td>Herzogtum Lauenburg</td>\n",
       "      <td>Kreis Herzogtum Lauenburg</td>\n",
       "      <td>51529</td>\n",
       "      <td>missing</td>\n",
       "      <td>6</td>\n",
       "      <td>133</td>\n",
       "    </tr>\n",
       "    <tr>\n",
       "      <th>14</th>\n",
       "      <td>62733</td>\n",
       "      <td>Kreis Segeberg</td>\n",
       "      <td>Kreis Segeberg</td>\n",
       "      <td>51529</td>\n",
       "      <td>missing</td>\n",
       "      <td>6</td>\n",
       "      <td>96</td>\n",
       "    </tr>\n",
       "  </tbody>\n",
       "</table>\n",
       "</div>"
      ],
      "text/plain": [
       "       id                   name                official_name parent_id  \\\n",
       "0   27014    Schleswig-Flensburg    Kreis Schleswig-Flensburg     51529   \n",
       "1   27016        Kreis Steinburg              Kreis Steinburg     51529   \n",
       "2   27017  Rendsburg-Eckernförde  Kreis Rendsburg-Eckernförde     51529   \n",
       "3   27019          Nordfriesland          Kreis Nordfriesland     51529   \n",
       "4   27020              Flensburg                      missing     51529   \n",
       "5   27021                   Kiel        Kreisfreie Stadt Kiel     51529   \n",
       "6   27025            Ostholstein            Kreis Ostholstein     51529   \n",
       "7   27026                   Plön                   Kreis Plön     51529   \n",
       "8   27027                 Lübeck      Kreisfreie Stadt Lübeck     51529   \n",
       "9   27028           Dithmarschen           Kreis Dithmarschen     51529   \n",
       "10  62408        Kreis Pinneberg              Kreis Pinneberg     51529   \n",
       "11  62528             Neumünster  Kreisfreie Stadt Neumünster     51529   \n",
       "12  62546               Stormarn               Kreis Stormarn     51529   \n",
       "13  62703    Herzogtum Lauenburg    Kreis Herzogtum Lauenburg     51529   \n",
       "14  62733         Kreis Segeberg               Kreis Segeberg     51529   \n",
       "\n",
       "   ISO3166-2 admin_level  childs_num  \n",
       "0    missing           6         123  \n",
       "1    missing           6         111  \n",
       "2    missing           6         165  \n",
       "3    missing           6         129  \n",
       "4    missing           6           0  \n",
       "5    missing           6           0  \n",
       "6    missing           6          36  \n",
       "7    missing           6          85  \n",
       "8    missing           6           0  \n",
       "9    missing           6         116  \n",
       "10   missing           6          49  \n",
       "11   missing           6           0  \n",
       "12   missing           6          55  \n",
       "13   missing           6         133  \n",
       "14   missing           6          96  "
      ]
     },
     "execution_count": 118,
     "metadata": {},
     "output_type": "execute_result"
    }
   ],
   "source": [
    "props = [{**dictRemoveKeys(relsDataIndex[id],[\"childs\", \"tags\"]), **relsDataIndex[id][\"tags\"], \"childs_num\":len(relsDataIndex[id][\"childs\"])} for id in relsDataIndex[\"51529\"][\"childs\"]]\n",
    "props = [{k:t.get(k, \"missing\") for k in getKeys} for t in props]\n",
    "plot(props)"
   ]
  },
  {
   "cell_type": "markdown",
   "metadata": {},
   "source": [
    "### lvl 3"
   ]
  },
  {
   "cell_type": "code",
   "execution_count": 119,
   "metadata": {},
   "outputs": [
    {
     "data": {
      "text/html": [
       "<div>\n",
       "<style scoped>\n",
       "    .dataframe tbody tr th:only-of-type {\n",
       "        vertical-align: middle;\n",
       "    }\n",
       "\n",
       "    .dataframe tbody tr th {\n",
       "        vertical-align: top;\n",
       "    }\n",
       "\n",
       "    .dataframe thead th {\n",
       "        text-align: right;\n",
       "    }\n",
       "</style>\n",
       "<table border=\"1\" class=\"dataframe\">\n",
       "  <thead>\n",
       "    <tr style=\"text-align: right;\">\n",
       "      <th></th>\n",
       "      <th>id</th>\n",
       "      <th>name</th>\n",
       "      <th>official_name</th>\n",
       "      <th>parent_id</th>\n",
       "      <th>ISO3166-2</th>\n",
       "      <th>admin_level</th>\n",
       "      <th>childs_num</th>\n",
       "    </tr>\n",
       "  </thead>\n",
       "  <tbody>\n",
       "    <tr>\n",
       "      <th>0</th>\n",
       "      <td>312038</td>\n",
       "      <td>Ammersbek</td>\n",
       "      <td>missing</td>\n",
       "      <td>62546</td>\n",
       "      <td>missing</td>\n",
       "      <td>8</td>\n",
       "      <td>0</td>\n",
       "    </tr>\n",
       "    <tr>\n",
       "      <th>1</th>\n",
       "      <td>335683</td>\n",
       "      <td>Reinbek</td>\n",
       "      <td>missing</td>\n",
       "      <td>62546</td>\n",
       "      <td>missing</td>\n",
       "      <td>8</td>\n",
       "      <td>0</td>\n",
       "    </tr>\n",
       "    <tr>\n",
       "      <th>2</th>\n",
       "      <td>419144</td>\n",
       "      <td>Trittau</td>\n",
       "      <td>missing</td>\n",
       "      <td>62546</td>\n",
       "      <td>missing</td>\n",
       "      <td>8</td>\n",
       "      <td>0</td>\n",
       "    </tr>\n",
       "    <tr>\n",
       "      <th>3</th>\n",
       "      <td>444300</td>\n",
       "      <td>Tangstedt</td>\n",
       "      <td>missing</td>\n",
       "      <td>62546</td>\n",
       "      <td>missing</td>\n",
       "      <td>8</td>\n",
       "      <td>0</td>\n",
       "    </tr>\n",
       "    <tr>\n",
       "      <th>4</th>\n",
       "      <td>453723</td>\n",
       "      <td>Bargteheide</td>\n",
       "      <td>missing</td>\n",
       "      <td>62546</td>\n",
       "      <td>missing</td>\n",
       "      <td>8</td>\n",
       "      <td>0</td>\n",
       "    </tr>\n",
       "    <tr>\n",
       "      <th>5</th>\n",
       "      <td>453724</td>\n",
       "      <td>Jersbek</td>\n",
       "      <td>missing</td>\n",
       "      <td>62546</td>\n",
       "      <td>missing</td>\n",
       "      <td>8</td>\n",
       "      <td>0</td>\n",
       "    </tr>\n",
       "    <tr>\n",
       "      <th>6</th>\n",
       "      <td>453725</td>\n",
       "      <td>Bargfeld-Stegen</td>\n",
       "      <td>missing</td>\n",
       "      <td>62546</td>\n",
       "      <td>missing</td>\n",
       "      <td>8</td>\n",
       "      <td>0</td>\n",
       "    </tr>\n",
       "    <tr>\n",
       "      <th>7</th>\n",
       "      <td>453726</td>\n",
       "      <td>Nienwohld</td>\n",
       "      <td>missing</td>\n",
       "      <td>62546</td>\n",
       "      <td>missing</td>\n",
       "      <td>8</td>\n",
       "      <td>0</td>\n",
       "    </tr>\n",
       "    <tr>\n",
       "      <th>8</th>\n",
       "      <td>453727</td>\n",
       "      <td>Elmenhorst</td>\n",
       "      <td>missing</td>\n",
       "      <td>62546</td>\n",
       "      <td>missing</td>\n",
       "      <td>8</td>\n",
       "      <td>0</td>\n",
       "    </tr>\n",
       "    <tr>\n",
       "      <th>9</th>\n",
       "      <td>453743</td>\n",
       "      <td>Tremsbüttel</td>\n",
       "      <td>missing</td>\n",
       "      <td>62546</td>\n",
       "      <td>missing</td>\n",
       "      <td>8</td>\n",
       "      <td>0</td>\n",
       "    </tr>\n",
       "    <tr>\n",
       "      <th>10</th>\n",
       "      <td>453744</td>\n",
       "      <td>Hammoor</td>\n",
       "      <td>missing</td>\n",
       "      <td>62546</td>\n",
       "      <td>missing</td>\n",
       "      <td>8</td>\n",
       "      <td>0</td>\n",
       "    </tr>\n",
       "    <tr>\n",
       "      <th>11</th>\n",
       "      <td>453745</td>\n",
       "      <td>Lasbek</td>\n",
       "      <td>missing</td>\n",
       "      <td>62546</td>\n",
       "      <td>missing</td>\n",
       "      <td>8</td>\n",
       "      <td>0</td>\n",
       "    </tr>\n",
       "    <tr>\n",
       "      <th>12</th>\n",
       "      <td>453746</td>\n",
       "      <td>Ahrensburg</td>\n",
       "      <td>missing</td>\n",
       "      <td>62546</td>\n",
       "      <td>missing</td>\n",
       "      <td>8</td>\n",
       "      <td>0</td>\n",
       "    </tr>\n",
       "    <tr>\n",
       "      <th>13</th>\n",
       "      <td>453747</td>\n",
       "      <td>Delingsdorf</td>\n",
       "      <td>missing</td>\n",
       "      <td>62546</td>\n",
       "      <td>missing</td>\n",
       "      <td>8</td>\n",
       "      <td>0</td>\n",
       "    </tr>\n",
       "    <tr>\n",
       "      <th>14</th>\n",
       "      <td>453748</td>\n",
       "      <td>Todendorf</td>\n",
       "      <td>missing</td>\n",
       "      <td>62546</td>\n",
       "      <td>missing</td>\n",
       "      <td>8</td>\n",
       "      <td>0</td>\n",
       "    </tr>\n",
       "    <tr>\n",
       "      <th>15</th>\n",
       "      <td>454193</td>\n",
       "      <td>Siek</td>\n",
       "      <td>missing</td>\n",
       "      <td>62546</td>\n",
       "      <td>missing</td>\n",
       "      <td>8</td>\n",
       "      <td>0</td>\n",
       "    </tr>\n",
       "    <tr>\n",
       "      <th>16</th>\n",
       "      <td>454194</td>\n",
       "      <td>Hoisdorf</td>\n",
       "      <td>missing</td>\n",
       "      <td>62546</td>\n",
       "      <td>missing</td>\n",
       "      <td>8</td>\n",
       "      <td>0</td>\n",
       "    </tr>\n",
       "    <tr>\n",
       "      <th>17</th>\n",
       "      <td>454195</td>\n",
       "      <td>Großhansdorf</td>\n",
       "      <td>missing</td>\n",
       "      <td>62546</td>\n",
       "      <td>missing</td>\n",
       "      <td>8</td>\n",
       "      <td>0</td>\n",
       "    </tr>\n",
       "    <tr>\n",
       "      <th>18</th>\n",
       "      <td>454196</td>\n",
       "      <td>Grönwohld</td>\n",
       "      <td>missing</td>\n",
       "      <td>62546</td>\n",
       "      <td>missing</td>\n",
       "      <td>8</td>\n",
       "      <td>0</td>\n",
       "    </tr>\n",
       "    <tr>\n",
       "      <th>19</th>\n",
       "      <td>454198</td>\n",
       "      <td>Köthel (Stormarn)</td>\n",
       "      <td>missing</td>\n",
       "      <td>62546</td>\n",
       "      <td>missing</td>\n",
       "      <td>8</td>\n",
       "      <td>0</td>\n",
       "    </tr>\n",
       "    <tr>\n",
       "      <th>20</th>\n",
       "      <td>454199</td>\n",
       "      <td>Hohenfelde</td>\n",
       "      <td>missing</td>\n",
       "      <td>62546</td>\n",
       "      <td>missing</td>\n",
       "      <td>8</td>\n",
       "      <td>0</td>\n",
       "    </tr>\n",
       "    <tr>\n",
       "      <th>21</th>\n",
       "      <td>454200</td>\n",
       "      <td>Lütjensee</td>\n",
       "      <td>missing</td>\n",
       "      <td>62546</td>\n",
       "      <td>missing</td>\n",
       "      <td>8</td>\n",
       "      <td>0</td>\n",
       "    </tr>\n",
       "    <tr>\n",
       "      <th>22</th>\n",
       "      <td>454243</td>\n",
       "      <td>Hamfelde (Stormarn)</td>\n",
       "      <td>missing</td>\n",
       "      <td>62546</td>\n",
       "      <td>missing</td>\n",
       "      <td>8</td>\n",
       "      <td>0</td>\n",
       "    </tr>\n",
       "    <tr>\n",
       "      <th>23</th>\n",
       "      <td>454244</td>\n",
       "      <td>Brunsbek</td>\n",
       "      <td>missing</td>\n",
       "      <td>62546</td>\n",
       "      <td>missing</td>\n",
       "      <td>8</td>\n",
       "      <td>0</td>\n",
       "    </tr>\n",
       "    <tr>\n",
       "      <th>24</th>\n",
       "      <td>454245</td>\n",
       "      <td>Braak</td>\n",
       "      <td>missing</td>\n",
       "      <td>62546</td>\n",
       "      <td>missing</td>\n",
       "      <td>8</td>\n",
       "      <td>0</td>\n",
       "    </tr>\n",
       "    <tr>\n",
       "      <th>25</th>\n",
       "      <td>454246</td>\n",
       "      <td>Stapelfeld</td>\n",
       "      <td>missing</td>\n",
       "      <td>62546</td>\n",
       "      <td>missing</td>\n",
       "      <td>8</td>\n",
       "      <td>0</td>\n",
       "    </tr>\n",
       "    <tr>\n",
       "      <th>26</th>\n",
       "      <td>454248</td>\n",
       "      <td>Glinde</td>\n",
       "      <td>missing</td>\n",
       "      <td>62546</td>\n",
       "      <td>missing</td>\n",
       "      <td>8</td>\n",
       "      <td>0</td>\n",
       "    </tr>\n",
       "    <tr>\n",
       "      <th>27</th>\n",
       "      <td>454249</td>\n",
       "      <td>Witzhave</td>\n",
       "      <td>missing</td>\n",
       "      <td>62546</td>\n",
       "      <td>missing</td>\n",
       "      <td>8</td>\n",
       "      <td>0</td>\n",
       "    </tr>\n",
       "    <tr>\n",
       "      <th>28</th>\n",
       "      <td>454250</td>\n",
       "      <td>Rausdorf</td>\n",
       "      <td>missing</td>\n",
       "      <td>62546</td>\n",
       "      <td>missing</td>\n",
       "      <td>8</td>\n",
       "      <td>0</td>\n",
       "    </tr>\n",
       "    <tr>\n",
       "      <th>29</th>\n",
       "      <td>454251</td>\n",
       "      <td>Großensee</td>\n",
       "      <td>missing</td>\n",
       "      <td>62546</td>\n",
       "      <td>missing</td>\n",
       "      <td>8</td>\n",
       "      <td>0</td>\n",
       "    </tr>\n",
       "    <tr>\n",
       "      <th>30</th>\n",
       "      <td>454252</td>\n",
       "      <td>Grande</td>\n",
       "      <td>missing</td>\n",
       "      <td>62546</td>\n",
       "      <td>missing</td>\n",
       "      <td>8</td>\n",
       "      <td>0</td>\n",
       "    </tr>\n",
       "    <tr>\n",
       "      <th>31</th>\n",
       "      <td>455447</td>\n",
       "      <td>Steinburg</td>\n",
       "      <td>missing</td>\n",
       "      <td>62546</td>\n",
       "      <td>missing</td>\n",
       "      <td>8</td>\n",
       "      <td>0</td>\n",
       "    </tr>\n",
       "    <tr>\n",
       "      <th>32</th>\n",
       "      <td>532316</td>\n",
       "      <td>Grabau</td>\n",
       "      <td>missing</td>\n",
       "      <td>62546</td>\n",
       "      <td>missing</td>\n",
       "      <td>8</td>\n",
       "      <td>0</td>\n",
       "    </tr>\n",
       "    <tr>\n",
       "      <th>33</th>\n",
       "      <td>532317</td>\n",
       "      <td>Rethwisch</td>\n",
       "      <td>missing</td>\n",
       "      <td>62546</td>\n",
       "      <td>missing</td>\n",
       "      <td>8</td>\n",
       "      <td>0</td>\n",
       "    </tr>\n",
       "    <tr>\n",
       "      <th>34</th>\n",
       "      <td>532318</td>\n",
       "      <td>Wesenberg</td>\n",
       "      <td>missing</td>\n",
       "      <td>62546</td>\n",
       "      <td>missing</td>\n",
       "      <td>8</td>\n",
       "      <td>0</td>\n",
       "    </tr>\n",
       "    <tr>\n",
       "      <th>35</th>\n",
       "      <td>532319</td>\n",
       "      <td>Meddewade</td>\n",
       "      <td>missing</td>\n",
       "      <td>62546</td>\n",
       "      <td>missing</td>\n",
       "      <td>8</td>\n",
       "      <td>0</td>\n",
       "    </tr>\n",
       "    <tr>\n",
       "      <th>36</th>\n",
       "      <td>532320</td>\n",
       "      <td>Neritz</td>\n",
       "      <td>missing</td>\n",
       "      <td>62546</td>\n",
       "      <td>missing</td>\n",
       "      <td>8</td>\n",
       "      <td>0</td>\n",
       "    </tr>\n",
       "    <tr>\n",
       "      <th>37</th>\n",
       "      <td>532321</td>\n",
       "      <td>Rümpel</td>\n",
       "      <td>missing</td>\n",
       "      <td>62546</td>\n",
       "      <td>missing</td>\n",
       "      <td>8</td>\n",
       "      <td>0</td>\n",
       "    </tr>\n",
       "    <tr>\n",
       "      <th>38</th>\n",
       "      <td>532322</td>\n",
       "      <td>Travenbrück</td>\n",
       "      <td>missing</td>\n",
       "      <td>62546</td>\n",
       "      <td>missing</td>\n",
       "      <td>8</td>\n",
       "      <td>0</td>\n",
       "    </tr>\n",
       "    <tr>\n",
       "      <th>39</th>\n",
       "      <td>532323</td>\n",
       "      <td>Westerau</td>\n",
       "      <td>missing</td>\n",
       "      <td>62546</td>\n",
       "      <td>missing</td>\n",
       "      <td>8</td>\n",
       "      <td>0</td>\n",
       "    </tr>\n",
       "    <tr>\n",
       "      <th>40</th>\n",
       "      <td>532324</td>\n",
       "      <td>Barnitz</td>\n",
       "      <td>missing</td>\n",
       "      <td>62546</td>\n",
       "      <td>missing</td>\n",
       "      <td>8</td>\n",
       "      <td>0</td>\n",
       "    </tr>\n",
       "    <tr>\n",
       "      <th>41</th>\n",
       "      <td>532325</td>\n",
       "      <td>Bad Oldesloe</td>\n",
       "      <td>missing</td>\n",
       "      <td>62546</td>\n",
       "      <td>missing</td>\n",
       "      <td>8</td>\n",
       "      <td>0</td>\n",
       "    </tr>\n",
       "    <tr>\n",
       "      <th>42</th>\n",
       "      <td>532326</td>\n",
       "      <td>Pölitz</td>\n",
       "      <td>missing</td>\n",
       "      <td>62546</td>\n",
       "      <td>missing</td>\n",
       "      <td>8</td>\n",
       "      <td>0</td>\n",
       "    </tr>\n",
       "    <tr>\n",
       "      <th>43</th>\n",
       "      <td>532327</td>\n",
       "      <td>Klein Wesenberg</td>\n",
       "      <td>missing</td>\n",
       "      <td>62546</td>\n",
       "      <td>missing</td>\n",
       "      <td>8</td>\n",
       "      <td>0</td>\n",
       "    </tr>\n",
       "    <tr>\n",
       "      <th>44</th>\n",
       "      <td>532392</td>\n",
       "      <td>Zarpen</td>\n",
       "      <td>missing</td>\n",
       "      <td>62546</td>\n",
       "      <td>missing</td>\n",
       "      <td>8</td>\n",
       "      <td>0</td>\n",
       "    </tr>\n",
       "    <tr>\n",
       "      <th>45</th>\n",
       "      <td>532393</td>\n",
       "      <td>Heidekamp</td>\n",
       "      <td>missing</td>\n",
       "      <td>62546</td>\n",
       "      <td>missing</td>\n",
       "      <td>8</td>\n",
       "      <td>0</td>\n",
       "    </tr>\n",
       "    <tr>\n",
       "      <th>46</th>\n",
       "      <td>532394</td>\n",
       "      <td>Mönkhagen</td>\n",
       "      <td>missing</td>\n",
       "      <td>62546</td>\n",
       "      <td>missing</td>\n",
       "      <td>8</td>\n",
       "      <td>0</td>\n",
       "    </tr>\n",
       "    <tr>\n",
       "      <th>47</th>\n",
       "      <td>532395</td>\n",
       "      <td>Rehhorst</td>\n",
       "      <td>missing</td>\n",
       "      <td>62546</td>\n",
       "      <td>missing</td>\n",
       "      <td>8</td>\n",
       "      <td>0</td>\n",
       "    </tr>\n",
       "    <tr>\n",
       "      <th>48</th>\n",
       "      <td>532396</td>\n",
       "      <td>Feldhorst</td>\n",
       "      <td>missing</td>\n",
       "      <td>62546</td>\n",
       "      <td>missing</td>\n",
       "      <td>8</td>\n",
       "      <td>0</td>\n",
       "    </tr>\n",
       "    <tr>\n",
       "      <th>49</th>\n",
       "      <td>532397</td>\n",
       "      <td>Hamberge</td>\n",
       "      <td>missing</td>\n",
       "      <td>62546</td>\n",
       "      <td>missing</td>\n",
       "      <td>8</td>\n",
       "      <td>0</td>\n",
       "    </tr>\n",
       "    <tr>\n",
       "      <th>50</th>\n",
       "      <td>532398</td>\n",
       "      <td>Badendorf</td>\n",
       "      <td>missing</td>\n",
       "      <td>62546</td>\n",
       "      <td>missing</td>\n",
       "      <td>8</td>\n",
       "      <td>0</td>\n",
       "    </tr>\n",
       "    <tr>\n",
       "      <th>51</th>\n",
       "      <td>532400</td>\n",
       "      <td>Heilshoop</td>\n",
       "      <td>missing</td>\n",
       "      <td>62546</td>\n",
       "      <td>missing</td>\n",
       "      <td>8</td>\n",
       "      <td>0</td>\n",
       "    </tr>\n",
       "    <tr>\n",
       "      <th>52</th>\n",
       "      <td>532401</td>\n",
       "      <td>Reinfeld</td>\n",
       "      <td>missing</td>\n",
       "      <td>62546</td>\n",
       "      <td>missing</td>\n",
       "      <td>8</td>\n",
       "      <td>0</td>\n",
       "    </tr>\n",
       "    <tr>\n",
       "      <th>53</th>\n",
       "      <td>2069504</td>\n",
       "      <td>Oststeinbek</td>\n",
       "      <td>missing</td>\n",
       "      <td>62546</td>\n",
       "      <td>missing</td>\n",
       "      <td>8</td>\n",
       "      <td>0</td>\n",
       "    </tr>\n",
       "    <tr>\n",
       "      <th>54</th>\n",
       "      <td>2073736</td>\n",
       "      <td>Barsbüttel</td>\n",
       "      <td>missing</td>\n",
       "      <td>62546</td>\n",
       "      <td>missing</td>\n",
       "      <td>8</td>\n",
       "      <td>0</td>\n",
       "    </tr>\n",
       "  </tbody>\n",
       "</table>\n",
       "</div>"
      ],
      "text/plain": [
       "         id                 name official_name parent_id ISO3166-2  \\\n",
       "0    312038            Ammersbek       missing     62546   missing   \n",
       "1    335683              Reinbek       missing     62546   missing   \n",
       "2    419144              Trittau       missing     62546   missing   \n",
       "3    444300            Tangstedt       missing     62546   missing   \n",
       "4    453723          Bargteheide       missing     62546   missing   \n",
       "5    453724              Jersbek       missing     62546   missing   \n",
       "6    453725      Bargfeld-Stegen       missing     62546   missing   \n",
       "7    453726            Nienwohld       missing     62546   missing   \n",
       "8    453727           Elmenhorst       missing     62546   missing   \n",
       "9    453743          Tremsbüttel       missing     62546   missing   \n",
       "10   453744              Hammoor       missing     62546   missing   \n",
       "11   453745               Lasbek       missing     62546   missing   \n",
       "12   453746           Ahrensburg       missing     62546   missing   \n",
       "13   453747          Delingsdorf       missing     62546   missing   \n",
       "14   453748            Todendorf       missing     62546   missing   \n",
       "15   454193                 Siek       missing     62546   missing   \n",
       "16   454194             Hoisdorf       missing     62546   missing   \n",
       "17   454195         Großhansdorf       missing     62546   missing   \n",
       "18   454196            Grönwohld       missing     62546   missing   \n",
       "19   454198    Köthel (Stormarn)       missing     62546   missing   \n",
       "20   454199           Hohenfelde       missing     62546   missing   \n",
       "21   454200            Lütjensee       missing     62546   missing   \n",
       "22   454243  Hamfelde (Stormarn)       missing     62546   missing   \n",
       "23   454244             Brunsbek       missing     62546   missing   \n",
       "24   454245                Braak       missing     62546   missing   \n",
       "25   454246           Stapelfeld       missing     62546   missing   \n",
       "26   454248               Glinde       missing     62546   missing   \n",
       "27   454249             Witzhave       missing     62546   missing   \n",
       "28   454250             Rausdorf       missing     62546   missing   \n",
       "29   454251            Großensee       missing     62546   missing   \n",
       "30   454252               Grande       missing     62546   missing   \n",
       "31   455447            Steinburg       missing     62546   missing   \n",
       "32   532316               Grabau       missing     62546   missing   \n",
       "33   532317            Rethwisch       missing     62546   missing   \n",
       "34   532318            Wesenberg       missing     62546   missing   \n",
       "35   532319            Meddewade       missing     62546   missing   \n",
       "36   532320               Neritz       missing     62546   missing   \n",
       "37   532321               Rümpel       missing     62546   missing   \n",
       "38   532322          Travenbrück       missing     62546   missing   \n",
       "39   532323             Westerau       missing     62546   missing   \n",
       "40   532324              Barnitz       missing     62546   missing   \n",
       "41   532325         Bad Oldesloe       missing     62546   missing   \n",
       "42   532326               Pölitz       missing     62546   missing   \n",
       "43   532327      Klein Wesenberg       missing     62546   missing   \n",
       "44   532392               Zarpen       missing     62546   missing   \n",
       "45   532393            Heidekamp       missing     62546   missing   \n",
       "46   532394            Mönkhagen       missing     62546   missing   \n",
       "47   532395             Rehhorst       missing     62546   missing   \n",
       "48   532396            Feldhorst       missing     62546   missing   \n",
       "49   532397             Hamberge       missing     62546   missing   \n",
       "50   532398            Badendorf       missing     62546   missing   \n",
       "51   532400            Heilshoop       missing     62546   missing   \n",
       "52   532401             Reinfeld       missing     62546   missing   \n",
       "53  2069504          Oststeinbek       missing     62546   missing   \n",
       "54  2073736           Barsbüttel       missing     62546   missing   \n",
       "\n",
       "   admin_level  childs_num  \n",
       "0            8           0  \n",
       "1            8           0  \n",
       "2            8           0  \n",
       "3            8           0  \n",
       "4            8           0  \n",
       "5            8           0  \n",
       "6            8           0  \n",
       "7            8           0  \n",
       "8            8           0  \n",
       "9            8           0  \n",
       "10           8           0  \n",
       "11           8           0  \n",
       "12           8           0  \n",
       "13           8           0  \n",
       "14           8           0  \n",
       "15           8           0  \n",
       "16           8           0  \n",
       "17           8           0  \n",
       "18           8           0  \n",
       "19           8           0  \n",
       "20           8           0  \n",
       "21           8           0  \n",
       "22           8           0  \n",
       "23           8           0  \n",
       "24           8           0  \n",
       "25           8           0  \n",
       "26           8           0  \n",
       "27           8           0  \n",
       "28           8           0  \n",
       "29           8           0  \n",
       "30           8           0  \n",
       "31           8           0  \n",
       "32           8           0  \n",
       "33           8           0  \n",
       "34           8           0  \n",
       "35           8           0  \n",
       "36           8           0  \n",
       "37           8           0  \n",
       "38           8           0  \n",
       "39           8           0  \n",
       "40           8           0  \n",
       "41           8           0  \n",
       "42           8           0  \n",
       "43           8           0  \n",
       "44           8           0  \n",
       "45           8           0  \n",
       "46           8           0  \n",
       "47           8           0  \n",
       "48           8           0  \n",
       "49           8           0  \n",
       "50           8           0  \n",
       "51           8           0  \n",
       "52           8           0  \n",
       "53           8           0  \n",
       "54           8           0  "
      ]
     },
     "execution_count": 119,
     "metadata": {},
     "output_type": "execute_result"
    }
   ],
   "source": [
    "props = [{**dictRemoveKeys(relsDataIndex[id],[\"childs\", \"tags\"]), **relsDataIndex[id][\"tags\"], \"childs_num\":len(relsDataIndex[id][\"childs\"])} for id in relsDataIndex[\"62546\"][\"childs\"]]\n",
    "props = [{k:t.get(k, \"missing\") for k in getKeys} for t in props]\n",
    "plot(props)"
   ]
  },
  {
   "cell_type": "markdown",
   "metadata": {},
   "source": [
    "# derive data"
   ]
  },
  {
   "cell_type": "markdown",
   "metadata": {},
   "source": [
    "### [OLD] make data tree"
   ]
  },
  {
   "cell_type": "code",
   "execution_count": 12,
   "metadata": {},
   "outputs": [],
   "source": [
    "base = list(map(lambda x: load()(x), glob.glob(\"data/*/addsDataMinTree.json\")))"
   ]
  },
  {
   "cell_type": "code",
   "execution_count": null,
   "metadata": {},
   "outputs": [],
   "source": [
    "# addsDataTree = makeAddsTree([countryID], {k:dictFilterKeys(v, keysMin) for k, v in relTagsIndex.items()})\n",
    "# len(addsDataTree[countryID][\"childs\"])"
   ]
  },
  {
   "cell_type": "code",
   "execution_count": 76,
   "metadata": {},
   "outputs": [],
   "source": [
    "dump(os.path.join(\"data\", \"addsDataMinJoinedTree.json\"), addsDataMinJoinedTree)"
   ]
  },
  {
   "cell_type": "markdown",
   "metadata": {},
   "source": [
    "### [Dev]"
   ]
  },
  {
   "cell_type": "code",
   "execution_count": 11,
   "metadata": {},
   "outputs": [],
   "source": [
    "ids = ['2','3']\n",
    "index = {'2':['a','b'],3:['c'],'a':['d']}\n",
    "dataIndex = {'2':{'tags':{'name':'name-2'}},\n",
    "             '3':{'tags':{'name':'name-3'}},\n",
    "             'a':{'tags':{'name':'name-a'}},\n",
    "             'b':{'tags':{'name':'name-b'}},\n",
    "             'c':{'tags':{'name':'name-c'}},\n",
    "             'd':{'tags':{'name':'name-d'}}}"
   ]
  },
  {
   "cell_type": "code",
   "execution_count": null,
   "metadata": {},
   "outputs": [],
   "source": [
    "htmlTree = makeHTMLTree(['2'], index, dataIndex)\n",
    "print(htmlTree)"
   ]
  },
  {
   "cell_type": "markdown",
   "metadata": {},
   "source": [
    "### [OLD] make tree for each country"
   ]
  },
  {
   "cell_type": "code",
   "execution_count": 15,
   "metadata": {},
   "outputs": [],
   "source": [
    "htmlTree = makeHTMLTree([cntrId], childsIndex, relsDataIndex)\n",
    "# print(htmlTree)"
   ]
  },
  {
   "cell_type": "code",
   "execution_count": 16,
   "metadata": {},
   "outputs": [],
   "source": [
    "import re\n",
    "htmlTree = re.sub(r'^<ul>', '', htmlTree)\n",
    "htmlTree = re.sub(r'</ul>$', '', htmlTree)"
   ]
  },
  {
   "cell_type": "code",
   "execution_count": 109,
   "metadata": {},
   "outputs": [],
   "source": [
    "soup = BeautifulSoup(htmlTree, 'html.parser')\n",
    "pretty_html = soup.prettify()\n",
    "dump(treeOutputDir, pretty_html)"
   ]
  },
  {
   "cell_type": "code",
   "execution_count": 69,
   "metadata": {},
   "outputs": [],
   "source": [
    "importlib.reload(toolsGeneral.main)\n",
    "importlib.reload(toolsOSM.overpass)\n",
    "from toolsGeneral.main import (load, dump)\n",
    "from toolsOSM.overpass import (makeTree, makeHTMLTree)"
   ]
  },
  {
   "cell_type": "markdown",
   "metadata": {},
   "source": [
    "### make countries trees and join"
   ]
  },
  {
   "cell_type": "code",
   "execution_count": 127,
   "metadata": {},
   "outputs": [
    {
     "name": "stdout",
     "output_type": "stream",
     "text": [
      "['1428125', '167454', '2202162', '288247', '51477']\n"
     ]
    }
   ],
   "source": [
    "countrs = list(filter(lambda x: re.match(r'\\d+', x), os.listdir(\"./data\")))\n",
    "print(countrs)"
   ]
  },
  {
   "cell_type": "code",
   "execution_count": 133,
   "metadata": {},
   "outputs": [],
   "source": [
    "idChildsDataIndex = list(map(lambda x: [x,load(f\"./data/{x}/childsIndex.json\"), load(f\"./data/{x}/relsDataIndex.json\")], countrs))"
   ]
  },
  {
   "cell_type": "code",
   "execution_count": 134,
   "metadata": {},
   "outputs": [
    {
     "ename": "KeyError",
     "evalue": "'47826'",
     "output_type": "error",
     "traceback": [
      "\u001b[1;31m---------------------------------------------------------------------------\u001b[0m",
      "\u001b[1;31mKeyError\u001b[0m                                  Traceback (most recent call last)",
      "Cell \u001b[1;32mIn[134], line 1\u001b[0m\n\u001b[1;32m----> 1\u001b[0m countrsTrees \u001b[38;5;241m=\u001b[39m \u001b[38;5;28;43mlist\u001b[39;49m\u001b[43m(\u001b[49m\u001b[38;5;28;43mmap\u001b[39;49m\u001b[43m(\u001b[49m\u001b[38;5;28;43;01mlambda\u001b[39;49;00m\u001b[43m \u001b[49m\u001b[43mx\u001b[49m\u001b[43m:\u001b[49m\u001b[43m \u001b[49m\u001b[43mmakeHTMLTree\u001b[49m\u001b[43m(\u001b[49m\u001b[43m[\u001b[49m\u001b[43mx\u001b[49m\u001b[43m[\u001b[49m\u001b[38;5;241;43m0\u001b[39;49m\u001b[43m]\u001b[49m\u001b[43m]\u001b[49m\u001b[43m,\u001b[49m\u001b[43m \u001b[49m\u001b[43mx\u001b[49m\u001b[43m[\u001b[49m\u001b[38;5;241;43m1\u001b[39;49m\u001b[43m]\u001b[49m\u001b[43m,\u001b[49m\u001b[43m \u001b[49m\u001b[43mx\u001b[49m\u001b[43m[\u001b[49m\u001b[38;5;241;43m2\u001b[39;49m\u001b[43m]\u001b[49m\u001b[43m)\u001b[49m\u001b[43m,\u001b[49m\u001b[43m \u001b[49m\u001b[43midChildsDataIndex\u001b[49m\u001b[43m)\u001b[49m\u001b[43m)\u001b[49m\n",
      "Cell \u001b[1;32mIn[134], line 1\u001b[0m, in \u001b[0;36m<lambda>\u001b[1;34m(x)\u001b[0m\n\u001b[1;32m----> 1\u001b[0m countrsTrees \u001b[38;5;241m=\u001b[39m \u001b[38;5;28mlist\u001b[39m(\u001b[38;5;28mmap\u001b[39m(\u001b[38;5;28;01mlambda\u001b[39;00m x: \u001b[43mmakeHTMLTree\u001b[49m\u001b[43m(\u001b[49m\u001b[43m[\u001b[49m\u001b[43mx\u001b[49m\u001b[43m[\u001b[49m\u001b[38;5;241;43m0\u001b[39;49m\u001b[43m]\u001b[49m\u001b[43m]\u001b[49m\u001b[43m,\u001b[49m\u001b[43m \u001b[49m\u001b[43mx\u001b[49m\u001b[43m[\u001b[49m\u001b[38;5;241;43m1\u001b[39;49m\u001b[43m]\u001b[49m\u001b[43m,\u001b[49m\u001b[43m \u001b[49m\u001b[43mx\u001b[49m\u001b[43m[\u001b[49m\u001b[38;5;241;43m2\u001b[39;49m\u001b[43m]\u001b[49m\u001b[43m)\u001b[49m, idChildsDataIndex))\n",
      "File \u001b[1;32m~\\D\\code\\packages\\toolsOSM\\overpass.py:105\u001b[0m, in \u001b[0;36mmakeHTMLTree\u001b[1;34m(ids, childsIndex, relsDataIndex)\u001b[0m\n\u001b[0;32m    102\u001b[0m \u001b[38;5;28;01mif\u001b[39;00m ids \u001b[38;5;241m==\u001b[39m []:\n\u001b[0;32m    103\u001b[0m     \u001b[38;5;28;01mreturn\u001b[39;00m \u001b[38;5;124m\"\u001b[39m\u001b[38;5;124m\"\u001b[39m\n\u001b[1;32m--> 105\u001b[0m html \u001b[38;5;241m=\u001b[39m  \u001b[38;5;124;43m'\u001b[39;49m\u001b[38;5;124;43m'\u001b[39;49m\u001b[38;5;241;43m.\u001b[39;49m\u001b[43mjoin\u001b[49m\u001b[43m(\u001b[49m\u001b[38;5;124;43mf\u001b[39;49m\u001b[38;5;124;43m\"\"\"\u001b[39;49m\u001b[38;5;124;43m<ul><li id=\u001b[39;49m\u001b[38;5;124;43m\"\u001b[39;49m\u001b[38;5;124;43mosm-rel-\u001b[39;49m\u001b[38;5;132;43;01m{\u001b[39;49;00m\u001b[38;5;28;43mid\u001b[39;49m\u001b[38;5;132;43;01m}\u001b[39;49;00m\u001b[38;5;124;43m\"\u001b[39;49m\u001b[38;5;124;43m>\u001b[39;49m\u001b[38;5;132;43;01m{\u001b[39;49;00m\u001b[38;5;28;43mnext\u001b[39;49m\u001b[43m(\u001b[49m\u001b[43m(\u001b[49m\u001b[43mrelsDataIndex\u001b[49m\u001b[43m[\u001b[49m\u001b[38;5;28;43mid\u001b[39;49m\u001b[43m]\u001b[49m\u001b[43m[\u001b[49m\u001b[38;5;124;43m'\u001b[39;49m\u001b[38;5;124;43mtags\u001b[39;49m\u001b[38;5;124;43m'\u001b[39;49m\u001b[43m]\u001b[49m\u001b[43m[\u001b[49m\u001b[43mkey\u001b[49m\u001b[43m]\u001b[49m\u001b[38;5;250;43m \u001b[39;49m\u001b[38;5;28;43;01mfor\u001b[39;49;00m\u001b[38;5;250;43m \u001b[39;49m\u001b[43mkey\u001b[49m\u001b[38;5;250;43m \u001b[39;49m\u001b[38;5;129;43;01min\u001b[39;49;00m\u001b[38;5;250;43m \u001b[39;49m\u001b[43m[\u001b[49m\u001b[38;5;124;43m'\u001b[39;49m\u001b[38;5;124;43mname:en\u001b[39;49m\u001b[38;5;124;43m'\u001b[39;49m\u001b[43m,\u001b[49m\u001b[38;5;124;43m'\u001b[39;49m\u001b[38;5;124;43mname\u001b[39;49m\u001b[38;5;124;43m'\u001b[39;49m\u001b[43m]\u001b[49m\u001b[38;5;250;43m \u001b[39;49m\u001b[38;5;28;43;01mif\u001b[39;49;00m\u001b[38;5;250;43m \u001b[39;49m\u001b[43mkey\u001b[49m\u001b[38;5;250;43m \u001b[39;49m\u001b[38;5;129;43;01min\u001b[39;49;00m\u001b[38;5;250;43m \u001b[39;49m\u001b[43mrelsDataIndex\u001b[49m\u001b[43m[\u001b[49m\u001b[38;5;28;43mid\u001b[39;49m\u001b[43m]\u001b[49m\u001b[43m[\u001b[49m\u001b[38;5;124;43m'\u001b[39;49m\u001b[38;5;124;43mtags\u001b[39;49m\u001b[38;5;124;43m'\u001b[39;49m\u001b[43m]\u001b[49m\u001b[43m)\u001b[49m\u001b[43m)\u001b[49m\u001b[38;5;132;43;01m}\u001b[39;49;00m\u001b[38;5;132;43;01m{\u001b[39;49;00m\u001b[43mmakeHTMLTree\u001b[49m\u001b[43m(\u001b[49m\u001b[43mchildsIndex\u001b[49m\u001b[38;5;241;43m.\u001b[39;49m\u001b[43mget\u001b[49m\u001b[43m(\u001b[49m\u001b[38;5;28;43mid\u001b[39;49m\u001b[43m,\u001b[49m\u001b[38;5;250;43m \u001b[39;49m\u001b[43m[\u001b[49m\u001b[43m]\u001b[49m\u001b[43m)\u001b[49m\u001b[43m,\u001b[49m\u001b[38;5;250;43m \u001b[39;49m\u001b[43mchildsIndex\u001b[49m\u001b[43m,\u001b[49m\u001b[38;5;250;43m \u001b[39;49m\u001b[43mrelsDataIndex\u001b[49m\u001b[43m)\u001b[49m\u001b[38;5;132;43;01m}\u001b[39;49;00m\u001b[38;5;124;43m</li></ul>\u001b[39;49m\u001b[38;5;124;43m\"\"\"\u001b[39;49m\u001b[43m \u001b[49m\u001b[38;5;28;43;01mfor\u001b[39;49;00m\u001b[43m \u001b[49m\u001b[38;5;28;43mid\u001b[39;49m\u001b[43m \u001b[49m\u001b[38;5;129;43;01min\u001b[39;49;00m\u001b[43m \u001b[49m\u001b[43mids\u001b[49m\u001b[43m)\u001b[49m\n\u001b[0;32m    107\u001b[0m \u001b[38;5;28;01mreturn\u001b[39;00m html\n",
      "File \u001b[1;32m~\\D\\code\\packages\\toolsOSM\\overpass.py:105\u001b[0m, in \u001b[0;36m<genexpr>\u001b[1;34m(.0)\u001b[0m\n\u001b[0;32m    102\u001b[0m \u001b[38;5;28;01mif\u001b[39;00m ids \u001b[38;5;241m==\u001b[39m []:\n\u001b[0;32m    103\u001b[0m     \u001b[38;5;28;01mreturn\u001b[39;00m \u001b[38;5;124m\"\u001b[39m\u001b[38;5;124m\"\u001b[39m\n\u001b[1;32m--> 105\u001b[0m html \u001b[38;5;241m=\u001b[39m  \u001b[38;5;124m'\u001b[39m\u001b[38;5;124m'\u001b[39m\u001b[38;5;241m.\u001b[39mjoin(\u001b[38;5;124mf\u001b[39m\u001b[38;5;124m\"\"\"\u001b[39m\u001b[38;5;124m<ul><li id=\u001b[39m\u001b[38;5;124m\"\u001b[39m\u001b[38;5;124mosm-rel-\u001b[39m\u001b[38;5;132;01m{\u001b[39;00m\u001b[38;5;28mid\u001b[39m\u001b[38;5;132;01m}\u001b[39;00m\u001b[38;5;124m\"\u001b[39m\u001b[38;5;124m>\u001b[39m\u001b[38;5;132;01m{\u001b[39;00m\u001b[38;5;28mnext\u001b[39m((relsDataIndex[\u001b[38;5;28mid\u001b[39m][\u001b[38;5;124m'\u001b[39m\u001b[38;5;124mtags\u001b[39m\u001b[38;5;124m'\u001b[39m][key]\u001b[38;5;250m \u001b[39m\u001b[38;5;28;01mfor\u001b[39;00m\u001b[38;5;250m \u001b[39mkey\u001b[38;5;250m \u001b[39m\u001b[38;5;129;01min\u001b[39;00m\u001b[38;5;250m \u001b[39m[\u001b[38;5;124m'\u001b[39m\u001b[38;5;124mname:en\u001b[39m\u001b[38;5;124m'\u001b[39m,\u001b[38;5;124m'\u001b[39m\u001b[38;5;124mname\u001b[39m\u001b[38;5;124m'\u001b[39m]\u001b[38;5;250m \u001b[39m\u001b[38;5;28;01mif\u001b[39;00m\u001b[38;5;250m \u001b[39mkey\u001b[38;5;250m \u001b[39m\u001b[38;5;129;01min\u001b[39;00m\u001b[38;5;250m \u001b[39mrelsDataIndex[\u001b[38;5;28mid\u001b[39m][\u001b[38;5;124m'\u001b[39m\u001b[38;5;124mtags\u001b[39m\u001b[38;5;124m'\u001b[39m]))\u001b[38;5;132;01m}\u001b[39;00m\u001b[38;5;132;01m{\u001b[39;00m\u001b[43mmakeHTMLTree\u001b[49m\u001b[43m(\u001b[49m\u001b[43mchildsIndex\u001b[49m\u001b[38;5;241;43m.\u001b[39;49m\u001b[43mget\u001b[49m\u001b[43m(\u001b[49m\u001b[38;5;28;43mid\u001b[39;49m\u001b[43m,\u001b[49m\u001b[38;5;250;43m \u001b[39;49m\u001b[43m[\u001b[49m\u001b[43m]\u001b[49m\u001b[43m)\u001b[49m\u001b[43m,\u001b[49m\u001b[38;5;250;43m \u001b[39;49m\u001b[43mchildsIndex\u001b[49m\u001b[43m,\u001b[49m\u001b[38;5;250;43m \u001b[39;49m\u001b[43mrelsDataIndex\u001b[49m\u001b[43m)\u001b[49m\u001b[38;5;132;01m}\u001b[39;00m\u001b[38;5;124m</li></ul>\u001b[39m\u001b[38;5;124m\"\"\"\u001b[39m \u001b[38;5;28;01mfor\u001b[39;00m \u001b[38;5;28mid\u001b[39m \u001b[38;5;129;01min\u001b[39;00m ids)\n\u001b[0;32m    107\u001b[0m \u001b[38;5;28;01mreturn\u001b[39;00m html\n",
      "File \u001b[1;32m~\\D\\code\\packages\\toolsOSM\\overpass.py:105\u001b[0m, in \u001b[0;36mmakeHTMLTree\u001b[1;34m(ids, childsIndex, relsDataIndex)\u001b[0m\n\u001b[0;32m    102\u001b[0m \u001b[38;5;28;01mif\u001b[39;00m ids \u001b[38;5;241m==\u001b[39m []:\n\u001b[0;32m    103\u001b[0m     \u001b[38;5;28;01mreturn\u001b[39;00m \u001b[38;5;124m\"\u001b[39m\u001b[38;5;124m\"\u001b[39m\n\u001b[1;32m--> 105\u001b[0m html \u001b[38;5;241m=\u001b[39m  \u001b[38;5;124;43m'\u001b[39;49m\u001b[38;5;124;43m'\u001b[39;49m\u001b[38;5;241;43m.\u001b[39;49m\u001b[43mjoin\u001b[49m\u001b[43m(\u001b[49m\u001b[38;5;124;43mf\u001b[39;49m\u001b[38;5;124;43m\"\"\"\u001b[39;49m\u001b[38;5;124;43m<ul><li id=\u001b[39;49m\u001b[38;5;124;43m\"\u001b[39;49m\u001b[38;5;124;43mosm-rel-\u001b[39;49m\u001b[38;5;132;43;01m{\u001b[39;49;00m\u001b[38;5;28;43mid\u001b[39;49m\u001b[38;5;132;43;01m}\u001b[39;49;00m\u001b[38;5;124;43m\"\u001b[39;49m\u001b[38;5;124;43m>\u001b[39;49m\u001b[38;5;132;43;01m{\u001b[39;49;00m\u001b[38;5;28;43mnext\u001b[39;49m\u001b[43m(\u001b[49m\u001b[43m(\u001b[49m\u001b[43mrelsDataIndex\u001b[49m\u001b[43m[\u001b[49m\u001b[38;5;28;43mid\u001b[39;49m\u001b[43m]\u001b[49m\u001b[43m[\u001b[49m\u001b[38;5;124;43m'\u001b[39;49m\u001b[38;5;124;43mtags\u001b[39;49m\u001b[38;5;124;43m'\u001b[39;49m\u001b[43m]\u001b[49m\u001b[43m[\u001b[49m\u001b[43mkey\u001b[49m\u001b[43m]\u001b[49m\u001b[38;5;250;43m \u001b[39;49m\u001b[38;5;28;43;01mfor\u001b[39;49;00m\u001b[38;5;250;43m \u001b[39;49m\u001b[43mkey\u001b[49m\u001b[38;5;250;43m \u001b[39;49m\u001b[38;5;129;43;01min\u001b[39;49;00m\u001b[38;5;250;43m \u001b[39;49m\u001b[43m[\u001b[49m\u001b[38;5;124;43m'\u001b[39;49m\u001b[38;5;124;43mname:en\u001b[39;49m\u001b[38;5;124;43m'\u001b[39;49m\u001b[43m,\u001b[49m\u001b[38;5;124;43m'\u001b[39;49m\u001b[38;5;124;43mname\u001b[39;49m\u001b[38;5;124;43m'\u001b[39;49m\u001b[43m]\u001b[49m\u001b[38;5;250;43m \u001b[39;49m\u001b[38;5;28;43;01mif\u001b[39;49;00m\u001b[38;5;250;43m \u001b[39;49m\u001b[43mkey\u001b[49m\u001b[38;5;250;43m \u001b[39;49m\u001b[38;5;129;43;01min\u001b[39;49;00m\u001b[38;5;250;43m \u001b[39;49m\u001b[43mrelsDataIndex\u001b[49m\u001b[43m[\u001b[49m\u001b[38;5;28;43mid\u001b[39;49m\u001b[43m]\u001b[49m\u001b[43m[\u001b[49m\u001b[38;5;124;43m'\u001b[39;49m\u001b[38;5;124;43mtags\u001b[39;49m\u001b[38;5;124;43m'\u001b[39;49m\u001b[43m]\u001b[49m\u001b[43m)\u001b[49m\u001b[43m)\u001b[49m\u001b[38;5;132;43;01m}\u001b[39;49;00m\u001b[38;5;132;43;01m{\u001b[39;49;00m\u001b[43mmakeHTMLTree\u001b[49m\u001b[43m(\u001b[49m\u001b[43mchildsIndex\u001b[49m\u001b[38;5;241;43m.\u001b[39;49m\u001b[43mget\u001b[49m\u001b[43m(\u001b[49m\u001b[38;5;28;43mid\u001b[39;49m\u001b[43m,\u001b[49m\u001b[38;5;250;43m \u001b[39;49m\u001b[43m[\u001b[49m\u001b[43m]\u001b[49m\u001b[43m)\u001b[49m\u001b[43m,\u001b[49m\u001b[38;5;250;43m \u001b[39;49m\u001b[43mchildsIndex\u001b[49m\u001b[43m,\u001b[49m\u001b[38;5;250;43m \u001b[39;49m\u001b[43mrelsDataIndex\u001b[49m\u001b[43m)\u001b[49m\u001b[38;5;132;43;01m}\u001b[39;49;00m\u001b[38;5;124;43m</li></ul>\u001b[39;49m\u001b[38;5;124;43m\"\"\"\u001b[39;49m\u001b[43m \u001b[49m\u001b[38;5;28;43;01mfor\u001b[39;49;00m\u001b[43m \u001b[49m\u001b[38;5;28;43mid\u001b[39;49m\u001b[43m \u001b[49m\u001b[38;5;129;43;01min\u001b[39;49;00m\u001b[43m \u001b[49m\u001b[43mids\u001b[49m\u001b[43m)\u001b[49m\n\u001b[0;32m    107\u001b[0m \u001b[38;5;28;01mreturn\u001b[39;00m html\n",
      "File \u001b[1;32m~\\D\\code\\packages\\toolsOSM\\overpass.py:105\u001b[0m, in \u001b[0;36m<genexpr>\u001b[1;34m(.0)\u001b[0m\n\u001b[0;32m    102\u001b[0m \u001b[38;5;28;01mif\u001b[39;00m ids \u001b[38;5;241m==\u001b[39m []:\n\u001b[0;32m    103\u001b[0m     \u001b[38;5;28;01mreturn\u001b[39;00m \u001b[38;5;124m\"\u001b[39m\u001b[38;5;124m\"\u001b[39m\n\u001b[1;32m--> 105\u001b[0m html \u001b[38;5;241m=\u001b[39m  \u001b[38;5;124m'\u001b[39m\u001b[38;5;124m'\u001b[39m\u001b[38;5;241m.\u001b[39mjoin(\u001b[38;5;124mf\u001b[39m\u001b[38;5;124m\"\"\"\u001b[39m\u001b[38;5;124m<ul><li id=\u001b[39m\u001b[38;5;124m\"\u001b[39m\u001b[38;5;124mosm-rel-\u001b[39m\u001b[38;5;132;01m{\u001b[39;00m\u001b[38;5;28mid\u001b[39m\u001b[38;5;132;01m}\u001b[39;00m\u001b[38;5;124m\"\u001b[39m\u001b[38;5;124m>\u001b[39m\u001b[38;5;132;01m{\u001b[39;00m\u001b[38;5;28;43mnext\u001b[39;49m\u001b[43m(\u001b[49m\u001b[43m(\u001b[49m\u001b[43mrelsDataIndex\u001b[49m\u001b[43m[\u001b[49m\u001b[38;5;28;43mid\u001b[39;49m\u001b[43m]\u001b[49m\u001b[43m[\u001b[49m\u001b[38;5;124;43m'\u001b[39;49m\u001b[38;5;124;43mtags\u001b[39;49m\u001b[38;5;124;43m'\u001b[39;49m\u001b[43m]\u001b[49m\u001b[43m[\u001b[49m\u001b[43mkey\u001b[49m\u001b[43m]\u001b[49m\u001b[38;5;250;43m \u001b[39;49m\u001b[38;5;28;43;01mfor\u001b[39;49;00m\u001b[38;5;250;43m \u001b[39;49m\u001b[43mkey\u001b[49m\u001b[38;5;250;43m \u001b[39;49m\u001b[38;5;129;43;01min\u001b[39;49;00m\u001b[38;5;250;43m \u001b[39;49m\u001b[43m[\u001b[49m\u001b[38;5;124;43m'\u001b[39;49m\u001b[38;5;124;43mname:en\u001b[39;49m\u001b[38;5;124;43m'\u001b[39;49m\u001b[43m,\u001b[49m\u001b[38;5;124;43m'\u001b[39;49m\u001b[38;5;124;43mname\u001b[39;49m\u001b[38;5;124;43m'\u001b[39;49m\u001b[43m]\u001b[49m\u001b[38;5;250;43m \u001b[39;49m\u001b[38;5;28;43;01mif\u001b[39;49;00m\u001b[38;5;250;43m \u001b[39;49m\u001b[43mkey\u001b[49m\u001b[38;5;250;43m \u001b[39;49m\u001b[38;5;129;43;01min\u001b[39;49;00m\u001b[38;5;250;43m \u001b[39;49m\u001b[43mrelsDataIndex\u001b[49m\u001b[43m[\u001b[49m\u001b[38;5;28;43mid\u001b[39;49m\u001b[43m]\u001b[49m\u001b[43m[\u001b[49m\u001b[38;5;124;43m'\u001b[39;49m\u001b[38;5;124;43mtags\u001b[39;49m\u001b[38;5;124;43m'\u001b[39;49m\u001b[43m]\u001b[49m\u001b[43m)\u001b[49m\u001b[43m)\u001b[49m\u001b[38;5;132;01m}\u001b[39;00m\u001b[38;5;132;01m{\u001b[39;00mmakeHTMLTree(childsIndex\u001b[38;5;241m.\u001b[39mget(\u001b[38;5;28mid\u001b[39m,\u001b[38;5;250m \u001b[39m[]),\u001b[38;5;250m \u001b[39mchildsIndex,\u001b[38;5;250m \u001b[39mrelsDataIndex)\u001b[38;5;132;01m}\u001b[39;00m\u001b[38;5;124m</li></ul>\u001b[39m\u001b[38;5;124m\"\"\"\u001b[39m \u001b[38;5;28;01mfor\u001b[39;00m \u001b[38;5;28mid\u001b[39m \u001b[38;5;129;01min\u001b[39;00m ids)\n\u001b[0;32m    107\u001b[0m \u001b[38;5;28;01mreturn\u001b[39;00m html\n",
      "File \u001b[1;32m~\\D\\code\\packages\\toolsOSM\\overpass.py:105\u001b[0m, in \u001b[0;36m<genexpr>\u001b[1;34m(.0)\u001b[0m\n\u001b[0;32m    102\u001b[0m \u001b[38;5;28;01mif\u001b[39;00m ids \u001b[38;5;241m==\u001b[39m []:\n\u001b[0;32m    103\u001b[0m     \u001b[38;5;28;01mreturn\u001b[39;00m \u001b[38;5;124m\"\u001b[39m\u001b[38;5;124m\"\u001b[39m\n\u001b[1;32m--> 105\u001b[0m html \u001b[38;5;241m=\u001b[39m  \u001b[38;5;124m'\u001b[39m\u001b[38;5;124m'\u001b[39m\u001b[38;5;241m.\u001b[39mjoin(\u001b[38;5;124mf\u001b[39m\u001b[38;5;124m\"\"\"\u001b[39m\u001b[38;5;124m<ul><li id=\u001b[39m\u001b[38;5;124m\"\u001b[39m\u001b[38;5;124mosm-rel-\u001b[39m\u001b[38;5;132;01m{\u001b[39;00m\u001b[38;5;28mid\u001b[39m\u001b[38;5;132;01m}\u001b[39;00m\u001b[38;5;124m\"\u001b[39m\u001b[38;5;124m>\u001b[39m\u001b[38;5;132;01m{\u001b[39;00m\u001b[38;5;28mnext\u001b[39m((relsDataIndex[\u001b[38;5;28mid\u001b[39m][\u001b[38;5;124m'\u001b[39m\u001b[38;5;124mtags\u001b[39m\u001b[38;5;124m'\u001b[39m][key]\u001b[38;5;250m \u001b[39m\u001b[38;5;28;01mfor\u001b[39;00m\u001b[38;5;250m \u001b[39mkey\u001b[38;5;250m \u001b[39m\u001b[38;5;129;01min\u001b[39;00m\u001b[38;5;250m \u001b[39m[\u001b[38;5;124m'\u001b[39m\u001b[38;5;124mname:en\u001b[39m\u001b[38;5;124m'\u001b[39m,\u001b[38;5;124m'\u001b[39m\u001b[38;5;124mname\u001b[39m\u001b[38;5;124m'\u001b[39m]\u001b[38;5;250m \u001b[39m\u001b[38;5;28;01mif\u001b[39;00m\u001b[38;5;250m \u001b[39mkey\u001b[38;5;250m \u001b[39m\u001b[38;5;129;01min\u001b[39;00m\u001b[38;5;250m \u001b[39m\u001b[43mrelsDataIndex\u001b[49m\u001b[43m[\u001b[49m\u001b[38;5;28;43mid\u001b[39;49m\u001b[43m]\u001b[49m[\u001b[38;5;124m'\u001b[39m\u001b[38;5;124mtags\u001b[39m\u001b[38;5;124m'\u001b[39m]))\u001b[38;5;132;01m}\u001b[39;00m\u001b[38;5;132;01m{\u001b[39;00mmakeHTMLTree(childsIndex\u001b[38;5;241m.\u001b[39mget(\u001b[38;5;28mid\u001b[39m,\u001b[38;5;250m \u001b[39m[]),\u001b[38;5;250m \u001b[39mchildsIndex,\u001b[38;5;250m \u001b[39mrelsDataIndex)\u001b[38;5;132;01m}\u001b[39;00m\u001b[38;5;124m</li></ul>\u001b[39m\u001b[38;5;124m\"\"\"\u001b[39m \u001b[38;5;28;01mfor\u001b[39;00m \u001b[38;5;28mid\u001b[39m \u001b[38;5;129;01min\u001b[39;00m ids)\n\u001b[0;32m    107\u001b[0m \u001b[38;5;28;01mreturn\u001b[39;00m html\n",
      "\u001b[1;31mKeyError\u001b[0m: '47826'"
     ]
    }
   ],
   "source": [
    "countrsTrees = list(map(lambda x: makeHTMLTree([x[0]], x[1], x[2]), idChildsDataIndex))"
   ]
  },
  {
   "cell_type": "code",
   "execution_count": 14,
   "metadata": {},
   "outputs": [
    {
     "name": "stdout",
     "output_type": "stream",
     "text": [
      "b\n"
     ]
    }
   ],
   "source": [
    "dir = {'1':'a', '2': 'b'}\n",
    "value = next((dir[key] for key in ['3','2'] if key in dir), None)\n",
    "print(value)"
   ]
  },
  {
   "cell_type": "code",
   "execution_count": 104,
   "metadata": {},
   "outputs": [
    {
     "data": {
      "text/plain": [
       "'b'"
      ]
     },
     "execution_count": 104,
     "metadata": {},
     "output_type": "execute_result"
    }
   ],
   "source": [
    "next((dir[key] for key in ['4','2'] if key in dir))"
   ]
  },
  {
   "cell_type": "code",
   "execution_count": 8,
   "metadata": {},
   "outputs": [],
   "source": [
    "def formattify(tree):\n",
    "    formatted = re.sub(r'^<ul>', '', tree)\n",
    "    formatted = re.sub(r'</ul>$', '', formatted)\n",
    "    soup = BeautifulSoup(formatted, 'html.parser')\n",
    "    formatted = soup.prettify()\n",
    "    return formatted\n",
    "\n",
    "formattedTree = \"<div id=\\\"addSelectionTree\\\"><ul>\" + ''.join(list(map(formattify, countrsTrees))) + \"</ul></div>\""
   ]
  },
  {
   "cell_type": "markdown",
   "metadata": {},
   "source": [
    "### insert tree into html page"
   ]
  },
  {
   "cell_type": "code",
   "execution_count": 9,
   "metadata": {},
   "outputs": [],
   "source": [
    "soup = BeautifulSoup(load(r\"c:\\Users\\gonta\\D\\study sync\\full stack\\projects\\administrative divisions query\\data\\indexBase.html\"), \"html.parser\")"
   ]
  },
  {
   "cell_type": "code",
   "execution_count": 10,
   "metadata": {},
   "outputs": [
    {
     "data": {
      "text/plain": [
       "<div id=\"addSelectionTree\">\n",
       "<!-- insert html tree here -->\n",
       "</div>"
      ]
     },
     "execution_count": 10,
     "metadata": {},
     "output_type": "execute_result"
    }
   ],
   "source": [
    "forReplace = BeautifulSoup(formattedTree, 'html.parser')\n",
    "toReplace  = soup.find(id=\"addSelectionTree\")\n",
    "toReplace.replace_with(forReplace)"
   ]
  },
  {
   "cell_type": "code",
   "execution_count": 11,
   "metadata": {},
   "outputs": [],
   "source": [
    "dump('./data/index.html', str(soup))"
   ]
  }
 ],
 "metadata": {
  "kernelspec": {
   "display_name": "myenv",
   "language": "python",
   "name": "python3"
  },
  "language_info": {
   "codemirror_mode": {
    "name": "ipython",
    "version": 3
   },
   "file_extension": ".py",
   "mimetype": "text/x-python",
   "name": "python",
   "nbconvert_exporter": "python",
   "pygments_lexer": "ipython3",
   "version": "3.13.0"
  }
 },
 "nbformat": 4,
 "nbformat_minor": 2
}
