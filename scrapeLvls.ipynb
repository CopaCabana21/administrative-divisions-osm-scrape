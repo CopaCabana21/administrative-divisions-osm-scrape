{
 "cells": [
  {
   "cell_type": "markdown",
   "metadata": {},
   "source": [
    "## Init"
   ]
  },
  {
   "cell_type": "code",
   "execution_count": 2,
   "metadata": {},
   "outputs": [],
   "source": [
    "# from urllib.parse import quote\n",
    "import pandas as pd\n",
    "import os\n",
    "import sys\n",
    "import importlib\n",
    "import glob\n",
    "import json\n",
    "\n",
    "# my packages\n",
    "from dData.dData import dData\n",
    "\n",
    "# utilities\n",
    "plot = pd.DataFrame\n",
    "from itertools import combinations\n",
    "\n",
    "from bs4 import BeautifulSoup\n",
    "\n",
    "# import all module in order to use reload later on the paclet\n",
    "import importlib\n",
    "import toolsGeneral.main\n",
    "import toolsOSM.overpass\n",
    "import tools.filters\n",
    "\n",
    "# use this line to ensure intellisense recognizes new symbols\n",
    "from toolsGeneral.main import *\n",
    "from toolsOSM.overpass import *\n",
    "from tools.filters import *\n",
    "\n",
    "def reloadPckg():\n",
    "    importlib.reload(toolsGeneral.main)\n",
    "    importlib.reload(tools.filters)\n",
    "    globals().update({\n",
    "        name: getattr(toolsGeneral.main, name) \n",
    "        for name \n",
    "        in dir(toolsGeneral.main) \n",
    "        if not name.startswith('_')\n",
    "    })\n",
    "    # global dump\n",
    "    # dump = toolsGeneral.main.dump\n",
    "\n"
   ]
  },
  {
   "cell_type": "code",
   "execution_count": 3,
   "metadata": {},
   "outputs": [],
   "source": [
    "osmCountriesMeta = load(r\"C:\\Users\\gonta\\D\\code\\development\\OSM\\get countries ids and add labels\\data\\osmCountriesAddMetaInfo.json\")\n",
    "osmCountriesIdsDict = load(r\"c:\\Users\\gonta\\D\\code\\development\\OSM\\get countries ids and add labels\\data\\osmCountriesIdsDict.json\")"
   ]
  },
  {
   "cell_type": "code",
   "execution_count": 4,
   "metadata": {},
   "outputs": [
    {
     "data": {
      "text/plain": [
       "'1428125'"
      ]
     },
     "execution_count": 4,
     "metadata": {},
     "output_type": "execute_result"
    }
   ],
   "source": [
    "cntrName = \"Canada\"\n",
    "cntrRaw = f\"./data/{osmCountriesIdsDict[cntrName]}/rawOSMRes.json\"\n",
    "cntrDataDir = f\"./data/{osmCountriesIdsDict[cntrName]}/\"\n",
    "cntrId = osmCountriesIdsDict[cntrName]\n",
    "cntrId"
   ]
  },
  {
   "cell_type": "markdown",
   "metadata": {},
   "source": [
    "# collect"
   ]
  },
  {
   "cell_type": "markdown",
   "metadata": {},
   "source": [
    "## make overpass query and dump"
   ]
  },
  {
   "cell_type": "code",
   "execution_count": 5,
   "metadata": {},
   "outputs": [
    {
     "data": {
      "text/plain": [
       "['version', 'generator', 'osm3s', 'elements']"
      ]
     },
     "execution_count": 5,
     "metadata": {},
     "output_type": "execute_result"
    }
   ],
   "source": [
    "rawOSMRes = getOSMAddsTRecursedown(cntrId, [4,6,8])\n",
    "list(rawOSMRes.keys())"
   ]
  },
  {
   "cell_type": "code",
   "execution_count": 6,
   "metadata": {},
   "outputs": [],
   "source": [
    "dump(cntrRaw, rawOSMRes)"
   ]
  },
  {
   "cell_type": "markdown",
   "metadata": {},
   "source": [
    "# sanitize"
   ]
  },
  {
   "cell_type": "code",
   "execution_count": 52,
   "metadata": {},
   "outputs": [
    {
     "name": "stdout",
     "output_type": "stream",
     "text": [
      "['version', 'generator', 'osm3s', 'elements']\n"
     ]
    }
   ],
   "source": [
    "rawOSMRes = load(cntrRaw)\n",
    "print(list(rawOSMRes.keys()))"
   ]
  },
  {
   "cell_type": "code",
   "execution_count": 72,
   "metadata": {},
   "outputs": [
    {
     "name": "stdout",
     "output_type": "stream",
     "text": [
      "missing name:  0\n",
      "duplicate elements:  6\n"
     ]
    },
    {
     "data": {
      "text/plain": [
       "[[], [9271165, 9117919, 9107934, 11722184, 9334290, 17542341]]"
      ]
     },
     "execution_count": 72,
     "metadata": {},
     "output_type": "execute_result"
    }
   ],
   "source": [
    "testSanitize(rawOSMRes)"
   ]
  },
  {
   "cell_type": "code",
   "execution_count": 65,
   "metadata": {},
   "outputs": [
    {
     "name": "stdout",
     "output_type": "stream",
     "text": [
      "1512\n"
     ]
    },
    {
     "data": {
      "text/plain": [
       "1506"
      ]
     },
     "execution_count": 65,
     "metadata": {},
     "output_type": "execute_result"
    }
   ],
   "source": [
    "import copy\n",
    "rawOSMResTSane = copy.deepcopy(rawOSMRes)\n",
    "print(len(rawOSMResTSane['elements']))\n",
    "rawOSMResTSane['elements'] = [ele for ele in rawOSMRes['elements'] if not (ele['tags'].get('parent_id', '') == '1354835' and ele['id'] == 9271165)]\n",
    "rawOSMResTSane['elements'] = [ele for ele in rawOSMResTSane['elements'] if not (ele['tags'].get('parent_id', '') == '9344588' and ele['id'] == 9117919)]\n",
    "rawOSMResTSane['elements'] = [ele for ele in rawOSMResTSane['elements'] if not (ele['tags'].get('parent_id', '') == '11681120' and ele['id'] == 9107934)]\n",
    "rawOSMResTSane['elements'] = [ele for ele in rawOSMResTSane['elements'] if not (ele['tags'].get('parent_id', '') == '9123338' and ele['id'] == 11722184)]\n",
    "rawOSMResTSane['elements'] = [ele for ele in rawOSMResTSane['elements'] if not (ele['tags'].get('parent_id', '') == '9082149' and ele['id'] == 9334290)]\n",
    "rawOSMResTSane['elements'] = [ele for ele in rawOSMResTSane['elements'] if not (ele['tags'].get('parent_id', '') == '12375630' and ele['id'] == 17542341)]\n",
    "len(rawOSMResTSane['elements'])"
   ]
  },
  {
   "cell_type": "code",
   "execution_count": 73,
   "metadata": {},
   "outputs": [
    {
     "name": "stdout",
     "output_type": "stream",
     "text": [
      "missing name:  0\n",
      "duplicate elements:  0\n"
     ]
    },
    {
     "data": {
      "text/plain": [
       "[[], []]"
      ]
     },
     "execution_count": 73,
     "metadata": {},
     "output_type": "execute_result"
    }
   ],
   "source": [
    "testSanitize(rawOSMResTSane)"
   ]
  },
  {
   "cell_type": "markdown",
   "metadata": {},
   "source": [
    "# normalize"
   ]
  },
  {
   "cell_type": "markdown",
   "metadata": {},
   "source": [
    "#### make relsDataIndex"
   ]
  },
  {
   "cell_type": "code",
   "execution_count": 74,
   "metadata": {},
   "outputs": [
    {
     "data": {
      "text/plain": [
       "1506"
      ]
     },
     "execution_count": 74,
     "metadata": {},
     "output_type": "execute_result"
    }
   ],
   "source": [
    "relsDataIndex = {str(x[\"id\"]):x for x in rawOSMResTSane[\"elements\"]}\n",
    "# add parent_id to keys on first level\n",
    "for id, value in relsDataIndex.items():\n",
    "    if value[\"tags\"][\"admin_level\"] == '2':\n",
    "        value[\"parent_id\"] = \"#\"\n",
    "    elif value[\"tags\"][\"admin_level\"] == osmCountriesMeta[cntrName][\"addLvlsNum\"][0]:\n",
    "        value[\"parent_id\"] = cntrId\n",
    "    elif value[\"tags\"][\"admin_level\"] in osmCountriesMeta[cntrName][\"addLvlsNum\"][1:]:\n",
    "        value[\"parent_id\"] = value[\"tags\"][\"parent_id\"]      \n",
    "        # del value[\"parent_id\"]\n",
    "\n",
    "    value[\"id\"] = str(id)\n",
    "    # del value[\"id\"]\n",
    "    relsDataIndex[id] = sortDictKeys(value, [\"type\", \"id\", \"parent_id\", \"tags\"])\n",
    "\n",
    "len(list(relsDataIndex.keys()))"
   ]
  },
  {
   "cell_type": "markdown",
   "metadata": {},
   "source": [
    "#### make childsIndex"
   ]
  },
  {
   "cell_type": "code",
   "execution_count": 75,
   "metadata": {},
   "outputs": [
    {
     "data": {
      "text/plain": [
       "64"
      ]
     },
     "execution_count": 75,
     "metadata": {},
     "output_type": "execute_result"
    }
   ],
   "source": [
    "idPairs = {key:value[\"parent_id\"] for key, value in relsDataIndex.items() if value[\"parent_id\"] != \"#\"} \n",
    "# creates an empty dictionary\n",
    "childsIndex = {}\n",
    "for k, v in idPairs.items():\n",
    "    # if key doesn't exist then make list else append to list\n",
    "    childsIndex.setdefault(v, list()).append(str(k))\n",
    "    \n",
    "len(childsIndex)"
   ]
  },
  {
   "cell_type": "code",
   "execution_count": 76,
   "metadata": {},
   "outputs": [],
   "source": [
    "dump(os.path.join(cntrDataDir, \"childsIndex.json\"), childsIndex)"
   ]
  },
  {
   "cell_type": "code",
   "execution_count": 77,
   "metadata": {},
   "outputs": [],
   "source": [
    "# Add childs to rels data index\n",
    "for id, value in relsDataIndex.items():\n",
    "    relsDataIndex[id] = sortDictKeys({\"childs\":childsIndex.get(id, []),**relsDataIndex[id]}, [\"type\", \"id\", \"parent_id\", \"childs\",\"tags\"])"
   ]
  },
  {
   "cell_type": "code",
   "execution_count": 78,
   "metadata": {},
   "outputs": [],
   "source": [
    "dump(os.path.join(cntrDataDir, \"relsDataIndex.json\"), relsDataIndex)"
   ]
  },
  {
   "cell_type": "markdown",
   "metadata": {},
   "source": [
    "#### [OLD] make data tree and min tree "
   ]
  },
  {
   "cell_type": "code",
   "execution_count": 26,
   "metadata": {},
   "outputs": [],
   "source": [
    "# make tags properties to use in selection\n",
    "relTagsIndex = { k : v[\"tags\"] for k, v in relsDataIndex.items()}"
   ]
  },
  {
   "cell_type": "code",
   "execution_count": null,
   "metadata": {},
   "outputs": [],
   "source": [
    "indexKeys = list(childsIndex.keys())\n",
    "\n",
    "def makeAddsTree(idList, dataIndex):\n",
    "    return {id: {**dataIndex[id], \"childs\":(makeAddsTree(relsDataIndex[id][\"childs\"], dataIndex) if id in indexKeys else {})} for id in idList }"
   ]
  },
  {
   "cell_type": "code",
   "execution_count": 29,
   "metadata": {},
   "outputs": [
    {
     "data": {
      "text/plain": [
       "17"
      ]
     },
     "execution_count": 29,
     "metadata": {},
     "output_type": "execute_result"
    }
   ],
   "source": [
    "keysMin = [\"name\"]\n",
    "keys = [\"id\", \"name\", \"official_name\", \"parent_id\", \"ISO3166-2\", \"admin_level\"]\n",
    "addsDataTree = makeAddsTree([countryID], {k:dictFilterKeys(v, keysMin) for k, v in relTagsIndex.items()})\n",
    "len(addsDataTree[countryID][\"childs\"])"
   ]
  },
  {
   "cell_type": "code",
   "execution_count": 30,
   "metadata": {},
   "outputs": [],
   "source": [
    "dump(os.path.join(outDir, \"addsDataTree.json\"), addsDataTree)"
   ]
  },
  {
   "cell_type": "markdown",
   "metadata": {},
   "source": [
    "# validate"
   ]
  },
  {
   "cell_type": "code",
   "execution_count": 79,
   "metadata": {},
   "outputs": [
    {
     "name": "stdout",
     "output_type": "stream",
     "text": [
      "1506\n",
      "64\n"
     ]
    }
   ],
   "source": [
    "relsDataIndex = load(os.path.join(cntrDataDir, \"relsDataIndex.json\"))\n",
    "print(len(relsDataIndex))\n",
    "childsIndex = load(os.path.join(cntrDataDir, \"childsIndex.json\"))\n",
    "print(len(childsIndex))"
   ]
  },
  {
   "cell_type": "code",
   "execution_count": 80,
   "metadata": {},
   "outputs": [
    {
     "name": "stdout",
     "output_type": "stream",
     "text": [
      "1506\n",
      "Entities that not belong to the country:  0\n",
      "Intersection between childs?:  0\n"
     ]
    }
   ],
   "source": [
    "print(len(relsDataIndex))\n",
    "# 1. Check leak of divisions from other countries\n",
    "test('leaksFromOtherCountries')(relsDataIndex, cntrId)\n",
    "# 2. Intersection between childs\n",
    "print('Intersection between childs?: ', len(findIntersection(list(childsIndex.values()))))"
   ]
  },
  {
   "cell_type": "markdown",
   "metadata": {},
   "source": [
    "## review"
   ]
  },
  {
   "cell_type": "code",
   "execution_count": 81,
   "metadata": {},
   "outputs": [
    {
     "name": "stdout",
     "output_type": "stream",
     "text": [
      "1506\n",
      "64\n"
     ]
    }
   ],
   "source": [
    "relsDataIndex = load(os.path.join(cntrDataDir, \"relsDataIndex.json\"))\n",
    "print(len(relsDataIndex))\n",
    "childsIndex = load(os.path.join(cntrDataDir, \"childsIndex.json\"))\n",
    "print(len(childsIndex))"
   ]
  },
  {
   "cell_type": "code",
   "execution_count": 82,
   "metadata": {},
   "outputs": [
    {
     "name": "stdout",
     "output_type": "stream",
     "text": [
      "13\n",
      "101\n",
      "1391\n"
     ]
    }
   ],
   "source": [
    "lvl1 = [v[\"id\"] for v in relsDataIndex.values() if v[\"tags\"][\"admin_level\"] == '4']\n",
    "print(len(lvl1))\n",
    "lvl2 = [v[\"id\"] for v in relsDataIndex.values() if v[\"tags\"][\"admin_level\"] == '6']\n",
    "print(len(lvl2))\n",
    "lvl3 = [v[\"id\"] for v in relsDataIndex.values() if v[\"tags\"][\"admin_level\"] == '8']\n",
    "print(len(lvl3))"
   ]
  },
  {
   "cell_type": "code",
   "execution_count": 83,
   "metadata": {},
   "outputs": [],
   "source": [
    "getKeys = [\"id\", \"name\", \"official_name\", \"parent_id\", \"ISO3166-2\", \"admin_level\",\"childs_num\"]"
   ]
  },
  {
   "cell_type": "markdown",
   "metadata": {},
   "source": [
    "### lvl 1"
   ]
  },
  {
   "cell_type": "code",
   "execution_count": 84,
   "metadata": {},
   "outputs": [
    {
     "data": {
      "text/html": [
       "<div>\n",
       "<style scoped>\n",
       "    .dataframe tbody tr th:only-of-type {\n",
       "        vertical-align: middle;\n",
       "    }\n",
       "\n",
       "    .dataframe tbody tr th {\n",
       "        vertical-align: top;\n",
       "    }\n",
       "\n",
       "    .dataframe thead th {\n",
       "        text-align: right;\n",
       "    }\n",
       "</style>\n",
       "<table border=\"1\" class=\"dataframe\">\n",
       "  <thead>\n",
       "    <tr style=\"text-align: right;\">\n",
       "      <th></th>\n",
       "      <th>id</th>\n",
       "      <th>name</th>\n",
       "      <th>official_name</th>\n",
       "      <th>parent_id</th>\n",
       "      <th>ISO3166-2</th>\n",
       "      <th>admin_level</th>\n",
       "      <th>childs_num</th>\n",
       "    </tr>\n",
       "  </thead>\n",
       "  <tbody>\n",
       "    <tr>\n",
       "      <th>0</th>\n",
       "      <td>61549</td>\n",
       "      <td>Québec</td>\n",
       "      <td>missing</td>\n",
       "      <td>1428125</td>\n",
       "      <td>CA-QC</td>\n",
       "      <td>4</td>\n",
       "      <td>0</td>\n",
       "    </tr>\n",
       "    <tr>\n",
       "      <th>1</th>\n",
       "      <td>68841</td>\n",
       "      <td>Ontario</td>\n",
       "      <td>missing</td>\n",
       "      <td>1428125</td>\n",
       "      <td>CA-ON</td>\n",
       "      <td>4</td>\n",
       "      <td>0</td>\n",
       "    </tr>\n",
       "    <tr>\n",
       "      <th>2</th>\n",
       "      <td>68942</td>\n",
       "      <td>New Brunswick / Nouveau-Brunswick</td>\n",
       "      <td>New Brunswick / Nouveau-Brunswick</td>\n",
       "      <td>1428125</td>\n",
       "      <td>CA-NB</td>\n",
       "      <td>4</td>\n",
       "      <td>0</td>\n",
       "    </tr>\n",
       "    <tr>\n",
       "      <th>3</th>\n",
       "      <td>390558</td>\n",
       "      <td>Nova Scotia</td>\n",
       "      <td>missing</td>\n",
       "      <td>1428125</td>\n",
       "      <td>CA-NS</td>\n",
       "      <td>4</td>\n",
       "      <td>74</td>\n",
       "    </tr>\n",
       "    <tr>\n",
       "      <th>4</th>\n",
       "      <td>390840</td>\n",
       "      <td>ᓄᓇᕗᑦ Nunavut</td>\n",
       "      <td>missing</td>\n",
       "      <td>1428125</td>\n",
       "      <td>CA-NU</td>\n",
       "      <td>4</td>\n",
       "      <td>0</td>\n",
       "    </tr>\n",
       "    <tr>\n",
       "      <th>5</th>\n",
       "      <td>390841</td>\n",
       "      <td>Manitoba</td>\n",
       "      <td>missing</td>\n",
       "      <td>1428125</td>\n",
       "      <td>CA-MB</td>\n",
       "      <td>4</td>\n",
       "      <td>0</td>\n",
       "    </tr>\n",
       "    <tr>\n",
       "      <th>6</th>\n",
       "      <td>390867</td>\n",
       "      <td>British Columbia</td>\n",
       "      <td>missing</td>\n",
       "      <td>1428125</td>\n",
       "      <td>CA-BC</td>\n",
       "      <td>4</td>\n",
       "      <td>0</td>\n",
       "    </tr>\n",
       "    <tr>\n",
       "      <th>7</th>\n",
       "      <td>391115</td>\n",
       "      <td>Prince Edward Island</td>\n",
       "      <td>missing</td>\n",
       "      <td>1428125</td>\n",
       "      <td>CA-PE</td>\n",
       "      <td>4</td>\n",
       "      <td>27</td>\n",
       "    </tr>\n",
       "    <tr>\n",
       "      <th>8</th>\n",
       "      <td>391178</td>\n",
       "      <td>Saskatchewan</td>\n",
       "      <td>missing</td>\n",
       "      <td>1428125</td>\n",
       "      <td>CA-SK</td>\n",
       "      <td>4</td>\n",
       "      <td>0</td>\n",
       "    </tr>\n",
       "    <tr>\n",
       "      <th>9</th>\n",
       "      <td>391186</td>\n",
       "      <td>Alberta</td>\n",
       "      <td>missing</td>\n",
       "      <td>1428125</td>\n",
       "      <td>CA-AB</td>\n",
       "      <td>4</td>\n",
       "      <td>0</td>\n",
       "    </tr>\n",
       "    <tr>\n",
       "      <th>10</th>\n",
       "      <td>391196</td>\n",
       "      <td>Newfoundland and Labrador</td>\n",
       "      <td>missing</td>\n",
       "      <td>1428125</td>\n",
       "      <td>CA-NL</td>\n",
       "      <td>4</td>\n",
       "      <td>0</td>\n",
       "    </tr>\n",
       "    <tr>\n",
       "      <th>11</th>\n",
       "      <td>391220</td>\n",
       "      <td>Northwest Territories</td>\n",
       "      <td>missing</td>\n",
       "      <td>1428125</td>\n",
       "      <td>CA-NT</td>\n",
       "      <td>4</td>\n",
       "      <td>0</td>\n",
       "    </tr>\n",
       "    <tr>\n",
       "      <th>12</th>\n",
       "      <td>391455</td>\n",
       "      <td>Yukon</td>\n",
       "      <td>missing</td>\n",
       "      <td>1428125</td>\n",
       "      <td>CA-YT</td>\n",
       "      <td>4</td>\n",
       "      <td>0</td>\n",
       "    </tr>\n",
       "  </tbody>\n",
       "</table>\n",
       "</div>"
      ],
      "text/plain": [
       "        id                               name  \\\n",
       "0    61549                             Québec   \n",
       "1    68841                            Ontario   \n",
       "2    68942  New Brunswick / Nouveau-Brunswick   \n",
       "3   390558                        Nova Scotia   \n",
       "4   390840                       ᓄᓇᕗᑦ Nunavut   \n",
       "5   390841                           Manitoba   \n",
       "6   390867                   British Columbia   \n",
       "7   391115               Prince Edward Island   \n",
       "8   391178                       Saskatchewan   \n",
       "9   391186                            Alberta   \n",
       "10  391196          Newfoundland and Labrador   \n",
       "11  391220              Northwest Territories   \n",
       "12  391455                              Yukon   \n",
       "\n",
       "                        official_name parent_id ISO3166-2 admin_level  \\\n",
       "0                             missing   1428125     CA-QC           4   \n",
       "1                             missing   1428125     CA-ON           4   \n",
       "2   New Brunswick / Nouveau-Brunswick   1428125     CA-NB           4   \n",
       "3                             missing   1428125     CA-NS           4   \n",
       "4                             missing   1428125     CA-NU           4   \n",
       "5                             missing   1428125     CA-MB           4   \n",
       "6                             missing   1428125     CA-BC           4   \n",
       "7                             missing   1428125     CA-PE           4   \n",
       "8                             missing   1428125     CA-SK           4   \n",
       "9                             missing   1428125     CA-AB           4   \n",
       "10                            missing   1428125     CA-NL           4   \n",
       "11                            missing   1428125     CA-NT           4   \n",
       "12                            missing   1428125     CA-YT           4   \n",
       "\n",
       "    childs_num  \n",
       "0            0  \n",
       "1            0  \n",
       "2            0  \n",
       "3           74  \n",
       "4            0  \n",
       "5            0  \n",
       "6            0  \n",
       "7           27  \n",
       "8            0  \n",
       "9            0  \n",
       "10           0  \n",
       "11           0  \n",
       "12           0  "
      ]
     },
     "execution_count": 84,
     "metadata": {},
     "output_type": "execute_result"
    }
   ],
   "source": [
    "props = [{**dictRemoveKeys(relsDataIndex[id],[\"childs\", \"tags\"]), **relsDataIndex[id][\"tags\"], \"childs_num\":len(relsDataIndex[id][\"childs\"])} for id in lvl1]\n",
    "props = [{k:t.get(k, \"missing\") for k in getKeys} for t in props]\n",
    "plot(props)"
   ]
  },
  {
   "cell_type": "markdown",
   "metadata": {},
   "source": [
    "### lvl 2"
   ]
  },
  {
   "cell_type": "code",
   "execution_count": 87,
   "metadata": {},
   "outputs": [
    {
     "data": {
      "text/html": [
       "<div>\n",
       "<style scoped>\n",
       "    .dataframe tbody tr th:only-of-type {\n",
       "        vertical-align: middle;\n",
       "    }\n",
       "\n",
       "    .dataframe tbody tr th {\n",
       "        vertical-align: top;\n",
       "    }\n",
       "\n",
       "    .dataframe thead th {\n",
       "        text-align: right;\n",
       "    }\n",
       "</style>\n",
       "<table border=\"1\" class=\"dataframe\">\n",
       "  <thead>\n",
       "    <tr style=\"text-align: right;\">\n",
       "      <th></th>\n",
       "      <th>id</th>\n",
       "      <th>name</th>\n",
       "      <th>official_name</th>\n",
       "      <th>parent_id</th>\n",
       "      <th>ISO3166-2</th>\n",
       "      <th>admin_level</th>\n",
       "      <th>childs_num</th>\n",
       "    </tr>\n",
       "  </thead>\n",
       "  <tbody>\n",
       "    <tr>\n",
       "      <th>0</th>\n",
       "      <td>1306290</td>\n",
       "      <td>Municipality of the District of Lunenburg</td>\n",
       "      <td>missing</td>\n",
       "      <td>390558</td>\n",
       "      <td>missing</td>\n",
       "      <td>6</td>\n",
       "      <td>0</td>\n",
       "    </tr>\n",
       "    <tr>\n",
       "      <th>1</th>\n",
       "      <td>1306380</td>\n",
       "      <td>Chester District Municipality</td>\n",
       "      <td>missing</td>\n",
       "      <td>390558</td>\n",
       "      <td>missing</td>\n",
       "      <td>6</td>\n",
       "      <td>0</td>\n",
       "    </tr>\n",
       "    <tr>\n",
       "      <th>2</th>\n",
       "      <td>1306765</td>\n",
       "      <td>Region of Queens Municipality</td>\n",
       "      <td>missing</td>\n",
       "      <td>390558</td>\n",
       "      <td>missing</td>\n",
       "      <td>6</td>\n",
       "      <td>0</td>\n",
       "    </tr>\n",
       "    <tr>\n",
       "      <th>3</th>\n",
       "      <td>1307096</td>\n",
       "      <td>Municipality of the District of Shelburne</td>\n",
       "      <td>missing</td>\n",
       "      <td>390558</td>\n",
       "      <td>missing</td>\n",
       "      <td>6</td>\n",
       "      <td>52</td>\n",
       "    </tr>\n",
       "    <tr>\n",
       "      <th>4</th>\n",
       "      <td>1307160</td>\n",
       "      <td>Municipality of the District of Barrington</td>\n",
       "      <td>missing</td>\n",
       "      <td>390558</td>\n",
       "      <td>missing</td>\n",
       "      <td>6</td>\n",
       "      <td>44</td>\n",
       "    </tr>\n",
       "    <tr>\n",
       "      <th>...</th>\n",
       "      <td>...</td>\n",
       "      <td>...</td>\n",
       "      <td>...</td>\n",
       "      <td>...</td>\n",
       "      <td>...</td>\n",
       "      <td>...</td>\n",
       "      <td>...</td>\n",
       "    </tr>\n",
       "    <tr>\n",
       "      <th>69</th>\n",
       "      <td>17542441</td>\n",
       "      <td>Eskasoni First Nation</td>\n",
       "      <td>missing</td>\n",
       "      <td>390558</td>\n",
       "      <td>missing</td>\n",
       "      <td>6</td>\n",
       "      <td>2</td>\n",
       "    </tr>\n",
       "    <tr>\n",
       "      <th>70</th>\n",
       "      <td>17543377</td>\n",
       "      <td>Acadia First Nation</td>\n",
       "      <td>missing</td>\n",
       "      <td>390558</td>\n",
       "      <td>missing</td>\n",
       "      <td>6</td>\n",
       "      <td>3</td>\n",
       "    </tr>\n",
       "    <tr>\n",
       "      <th>71</th>\n",
       "      <td>17543391</td>\n",
       "      <td>Acadia First Nation</td>\n",
       "      <td>missing</td>\n",
       "      <td>390558</td>\n",
       "      <td>missing</td>\n",
       "      <td>6</td>\n",
       "      <td>1</td>\n",
       "    </tr>\n",
       "    <tr>\n",
       "      <th>72</th>\n",
       "      <td>17546215</td>\n",
       "      <td>Pictou Landing First Nation</td>\n",
       "      <td>missing</td>\n",
       "      <td>390558</td>\n",
       "      <td>missing</td>\n",
       "      <td>6</td>\n",
       "      <td>0</td>\n",
       "    </tr>\n",
       "    <tr>\n",
       "      <th>73</th>\n",
       "      <td>17546340</td>\n",
       "      <td>Pictou Landing First Nation</td>\n",
       "      <td>missing</td>\n",
       "      <td>390558</td>\n",
       "      <td>missing</td>\n",
       "      <td>6</td>\n",
       "      <td>3</td>\n",
       "    </tr>\n",
       "  </tbody>\n",
       "</table>\n",
       "<p>74 rows × 7 columns</p>\n",
       "</div>"
      ],
      "text/plain": [
       "          id                                        name official_name  \\\n",
       "0    1306290   Municipality of the District of Lunenburg       missing   \n",
       "1    1306380               Chester District Municipality       missing   \n",
       "2    1306765               Region of Queens Municipality       missing   \n",
       "3    1307096   Municipality of the District of Shelburne       missing   \n",
       "4    1307160  Municipality of the District of Barrington       missing   \n",
       "..       ...                                         ...           ...   \n",
       "69  17542441                       Eskasoni First Nation       missing   \n",
       "70  17543377                         Acadia First Nation       missing   \n",
       "71  17543391                         Acadia First Nation       missing   \n",
       "72  17546215                 Pictou Landing First Nation       missing   \n",
       "73  17546340                 Pictou Landing First Nation       missing   \n",
       "\n",
       "   parent_id ISO3166-2 admin_level  childs_num  \n",
       "0     390558   missing           6           0  \n",
       "1     390558   missing           6           0  \n",
       "2     390558   missing           6           0  \n",
       "3     390558   missing           6          52  \n",
       "4     390558   missing           6          44  \n",
       "..       ...       ...         ...         ...  \n",
       "69    390558   missing           6           2  \n",
       "70    390558   missing           6           3  \n",
       "71    390558   missing           6           1  \n",
       "72    390558   missing           6           0  \n",
       "73    390558   missing           6           3  \n",
       "\n",
       "[74 rows x 7 columns]"
      ]
     },
     "execution_count": 87,
     "metadata": {},
     "output_type": "execute_result"
    }
   ],
   "source": [
    "props = [{**dictRemoveKeys(relsDataIndex[id],[\"childs\", \"tags\"]), **relsDataIndex[id][\"tags\"], \"childs_num\":len(relsDataIndex[id][\"childs\"])} for id in relsDataIndex[\"390558\"][\"childs\"]]\n",
    "props = [{k:t.get(k, \"missing\") for k in getKeys} for t in props]\n",
    "plot(props)"
   ]
  },
  {
   "cell_type": "markdown",
   "metadata": {},
   "source": [
    "### lvl 3"
   ]
  },
  {
   "cell_type": "code",
   "execution_count": 88,
   "metadata": {},
   "outputs": [
    {
     "data": {
      "text/html": [
       "<div>\n",
       "<style scoped>\n",
       "    .dataframe tbody tr th:only-of-type {\n",
       "        vertical-align: middle;\n",
       "    }\n",
       "\n",
       "    .dataframe tbody tr th {\n",
       "        vertical-align: top;\n",
       "    }\n",
       "\n",
       "    .dataframe thead th {\n",
       "        text-align: right;\n",
       "    }\n",
       "</style>\n",
       "<table border=\"1\" class=\"dataframe\">\n",
       "  <thead>\n",
       "    <tr style=\"text-align: right;\">\n",
       "      <th></th>\n",
       "      <th>id</th>\n",
       "      <th>name</th>\n",
       "      <th>official_name</th>\n",
       "      <th>parent_id</th>\n",
       "      <th>ISO3166-2</th>\n",
       "      <th>admin_level</th>\n",
       "      <th>childs_num</th>\n",
       "    </tr>\n",
       "  </thead>\n",
       "  <tbody>\n",
       "    <tr>\n",
       "      <th>0</th>\n",
       "      <td>8467962</td>\n",
       "      <td>Jordan Falls</td>\n",
       "      <td>missing</td>\n",
       "      <td>1307096</td>\n",
       "      <td>missing</td>\n",
       "      <td>8</td>\n",
       "      <td>0</td>\n",
       "    </tr>\n",
       "    <tr>\n",
       "      <th>1</th>\n",
       "      <td>8651898</td>\n",
       "      <td>Welshtown</td>\n",
       "      <td>missing</td>\n",
       "      <td>1307096</td>\n",
       "      <td>missing</td>\n",
       "      <td>8</td>\n",
       "      <td>0</td>\n",
       "    </tr>\n",
       "    <tr>\n",
       "      <th>2</th>\n",
       "      <td>8652513</td>\n",
       "      <td>Lower Ohio</td>\n",
       "      <td>missing</td>\n",
       "      <td>1307096</td>\n",
       "      <td>missing</td>\n",
       "      <td>8</td>\n",
       "      <td>0</td>\n",
       "    </tr>\n",
       "    <tr>\n",
       "      <th>3</th>\n",
       "      <td>9150571</td>\n",
       "      <td>Little Port L'Hebert</td>\n",
       "      <td>missing</td>\n",
       "      <td>1307096</td>\n",
       "      <td>missing</td>\n",
       "      <td>8</td>\n",
       "      <td>0</td>\n",
       "    </tr>\n",
       "    <tr>\n",
       "      <th>4</th>\n",
       "      <td>9150595</td>\n",
       "      <td>Louis Head</td>\n",
       "      <td>missing</td>\n",
       "      <td>1307096</td>\n",
       "      <td>missing</td>\n",
       "      <td>8</td>\n",
       "      <td>0</td>\n",
       "    </tr>\n",
       "    <tr>\n",
       "      <th>5</th>\n",
       "      <td>9150596</td>\n",
       "      <td>West Middle Sable</td>\n",
       "      <td>missing</td>\n",
       "      <td>1307096</td>\n",
       "      <td>missing</td>\n",
       "      <td>8</td>\n",
       "      <td>0</td>\n",
       "    </tr>\n",
       "    <tr>\n",
       "      <th>6</th>\n",
       "      <td>9150597</td>\n",
       "      <td>East Sable River</td>\n",
       "      <td>missing</td>\n",
       "      <td>1307096</td>\n",
       "      <td>missing</td>\n",
       "      <td>8</td>\n",
       "      <td>0</td>\n",
       "    </tr>\n",
       "    <tr>\n",
       "      <th>7</th>\n",
       "      <td>9150742</td>\n",
       "      <td>Western Head</td>\n",
       "      <td>missing</td>\n",
       "      <td>1307096</td>\n",
       "      <td>missing</td>\n",
       "      <td>8</td>\n",
       "      <td>0</td>\n",
       "    </tr>\n",
       "    <tr>\n",
       "      <th>8</th>\n",
       "      <td>9150755</td>\n",
       "      <td>Little Harbour</td>\n",
       "      <td>missing</td>\n",
       "      <td>1307096</td>\n",
       "      <td>missing</td>\n",
       "      <td>8</td>\n",
       "      <td>0</td>\n",
       "    </tr>\n",
       "    <tr>\n",
       "      <th>9</th>\n",
       "      <td>9150756</td>\n",
       "      <td>East Side of Ragged Island</td>\n",
       "      <td>missing</td>\n",
       "      <td>1307096</td>\n",
       "      <td>missing</td>\n",
       "      <td>8</td>\n",
       "      <td>0</td>\n",
       "    </tr>\n",
       "    <tr>\n",
       "      <th>10</th>\n",
       "      <td>9150845</td>\n",
       "      <td>West Green Harbour</td>\n",
       "      <td>missing</td>\n",
       "      <td>1307096</td>\n",
       "      <td>missing</td>\n",
       "      <td>8</td>\n",
       "      <td>0</td>\n",
       "    </tr>\n",
       "    <tr>\n",
       "      <th>11</th>\n",
       "      <td>9150846</td>\n",
       "      <td>East Green Harbour</td>\n",
       "      <td>missing</td>\n",
       "      <td>1307096</td>\n",
       "      <td>missing</td>\n",
       "      <td>8</td>\n",
       "      <td>0</td>\n",
       "    </tr>\n",
       "    <tr>\n",
       "      <th>12</th>\n",
       "      <td>9150847</td>\n",
       "      <td>Canada Hill</td>\n",
       "      <td>missing</td>\n",
       "      <td>1307096</td>\n",
       "      <td>missing</td>\n",
       "      <td>8</td>\n",
       "      <td>0</td>\n",
       "    </tr>\n",
       "    <tr>\n",
       "      <th>13</th>\n",
       "      <td>9150849</td>\n",
       "      <td>Allendale</td>\n",
       "      <td>missing</td>\n",
       "      <td>1307096</td>\n",
       "      <td>missing</td>\n",
       "      <td>8</td>\n",
       "      <td>0</td>\n",
       "    </tr>\n",
       "    <tr>\n",
       "      <th>14</th>\n",
       "      <td>9150850</td>\n",
       "      <td>Osborne Harbour</td>\n",
       "      <td>missing</td>\n",
       "      <td>1307096</td>\n",
       "      <td>missing</td>\n",
       "      <td>8</td>\n",
       "      <td>0</td>\n",
       "    </tr>\n",
       "    <tr>\n",
       "      <th>15</th>\n",
       "      <td>9150851</td>\n",
       "      <td>Rockland</td>\n",
       "      <td>missing</td>\n",
       "      <td>1307096</td>\n",
       "      <td>missing</td>\n",
       "      <td>8</td>\n",
       "      <td>0</td>\n",
       "    </tr>\n",
       "    <tr>\n",
       "      <th>16</th>\n",
       "      <td>9150853</td>\n",
       "      <td>Port L'Hebert</td>\n",
       "      <td>missing</td>\n",
       "      <td>1307096</td>\n",
       "      <td>missing</td>\n",
       "      <td>8</td>\n",
       "      <td>0</td>\n",
       "    </tr>\n",
       "    <tr>\n",
       "      <th>17</th>\n",
       "      <td>9150854</td>\n",
       "      <td>Granite Village</td>\n",
       "      <td>missing</td>\n",
       "      <td>1307096</td>\n",
       "      <td>missing</td>\n",
       "      <td>8</td>\n",
       "      <td>0</td>\n",
       "    </tr>\n",
       "    <tr>\n",
       "      <th>18</th>\n",
       "      <td>9150855</td>\n",
       "      <td>Sable River</td>\n",
       "      <td>missing</td>\n",
       "      <td>1307096</td>\n",
       "      <td>missing</td>\n",
       "      <td>8</td>\n",
       "      <td>0</td>\n",
       "    </tr>\n",
       "    <tr>\n",
       "      <th>19</th>\n",
       "      <td>9150856</td>\n",
       "      <td>Jordan Lake</td>\n",
       "      <td>missing</td>\n",
       "      <td>1307096</td>\n",
       "      <td>missing</td>\n",
       "      <td>8</td>\n",
       "      <td>0</td>\n",
       "    </tr>\n",
       "    <tr>\n",
       "      <th>20</th>\n",
       "      <td>9151094</td>\n",
       "      <td>Lydgate</td>\n",
       "      <td>missing</td>\n",
       "      <td>1307096</td>\n",
       "      <td>missing</td>\n",
       "      <td>8</td>\n",
       "      <td>0</td>\n",
       "    </tr>\n",
       "    <tr>\n",
       "      <th>21</th>\n",
       "      <td>9151141</td>\n",
       "      <td>Upper Ohio</td>\n",
       "      <td>missing</td>\n",
       "      <td>1307096</td>\n",
       "      <td>missing</td>\n",
       "      <td>8</td>\n",
       "      <td>0</td>\n",
       "    </tr>\n",
       "    <tr>\n",
       "      <th>22</th>\n",
       "      <td>9151142</td>\n",
       "      <td>Indian Fields</td>\n",
       "      <td>missing</td>\n",
       "      <td>1307096</td>\n",
       "      <td>missing</td>\n",
       "      <td>8</td>\n",
       "      <td>0</td>\n",
       "    </tr>\n",
       "    <tr>\n",
       "      <th>23</th>\n",
       "      <td>9151143</td>\n",
       "      <td>Moosehead Island</td>\n",
       "      <td>missing</td>\n",
       "      <td>1307096</td>\n",
       "      <td>missing</td>\n",
       "      <td>8</td>\n",
       "      <td>0</td>\n",
       "    </tr>\n",
       "    <tr>\n",
       "      <th>24</th>\n",
       "      <td>9155632</td>\n",
       "      <td>North East Harbour</td>\n",
       "      <td>missing</td>\n",
       "      <td>1307096</td>\n",
       "      <td>missing</td>\n",
       "      <td>8</td>\n",
       "      <td>0</td>\n",
       "    </tr>\n",
       "    <tr>\n",
       "      <th>25</th>\n",
       "      <td>9155633</td>\n",
       "      <td>Ingomar</td>\n",
       "      <td>missing</td>\n",
       "      <td>1307096</td>\n",
       "      <td>missing</td>\n",
       "      <td>8</td>\n",
       "      <td>0</td>\n",
       "    </tr>\n",
       "    <tr>\n",
       "      <th>26</th>\n",
       "      <td>9155634</td>\n",
       "      <td>Atlantic</td>\n",
       "      <td>missing</td>\n",
       "      <td>1307096</td>\n",
       "      <td>missing</td>\n",
       "      <td>8</td>\n",
       "      <td>0</td>\n",
       "    </tr>\n",
       "    <tr>\n",
       "      <th>27</th>\n",
       "      <td>9155635</td>\n",
       "      <td>Roseway</td>\n",
       "      <td>missing</td>\n",
       "      <td>1307096</td>\n",
       "      <td>missing</td>\n",
       "      <td>8</td>\n",
       "      <td>0</td>\n",
       "    </tr>\n",
       "    <tr>\n",
       "      <th>28</th>\n",
       "      <td>9155636</td>\n",
       "      <td>Gunning Cove</td>\n",
       "      <td>missing</td>\n",
       "      <td>1307096</td>\n",
       "      <td>missing</td>\n",
       "      <td>8</td>\n",
       "      <td>0</td>\n",
       "    </tr>\n",
       "    <tr>\n",
       "      <th>29</th>\n",
       "      <td>9155637</td>\n",
       "      <td>McNutts Island</td>\n",
       "      <td>missing</td>\n",
       "      <td>1307096</td>\n",
       "      <td>missing</td>\n",
       "      <td>8</td>\n",
       "      <td>0</td>\n",
       "    </tr>\n",
       "    <tr>\n",
       "      <th>30</th>\n",
       "      <td>9155638</td>\n",
       "      <td>Lower Sandy Point</td>\n",
       "      <td>missing</td>\n",
       "      <td>1307096</td>\n",
       "      <td>missing</td>\n",
       "      <td>8</td>\n",
       "      <td>0</td>\n",
       "    </tr>\n",
       "    <tr>\n",
       "      <th>31</th>\n",
       "      <td>9155640</td>\n",
       "      <td>Sandy Point</td>\n",
       "      <td>missing</td>\n",
       "      <td>1307096</td>\n",
       "      <td>missing</td>\n",
       "      <td>8</td>\n",
       "      <td>0</td>\n",
       "    </tr>\n",
       "    <tr>\n",
       "      <th>32</th>\n",
       "      <td>9155642</td>\n",
       "      <td>Hartz Point</td>\n",
       "      <td>missing</td>\n",
       "      <td>1307096</td>\n",
       "      <td>missing</td>\n",
       "      <td>8</td>\n",
       "      <td>0</td>\n",
       "    </tr>\n",
       "    <tr>\n",
       "      <th>33</th>\n",
       "      <td>9265472</td>\n",
       "      <td>Port Saxon</td>\n",
       "      <td>missing</td>\n",
       "      <td>1307096</td>\n",
       "      <td>missing</td>\n",
       "      <td>8</td>\n",
       "      <td>0</td>\n",
       "    </tr>\n",
       "    <tr>\n",
       "      <th>34</th>\n",
       "      <td>9265473</td>\n",
       "      <td>Clyde River</td>\n",
       "      <td>missing</td>\n",
       "      <td>1307096</td>\n",
       "      <td>missing</td>\n",
       "      <td>8</td>\n",
       "      <td>0</td>\n",
       "    </tr>\n",
       "    <tr>\n",
       "      <th>35</th>\n",
       "      <td>9265474</td>\n",
       "      <td>Carleton Village</td>\n",
       "      <td>missing</td>\n",
       "      <td>1307096</td>\n",
       "      <td>missing</td>\n",
       "      <td>8</td>\n",
       "      <td>0</td>\n",
       "    </tr>\n",
       "    <tr>\n",
       "      <th>36</th>\n",
       "      <td>9265475</td>\n",
       "      <td>Churchover</td>\n",
       "      <td>missing</td>\n",
       "      <td>1307096</td>\n",
       "      <td>missing</td>\n",
       "      <td>8</td>\n",
       "      <td>0</td>\n",
       "    </tr>\n",
       "    <tr>\n",
       "      <th>37</th>\n",
       "      <td>9265476</td>\n",
       "      <td>East Jordan</td>\n",
       "      <td>missing</td>\n",
       "      <td>1307096</td>\n",
       "      <td>missing</td>\n",
       "      <td>8</td>\n",
       "      <td>0</td>\n",
       "    </tr>\n",
       "    <tr>\n",
       "      <th>38</th>\n",
       "      <td>9265477</td>\n",
       "      <td>Jordan Bay</td>\n",
       "      <td>missing</td>\n",
       "      <td>1307096</td>\n",
       "      <td>missing</td>\n",
       "      <td>8</td>\n",
       "      <td>0</td>\n",
       "    </tr>\n",
       "    <tr>\n",
       "      <th>39</th>\n",
       "      <td>9265478</td>\n",
       "      <td>Reids Hill</td>\n",
       "      <td>missing</td>\n",
       "      <td>1307096</td>\n",
       "      <td>missing</td>\n",
       "      <td>8</td>\n",
       "      <td>0</td>\n",
       "    </tr>\n",
       "    <tr>\n",
       "      <th>40</th>\n",
       "      <td>9265479</td>\n",
       "      <td>Birchtown</td>\n",
       "      <td>missing</td>\n",
       "      <td>1307096</td>\n",
       "      <td>missing</td>\n",
       "      <td>8</td>\n",
       "      <td>0</td>\n",
       "    </tr>\n",
       "    <tr>\n",
       "      <th>41</th>\n",
       "      <td>9265480</td>\n",
       "      <td>Upper Clyde River</td>\n",
       "      <td>missing</td>\n",
       "      <td>1307096</td>\n",
       "      <td>missing</td>\n",
       "      <td>8</td>\n",
       "      <td>0</td>\n",
       "    </tr>\n",
       "    <tr>\n",
       "      <th>42</th>\n",
       "      <td>9265518</td>\n",
       "      <td>Round Bay</td>\n",
       "      <td>missing</td>\n",
       "      <td>1307096</td>\n",
       "      <td>missing</td>\n",
       "      <td>8</td>\n",
       "      <td>0</td>\n",
       "    </tr>\n",
       "    <tr>\n",
       "      <th>43</th>\n",
       "      <td>9265519</td>\n",
       "      <td>Beaverdam Lake</td>\n",
       "      <td>missing</td>\n",
       "      <td>1307096</td>\n",
       "      <td>missing</td>\n",
       "      <td>8</td>\n",
       "      <td>0</td>\n",
       "    </tr>\n",
       "    <tr>\n",
       "      <th>44</th>\n",
       "      <td>9265605</td>\n",
       "      <td>Middle Ohio</td>\n",
       "      <td>missing</td>\n",
       "      <td>1307096</td>\n",
       "      <td>missing</td>\n",
       "      <td>8</td>\n",
       "      <td>0</td>\n",
       "    </tr>\n",
       "    <tr>\n",
       "      <th>45</th>\n",
       "      <td>9265754</td>\n",
       "      <td>Quinns Meadow</td>\n",
       "      <td>missing</td>\n",
       "      <td>1307096</td>\n",
       "      <td>missing</td>\n",
       "      <td>8</td>\n",
       "      <td>0</td>\n",
       "    </tr>\n",
       "    <tr>\n",
       "      <th>46</th>\n",
       "      <td>9265767</td>\n",
       "      <td>North West Harbour</td>\n",
       "      <td>missing</td>\n",
       "      <td>1307096</td>\n",
       "      <td>missing</td>\n",
       "      <td>8</td>\n",
       "      <td>0</td>\n",
       "    </tr>\n",
       "    <tr>\n",
       "      <th>47</th>\n",
       "      <td>9265889</td>\n",
       "      <td>Woodlawn</td>\n",
       "      <td>missing</td>\n",
       "      <td>1307096</td>\n",
       "      <td>missing</td>\n",
       "      <td>8</td>\n",
       "      <td>0</td>\n",
       "    </tr>\n",
       "    <tr>\n",
       "      <th>48</th>\n",
       "      <td>9674107</td>\n",
       "      <td>Jordan Ferry</td>\n",
       "      <td>missing</td>\n",
       "      <td>1307096</td>\n",
       "      <td>missing</td>\n",
       "      <td>8</td>\n",
       "      <td>0</td>\n",
       "    </tr>\n",
       "    <tr>\n",
       "      <th>49</th>\n",
       "      <td>9674198</td>\n",
       "      <td>Lake George</td>\n",
       "      <td>missing</td>\n",
       "      <td>1307096</td>\n",
       "      <td>missing</td>\n",
       "      <td>8</td>\n",
       "      <td>0</td>\n",
       "    </tr>\n",
       "    <tr>\n",
       "      <th>50</th>\n",
       "      <td>10512617</td>\n",
       "      <td>Jordan Branch</td>\n",
       "      <td>missing</td>\n",
       "      <td>1307096</td>\n",
       "      <td>missing</td>\n",
       "      <td>8</td>\n",
       "      <td>0</td>\n",
       "    </tr>\n",
       "    <tr>\n",
       "      <th>51</th>\n",
       "      <td>10514108</td>\n",
       "      <td>Port Clyde</td>\n",
       "      <td>missing</td>\n",
       "      <td>1307096</td>\n",
       "      <td>missing</td>\n",
       "      <td>8</td>\n",
       "      <td>0</td>\n",
       "    </tr>\n",
       "  </tbody>\n",
       "</table>\n",
       "</div>"
      ],
      "text/plain": [
       "          id                        name official_name parent_id ISO3166-2  \\\n",
       "0    8467962                Jordan Falls       missing   1307096   missing   \n",
       "1    8651898                   Welshtown       missing   1307096   missing   \n",
       "2    8652513                  Lower Ohio       missing   1307096   missing   \n",
       "3    9150571        Little Port L'Hebert       missing   1307096   missing   \n",
       "4    9150595                  Louis Head       missing   1307096   missing   \n",
       "5    9150596           West Middle Sable       missing   1307096   missing   \n",
       "6    9150597            East Sable River       missing   1307096   missing   \n",
       "7    9150742                Western Head       missing   1307096   missing   \n",
       "8    9150755              Little Harbour       missing   1307096   missing   \n",
       "9    9150756  East Side of Ragged Island       missing   1307096   missing   \n",
       "10   9150845          West Green Harbour       missing   1307096   missing   \n",
       "11   9150846          East Green Harbour       missing   1307096   missing   \n",
       "12   9150847                 Canada Hill       missing   1307096   missing   \n",
       "13   9150849                   Allendale       missing   1307096   missing   \n",
       "14   9150850             Osborne Harbour       missing   1307096   missing   \n",
       "15   9150851                    Rockland       missing   1307096   missing   \n",
       "16   9150853               Port L'Hebert       missing   1307096   missing   \n",
       "17   9150854             Granite Village       missing   1307096   missing   \n",
       "18   9150855                 Sable River       missing   1307096   missing   \n",
       "19   9150856                 Jordan Lake       missing   1307096   missing   \n",
       "20   9151094                     Lydgate       missing   1307096   missing   \n",
       "21   9151141                  Upper Ohio       missing   1307096   missing   \n",
       "22   9151142               Indian Fields       missing   1307096   missing   \n",
       "23   9151143            Moosehead Island       missing   1307096   missing   \n",
       "24   9155632          North East Harbour       missing   1307096   missing   \n",
       "25   9155633                     Ingomar       missing   1307096   missing   \n",
       "26   9155634                    Atlantic       missing   1307096   missing   \n",
       "27   9155635                     Roseway       missing   1307096   missing   \n",
       "28   9155636                Gunning Cove       missing   1307096   missing   \n",
       "29   9155637              McNutts Island       missing   1307096   missing   \n",
       "30   9155638           Lower Sandy Point       missing   1307096   missing   \n",
       "31   9155640                 Sandy Point       missing   1307096   missing   \n",
       "32   9155642                 Hartz Point       missing   1307096   missing   \n",
       "33   9265472                  Port Saxon       missing   1307096   missing   \n",
       "34   9265473                 Clyde River       missing   1307096   missing   \n",
       "35   9265474            Carleton Village       missing   1307096   missing   \n",
       "36   9265475                  Churchover       missing   1307096   missing   \n",
       "37   9265476                 East Jordan       missing   1307096   missing   \n",
       "38   9265477                  Jordan Bay       missing   1307096   missing   \n",
       "39   9265478                  Reids Hill       missing   1307096   missing   \n",
       "40   9265479                   Birchtown       missing   1307096   missing   \n",
       "41   9265480           Upper Clyde River       missing   1307096   missing   \n",
       "42   9265518                   Round Bay       missing   1307096   missing   \n",
       "43   9265519              Beaverdam Lake       missing   1307096   missing   \n",
       "44   9265605                 Middle Ohio       missing   1307096   missing   \n",
       "45   9265754               Quinns Meadow       missing   1307096   missing   \n",
       "46   9265767          North West Harbour       missing   1307096   missing   \n",
       "47   9265889                    Woodlawn       missing   1307096   missing   \n",
       "48   9674107                Jordan Ferry       missing   1307096   missing   \n",
       "49   9674198                 Lake George       missing   1307096   missing   \n",
       "50  10512617               Jordan Branch       missing   1307096   missing   \n",
       "51  10514108                  Port Clyde       missing   1307096   missing   \n",
       "\n",
       "   admin_level  childs_num  \n",
       "0            8           0  \n",
       "1            8           0  \n",
       "2            8           0  \n",
       "3            8           0  \n",
       "4            8           0  \n",
       "5            8           0  \n",
       "6            8           0  \n",
       "7            8           0  \n",
       "8            8           0  \n",
       "9            8           0  \n",
       "10           8           0  \n",
       "11           8           0  \n",
       "12           8           0  \n",
       "13           8           0  \n",
       "14           8           0  \n",
       "15           8           0  \n",
       "16           8           0  \n",
       "17           8           0  \n",
       "18           8           0  \n",
       "19           8           0  \n",
       "20           8           0  \n",
       "21           8           0  \n",
       "22           8           0  \n",
       "23           8           0  \n",
       "24           8           0  \n",
       "25           8           0  \n",
       "26           8           0  \n",
       "27           8           0  \n",
       "28           8           0  \n",
       "29           8           0  \n",
       "30           8           0  \n",
       "31           8           0  \n",
       "32           8           0  \n",
       "33           8           0  \n",
       "34           8           0  \n",
       "35           8           0  \n",
       "36           8           0  \n",
       "37           8           0  \n",
       "38           8           0  \n",
       "39           8           0  \n",
       "40           8           0  \n",
       "41           8           0  \n",
       "42           8           0  \n",
       "43           8           0  \n",
       "44           8           0  \n",
       "45           8           0  \n",
       "46           8           0  \n",
       "47           8           0  \n",
       "48           8           0  \n",
       "49           8           0  \n",
       "50           8           0  \n",
       "51           8           0  "
      ]
     },
     "execution_count": 88,
     "metadata": {},
     "output_type": "execute_result"
    }
   ],
   "source": [
    "props = [{**dictRemoveKeys(relsDataIndex[id],[\"childs\", \"tags\"]), **relsDataIndex[id][\"tags\"], \"childs_num\":len(relsDataIndex[id][\"childs\"])} for id in relsDataIndex[\"1307096\"][\"childs\"]]\n",
    "props = [{k:t.get(k, \"missing\") for k in getKeys} for t in props]\n",
    "plot(props)"
   ]
  },
  {
   "cell_type": "markdown",
   "metadata": {},
   "source": [
    "## Join add tree files"
   ]
  },
  {
   "cell_type": "markdown",
   "metadata": {},
   "source": [
    "### [OLD] make data tree"
   ]
  },
  {
   "cell_type": "code",
   "execution_count": 12,
   "metadata": {},
   "outputs": [],
   "source": [
    "base = list(map(lambda x: load()(x), glob.glob(\"data/*/addsDataMinTree.json\")))"
   ]
  },
  {
   "cell_type": "code",
   "execution_count": null,
   "metadata": {},
   "outputs": [],
   "source": [
    "# addsDataTree = makeAddsTree([countryID], {k:dictFilterKeys(v, keysMin) for k, v in relTagsIndex.items()})\n",
    "# len(addsDataTree[countryID][\"childs\"])"
   ]
  },
  {
   "cell_type": "code",
   "execution_count": 76,
   "metadata": {},
   "outputs": [],
   "source": [
    "dump(os.path.join(\"data\", \"addsDataMinJoinedTree.json\"), addsDataMinJoinedTree)"
   ]
  },
  {
   "cell_type": "markdown",
   "metadata": {},
   "source": [
    "### [Dev]"
   ]
  },
  {
   "cell_type": "code",
   "execution_count": 11,
   "metadata": {},
   "outputs": [],
   "source": [
    "ids = ['2','3']\n",
    "index = {'2':['a','b'],3:['c'],'a':['d']}\n",
    "dataIndex = {'2':{'tags':{'name':'name-2'}},\n",
    "             '3':{'tags':{'name':'name-3'}},\n",
    "             'a':{'tags':{'name':'name-a'}},\n",
    "             'b':{'tags':{'name':'name-b'}},\n",
    "             'c':{'tags':{'name':'name-c'}},\n",
    "             'd':{'tags':{'name':'name-d'}}}"
   ]
  },
  {
   "cell_type": "code",
   "execution_count": null,
   "metadata": {},
   "outputs": [],
   "source": [
    "htmlTree = makeHTMLTree(['2'], index, dataIndex)\n",
    "print(htmlTree)"
   ]
  },
  {
   "cell_type": "markdown",
   "metadata": {},
   "source": [
    "### [OLD] make tree for each country"
   ]
  },
  {
   "cell_type": "code",
   "execution_count": 15,
   "metadata": {},
   "outputs": [],
   "source": [
    "htmlTree = makeHTMLTree([cntrId], childsIndex, relsDataIndex)\n",
    "# print(htmlTree)"
   ]
  },
  {
   "cell_type": "code",
   "execution_count": 16,
   "metadata": {},
   "outputs": [],
   "source": [
    "import re\n",
    "htmlTree = re.sub(r'^<ul>', '', htmlTree)\n",
    "htmlTree = re.sub(r'</ul>$', '', htmlTree)"
   ]
  },
  {
   "cell_type": "code",
   "execution_count": 109,
   "metadata": {},
   "outputs": [],
   "source": [
    "soup = BeautifulSoup(htmlTree, 'html.parser')\n",
    "pretty_html = soup.prettify()\n",
    "dump(treeOutputDir, pretty_html)"
   ]
  },
  {
   "cell_type": "code",
   "execution_count": 69,
   "metadata": {},
   "outputs": [],
   "source": [
    "importlib.reload(toolsGeneral.main)\n",
    "importlib.reload(toolsOSM.overpass)\n",
    "from toolsGeneral.main import (load, dump)\n",
    "from toolsOSM.overpass import (makeTree, makeHTMLTree)"
   ]
  },
  {
   "cell_type": "markdown",
   "metadata": {},
   "source": [
    "### make countries trees and join"
   ]
  },
  {
   "cell_type": "code",
   "execution_count": 5,
   "metadata": {},
   "outputs": [
    {
     "name": "stdout",
     "output_type": "stream",
     "text": [
      "['1428125', '167454', '2202162', '288247']\n"
     ]
    }
   ],
   "source": [
    "countrs = list(filter(lambda x: re.match(r'\\d+', x), os.listdir(\"./data\")))\n",
    "print(countrs)"
   ]
  },
  {
   "cell_type": "code",
   "execution_count": 6,
   "metadata": {},
   "outputs": [],
   "source": [
    "idChildsDataIndex = list(map(lambda x: [x,load(f\"./data/{x}/childsIndex.json\"), load(f\"./data/{x}/relsDataIndex.json\")], countrs))"
   ]
  },
  {
   "cell_type": "code",
   "execution_count": 12,
   "metadata": {},
   "outputs": [],
   "source": [
    "reloadPckg()"
   ]
  },
  {
   "cell_type": "code",
   "execution_count": 7,
   "metadata": {},
   "outputs": [],
   "source": [
    "countrsTrees = list(map(lambda x: makeHTMLTree([x[0]], x[1], x[2]), idChildsDataIndex))"
   ]
  },
  {
   "cell_type": "code",
   "execution_count": 14,
   "metadata": {},
   "outputs": [
    {
     "name": "stdout",
     "output_type": "stream",
     "text": [
      "b\n"
     ]
    }
   ],
   "source": [
    "dir = {'1':'a', '2': 'b'}\n",
    "value = next((dir[key] for key in ['3','2'] if key in dir), None)\n",
    "print(value)"
   ]
  },
  {
   "cell_type": "code",
   "execution_count": 104,
   "metadata": {},
   "outputs": [
    {
     "data": {
      "text/plain": [
       "'b'"
      ]
     },
     "execution_count": 104,
     "metadata": {},
     "output_type": "execute_result"
    }
   ],
   "source": [
    "next((dir[key] for key in ['4','2'] if key in dir))"
   ]
  },
  {
   "cell_type": "code",
   "execution_count": 8,
   "metadata": {},
   "outputs": [],
   "source": [
    "def formattify(tree):\n",
    "    formatted = re.sub(r'^<ul>', '', tree)\n",
    "    formatted = re.sub(r'</ul>$', '', formatted)\n",
    "    soup = BeautifulSoup(formatted, 'html.parser')\n",
    "    formatted = soup.prettify()\n",
    "    return formatted\n",
    "\n",
    "formattedTree = \"<div id=\\\"addSelectionTree\\\"><ul>\" + ''.join(list(map(formattify, countrsTrees))) + \"</ul></div>\""
   ]
  },
  {
   "cell_type": "markdown",
   "metadata": {},
   "source": [
    "### insert tree into html page"
   ]
  },
  {
   "cell_type": "code",
   "execution_count": 9,
   "metadata": {},
   "outputs": [],
   "source": [
    "soup = BeautifulSoup(load(r\"c:\\Users\\gonta\\D\\study sync\\full stack\\projects\\administrative divisions query\\data\\indexBase.html\"), \"html.parser\")"
   ]
  },
  {
   "cell_type": "code",
   "execution_count": 10,
   "metadata": {},
   "outputs": [
    {
     "data": {
      "text/plain": [
       "<div id=\"addSelectionTree\">\n",
       "<!-- insert html tree here -->\n",
       "</div>"
      ]
     },
     "execution_count": 10,
     "metadata": {},
     "output_type": "execute_result"
    }
   ],
   "source": [
    "forReplace = BeautifulSoup(formattedTree, 'html.parser')\n",
    "toReplace  = soup.find(id=\"addSelectionTree\")\n",
    "toReplace.replace_with(forReplace)"
   ]
  },
  {
   "cell_type": "code",
   "execution_count": 11,
   "metadata": {},
   "outputs": [],
   "source": [
    "dump('./data/index.html', str(soup))"
   ]
  }
 ],
 "metadata": {
  "kernelspec": {
   "display_name": "myenv",
   "language": "python",
   "name": "python3"
  },
  "language_info": {
   "codemirror_mode": {
    "name": "ipython",
    "version": 3
   },
   "file_extension": ".py",
   "mimetype": "text/x-python",
   "name": "python",
   "nbconvert_exporter": "python",
   "pygments_lexer": "ipython3",
   "version": "3.13.0"
  }
 },
 "nbformat": 4,
 "nbformat_minor": 2
}
